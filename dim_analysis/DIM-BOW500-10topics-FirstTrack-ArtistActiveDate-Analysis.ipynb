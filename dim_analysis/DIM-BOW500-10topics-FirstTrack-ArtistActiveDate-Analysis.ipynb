{
 "cells": [
  {
   "cell_type": "code",
   "execution_count": 1,
   "metadata": {
    "collapsed": true
   },
   "outputs": [],
   "source": [
    "from gensim import corpora, utils\n",
    "from gensim.models.wrappers.dtmmodel import DtmModel\n",
    "import numpy as np\n",
    "import pandas as pd\n",
    "import os"
   ]
  },
  {
   "cell_type": "code",
   "execution_count": 2,
   "metadata": {
    "collapsed": true
   },
   "outputs": [],
   "source": [
    "MODEL_PATH = '../models/dim_bow500_10topics_firsttrack_artistactivedate'"
   ]
  },
  {
   "cell_type": "code",
   "execution_count": 3,
   "metadata": {
    "collapsed": true
   },
   "outputs": [],
   "source": [
    "# Load model\n",
    "dim_model = DtmModel.load(MODEL_PATH)"
   ]
  },
  {
   "cell_type": "code",
   "execution_count": 4,
   "metadata": {
    "collapsed": true
   },
   "outputs": [],
   "source": [
    "# Load artist info\n",
    "artists = pd.read_csv('../data/allmusic/artists_cleaned.csv')"
   ]
  },
  {
   "cell_type": "code",
   "execution_count": 5,
   "metadata": {
    "collapsed": true
   },
   "outputs": [],
   "source": [
    "# list of (artist_id, path) tuples\n",
    "bow_path_by_artist = []\n",
    "\n",
    "# Get paths to bow directories for each artist\n",
    "BOW_DIR = '../data/features/bow_500/'\n",
    "\n",
    "for artist_id in os.listdir(BOW_DIR):\n",
    "    # Check if active_start is missing\n",
    "    if int(np.isnan(float(artists[artists['id'] == int(artist_id)] ['active_start']))) == 0:\n",
    "        # save (artist_id, path, active_start) tuple\n",
    "        bow_path_by_artist.append((int(artist_id), BOW_DIR + artist_id + '/', int(artists[artists['id'] == int(artist_id)] ['active_start'])))\n",
    "\n",
    "# Order list by active period start for artist\n",
    "bow_path_by_artist.sort(key= lambda x: int(artists[artists['id'] == x[0]] ['active_start']))\n",
    "\n",
    "# Create counter for number of songs for each decade of active_start\n",
    "decade_counter = {int(k) : 0 for k in np.unique(artists['active_start'][~np.isnan(artists['active_start'])])}\n",
    "\n",
    "for id, path, year in bow_path_by_artist:\n",
    "    decade_counter[year] += 1\n",
    "\n",
    "# Lookup table for time_slice index v. decade\n",
    "time_slice_dict = {idx : year for (idx, year) in enumerate(sorted(decade_counter))}\n",
    "# List of counts for each time slice for DIM\n",
    "time_seq = [decade_counter[key] for key in sorted(decade_counter.keys())]"
   ]
  },
  {
   "cell_type": "markdown",
   "metadata": {},
   "source": [
    "# Get most influential songs for each topic"
   ]
  },
  {
   "cell_type": "code",
   "execution_count": 6,
   "metadata": {
    "collapsed": true
   },
   "outputs": [],
   "source": [
    "# Create (num_songs, num_topics) array of influence scores\n",
    "song_topic_inf_matrix = []\n",
    "\n",
    "for time_idx in range(len(dim_model.time_slices)):    \n",
    "    for song_idx in range(dim_model.time_slices[time_idx]):\n",
    "        song_inf_by_topic = [None] * dim_model.num_topics\n",
    "\n",
    "        for topic_idx in range(dim_model.num_topics):\n",
    "            song_inf_by_topic[topic_idx] = dim_model.influences_time[time_idx][song_idx][topic_idx]\n",
    "        \n",
    "        song_topic_inf_matrix.append(song_inf_by_topic)\n",
    "\n",
    "song_topic_inf_matrix = np.array(song_topic_inf_matrix)"
   ]
  },
  {
   "cell_type": "code",
   "execution_count": 7,
   "metadata": {},
   "outputs": [
    {
     "name": "stdout",
     "output_type": "stream",
     "text": [
      "Topic 0\n",
      "991    Sergey Rachmaninov\n",
      "Name: name, dtype: object\n",
      "0_Prelude in C Sharp Minor Op. 32.npy\n",
      "\n",
      "Topic 1\n",
      "7863    Bert Williams\n",
      "Name: name, dtype: object\n",
      "0_The Moon Shines on the Moonshine.npy\n",
      "\n",
      "Topic 2\n",
      "2184    Ferruccio Busoni\n",
      "Name: name, dtype: object\n",
      "0_La La Campanella.npy\n",
      "\n",
      "Topic 3\n",
      "10160    Paul Dukas\n",
      "Name: name, dtype: object\n",
      "0_Fantasmic! [From Fantasmic! (Disneyland)].npy\n",
      "\n",
      "Topic 4\n",
      "8312    Fisk University Jubilee Singers\n",
      "Name: name, dtype: object\n",
      "0_God Bless the USA.npy\n",
      "\n",
      "Topic 5\n",
      "2184    Ferruccio Busoni\n",
      "Name: name, dtype: object\n",
      "0_La La Campanella.npy\n",
      "\n",
      "Topic 6\n",
      "8312    Fisk University Jubilee Singers\n",
      "Name: name, dtype: object\n",
      "0_God Bless the USA.npy\n",
      "\n",
      "Topic 7\n",
      "8312    Fisk University Jubilee Singers\n",
      "Name: name, dtype: object\n",
      "0_God Bless the USA.npy\n",
      "\n",
      "Topic 8\n",
      "2184    Ferruccio Busoni\n",
      "Name: name, dtype: object\n",
      "0_La La Campanella.npy\n",
      "\n",
      "Topic 9\n",
      "1850    Edgard Varèse\n",
      "Name: name, dtype: object\n",
      "0_Poème Électronique.npy\n",
      "\n"
     ]
    }
   ],
   "source": [
    "# Get the indices of the most influential songs per topic\n",
    "most_inf_idx = song_topic_inf_matrix.argmax(axis=0)\n",
    "\n",
    "for topic_no, artist_idx in enumerate(most_inf_idx):\n",
    "    print \"Topic\", topic_no\n",
    "    # Lookup artist name\n",
    "    print artists[artists['id'] == bow_path_by_artist[artist_idx][0]]['name']\n",
    "    # Lookup name of sample\n",
    "    print os.listdir(bow_path_by_artist[artist_idx][1])[0]\n",
    "    \n",
    "    print"
   ]
  },
  {
   "cell_type": "markdown",
   "metadata": {},
   "source": [
    "# Correlation with AllMusic Influence Graph Degree"
   ]
  },
  {
   "cell_type": "markdown",
   "metadata": {},
   "source": [
    "# TODO: Baseline"
   ]
  },
  {
   "cell_type": "markdown",
   "metadata": {},
   "source": []
  },
  {
   "cell_type": "markdown",
   "metadata": {},
   "source": [
    "# TODO: Breakdown by Genre"
   ]
  },
  {
   "cell_type": "code",
   "execution_count": null,
   "metadata": {
    "collapsed": true
   },
   "outputs": [],
   "source": []
  }
 ],
 "metadata": {
  "kernelspec": {
   "display_name": "Python 2",
   "language": "python",
   "name": "python2"
  },
  "language_info": {
   "codemirror_mode": {
    "name": "ipython",
    "version": 2
   },
   "file_extension": ".py",
   "mimetype": "text/x-python",
   "name": "python",
   "nbconvert_exporter": "python",
   "pygments_lexer": "ipython2",
   "version": "2.7.13"
  }
 },
 "nbformat": 4,
 "nbformat_minor": 2
}
