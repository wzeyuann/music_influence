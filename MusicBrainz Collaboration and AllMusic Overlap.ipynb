{
 "cells": [
  {
   "cell_type": "code",
   "execution_count": 4,
   "metadata": {
    "collapsed": true
   },
   "outputs": [],
   "source": [
    "import networkx as nx\n",
    "import numpy as np\n",
    "import pandas as pd\n",
    "import matplotlib.pyplot as plt\n",
    "from collections import Counter\n",
    "\n",
    "import itertools\n",
    "from collections import OrderedDict\n",
    "from tqdm import tqdm_notebook, tqdm\n",
    "from scipy import stats\n",
    "\n",
    "%matplotlib inline"
   ]
  },
  {
   "cell_type": "markdown",
   "metadata": {},
   "source": [
    "# Load AllMusic Graph"
   ]
  },
  {
   "cell_type": "code",
   "execution_count": 2,
   "metadata": {
    "collapsed": true
   },
   "outputs": [],
   "source": [
    "# Load artist information\n",
    "artists = pd.read_csv('data/allmusic/artists.txt', header=None, names=['name', 'url', 'active_period', 'genres', 'styles'])\n",
    "# Load influence relationships\n",
    "influences = pd.read_csv('data/allmusic/influences.txt', header=None, names=['influencer_name', 'influencer_url', 'follower_name', 'follower_url'])"
   ]
  },
  {
   "cell_type": "code",
   "execution_count": 3,
   "metadata": {
    "collapsed": true
   },
   "outputs": [],
   "source": [
    "# Create directed graph from influence relationships\n",
    "allmusic = nx.DiGraph()\n",
    "\n",
    "for row in influences.itertuples():\n",
    "    allmusic.add_edge(row.influencer_name, row.follower_name)"
   ]
  },
  {
   "cell_type": "markdown",
   "metadata": {},
   "source": [
    "# Load MusicBrainz Collaborators"
   ]
  },
  {
   "cell_type": "code",
   "execution_count": 5,
   "metadata": {
    "collapsed": true
   },
   "outputs": [],
   "source": [
    "# Load collaboration data from MusicBrainz\n",
    "mb = nx.read_gexf('data/musicbrainz/sdn-unweighted.gexf')"
   ]
  },
  {
   "cell_type": "code",
   "execution_count": 6,
   "metadata": {},
   "outputs": [
    {
     "name": "stdout",
     "output_type": "stream",
     "text": [
      "Name: \n",
      "Type: Graph\n",
      "Number of nodes: 271442\n",
      "Number of edges: 650920\n",
      "Average degree:   4.7960\n"
     ]
    }
   ],
   "source": [
    "# Summary of collaboration graph\n",
    "print nx.info(mb)"
   ]
  },
  {
   "cell_type": "markdown",
   "metadata": {},
   "source": [
    "# Compute Edge Overlap Between AllMusic Graph and MusicBrainz Collaboration Graph"
   ]
  },
  {
   "cell_type": "code",
   "execution_count": 8,
   "metadata": {},
   "outputs": [],
   "source": [
    "allmusic_edges = set(allmusic.edges())\n",
    "# Define the reverse order of each edge tuple to be an influence relationship as well\n",
    "# since the mb graph is undirected\n",
    "mb_edges = set(mb.edges() + [(edge[1], edge[0]) for edge in mb.edges()])"
   ]
  },
  {
   "cell_type": "code",
   "execution_count": 16,
   "metadata": {},
   "outputs": [
    {
     "name": "stdout",
     "output_type": "stream",
     "text": [
      "Number of edges in intersection: 2936\n",
      "Percentage of AllMusic edges covered: 0.035312654102\n"
     ]
    }
   ],
   "source": [
    "print \"Number of edges in intersection:\", len(allmusic_edges.intersection(mb_edges))\n",
    "print \"Percentage of AllMusic edges covered:\", len(allmusic_edges.intersection(mb_edges)) / float(len(allmusic_edges))"
   ]
  },
  {
   "cell_type": "markdown",
   "metadata": {},
   "source": [
    "# TODO: Analysis of Intersection Between AllMusic/MusicBrainz Overlap & AllMusic/SecondHandSongs Data"
   ]
  }
 ],
 "metadata": {
  "kernelspec": {
   "display_name": "Python 2",
   "language": "python",
   "name": "python2"
  },
  "language_info": {
   "codemirror_mode": {
    "name": "ipython",
    "version": 2
   },
   "file_extension": ".py",
   "mimetype": "text/x-python",
   "name": "python",
   "nbconvert_exporter": "python",
   "pygments_lexer": "ipython2",
   "version": "2.7.13"
  }
 },
 "nbformat": 4,
 "nbformat_minor": 2
}
