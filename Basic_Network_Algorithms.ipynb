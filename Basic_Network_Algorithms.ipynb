{
 "cells": [
  {
   "cell_type": "code",
   "execution_count": 17,
   "metadata": {
    "collapsed": true
   },
   "outputs": [],
   "source": [
    "import numpy as np\n",
    "import pandas as pd\n",
    "import networkx as nx"
   ]
  },
  {
   "cell_type": "markdown",
   "metadata": {},
   "source": [
    "# Load Data"
   ]
  },
  {
   "cell_type": "code",
   "execution_count": 2,
   "metadata": {
    "collapsed": true
   },
   "outputs": [],
   "source": [
    "# Load reversed cover graph (i.e. edge (u, v) denotes u preceded v in the cover chain)\n",
    "cover_graph_reversed = nx.read_edgelist('networks/cover_graph_reversed.txt')"
   ]
  },
  {
   "cell_type": "code",
   "execution_count": 18,
   "metadata": {},
   "outputs": [],
   "source": [
    "# Load cover songs data\n",
    "covers = pd.read_csv('data/secondhandsongs/covers.csv')"
   ]
  },
  {
   "cell_type": "code",
   "execution_count": 19,
   "metadata": {},
   "outputs": [
    {
     "data": {
      "text/html": [
       "<div>\n",
       "<style>\n",
       "    .dataframe thead tr:only-child th {\n",
       "        text-align: right;\n",
       "    }\n",
       "\n",
       "    .dataframe thead th {\n",
       "        text-align: left;\n",
       "    }\n",
       "\n",
       "    .dataframe tbody tr th {\n",
       "        vertical-align: top;\n",
       "    }\n",
       "</style>\n",
       "<table border=\"1\" class=\"dataframe\">\n",
       "  <thead>\n",
       "    <tr style=\"text-align: right;\">\n",
       "      <th></th>\n",
       "      <th>work_id</th>\n",
       "      <th>work</th>\n",
       "      <th>adapted_work_id</th>\n",
       "      <th>adapted_work</th>\n",
       "      <th>performance_id</th>\n",
       "      <th>performance</th>\n",
       "      <th>performer_id</th>\n",
       "      <th>performer</th>\n",
       "      <th>artist_ids</th>\n",
       "      <th>artists</th>\n",
       "      <th>release_date</th>\n",
       "      <th>performance_date</th>\n",
       "    </tr>\n",
       "  </thead>\n",
       "  <tbody>\n",
       "    <tr>\n",
       "      <th>0</th>\n",
       "      <td>1</td>\n",
       "      <td>Petite fleur</td>\n",
       "      <td>1</td>\n",
       "      <td>Petite fleur</td>\n",
       "      <td>1</td>\n",
       "      <td>Petite fleur</td>\n",
       "      <td>1.0</td>\n",
       "      <td>Sidney Bechet</td>\n",
       "      <td>1</td>\n",
       "      <td>Sidney Bechet</td>\n",
       "      <td>1952</td>\n",
       "      <td>1952-01-21</td>\n",
       "    </tr>\n",
       "    <tr>\n",
       "      <th>1</th>\n",
       "      <td>1</td>\n",
       "      <td>Petite fleur</td>\n",
       "      <td>1</td>\n",
       "      <td>Petite fleur</td>\n",
       "      <td>2</td>\n",
       "      <td>Petite fleur</td>\n",
       "      <td>3.0</td>\n",
       "      <td>Chris Barber's Jazz Band</td>\n",
       "      <td>113638</td>\n",
       "      <td>Chris Barber Band</td>\n",
       "      <td>1959</td>\n",
       "      <td>NaN</td>\n",
       "    </tr>\n",
       "    <tr>\n",
       "      <th>2</th>\n",
       "      <td>1</td>\n",
       "      <td>Petite fleur</td>\n",
       "      <td>1</td>\n",
       "      <td>Petite fleur</td>\n",
       "      <td>39127</td>\n",
       "      <td>Petite fleur</td>\n",
       "      <td>494.0</td>\n",
       "      <td>Charlie Byrd</td>\n",
       "      <td>494</td>\n",
       "      <td>Charlie Byrd</td>\n",
       "      <td>2000-03-14</td>\n",
       "      <td>NaN</td>\n",
       "    </tr>\n",
       "    <tr>\n",
       "      <th>3</th>\n",
       "      <td>1</td>\n",
       "      <td>Petite fleur</td>\n",
       "      <td>1</td>\n",
       "      <td>Petite fleur</td>\n",
       "      <td>40915</td>\n",
       "      <td>Petite fleur</td>\n",
       "      <td>12897.0</td>\n",
       "      <td>Laurindo Almeida &amp; The Bossa Nova Allstars</td>\n",
       "      <td>12898</td>\n",
       "      <td>Laurindo Almeida</td>\n",
       "      <td>1962</td>\n",
       "      <td>NaN</td>\n",
       "    </tr>\n",
       "    <tr>\n",
       "      <th>4</th>\n",
       "      <td>1</td>\n",
       "      <td>Petite fleur</td>\n",
       "      <td>1</td>\n",
       "      <td>Petite fleur</td>\n",
       "      <td>66022</td>\n",
       "      <td>Petite fleur</td>\n",
       "      <td>27422.0</td>\n",
       "      <td>Bart Voet, Louis Debij, Sam Vloemans, Esmé Bos...</td>\n",
       "      <td>31845, 31849, 31846, 31847, 31848</td>\n",
       "      <td>Bart Voet, Gulli Gudmundsson, Louis Debij, Sam...</td>\n",
       "      <td>2001</td>\n",
       "      <td>NaN</td>\n",
       "    </tr>\n",
       "  </tbody>\n",
       "</table>\n",
       "</div>"
      ],
      "text/plain": [
       "   work_id          work  adapted_work_id  adapted_work  performance_id  \\\n",
       "0        1  Petite fleur                1  Petite fleur               1   \n",
       "1        1  Petite fleur                1  Petite fleur               2   \n",
       "2        1  Petite fleur                1  Petite fleur           39127   \n",
       "3        1  Petite fleur                1  Petite fleur           40915   \n",
       "4        1  Petite fleur                1  Petite fleur           66022   \n",
       "\n",
       "    performance  performer_id  \\\n",
       "0  Petite fleur           1.0   \n",
       "1  Petite fleur           3.0   \n",
       "2  Petite fleur         494.0   \n",
       "3  Petite fleur       12897.0   \n",
       "4  Petite fleur       27422.0   \n",
       "\n",
       "                                           performer  \\\n",
       "0                                      Sidney Bechet   \n",
       "1                           Chris Barber's Jazz Band   \n",
       "2                                       Charlie Byrd   \n",
       "3         Laurindo Almeida & The Bossa Nova Allstars   \n",
       "4  Bart Voet, Louis Debij, Sam Vloemans, Esmé Bos...   \n",
       "\n",
       "                          artist_ids  \\\n",
       "0                                  1   \n",
       "1                             113638   \n",
       "2                                494   \n",
       "3                              12898   \n",
       "4  31845, 31849, 31846, 31847, 31848   \n",
       "\n",
       "                                             artists release_date  \\\n",
       "0                                      Sidney Bechet         1952   \n",
       "1                                  Chris Barber Band         1959   \n",
       "2                                       Charlie Byrd   2000-03-14   \n",
       "3                                   Laurindo Almeida         1962   \n",
       "4  Bart Voet, Gulli Gudmundsson, Louis Debij, Sam...         2001   \n",
       "\n",
       "  performance_date  \n",
       "0       1952-01-21  \n",
       "1              NaN  \n",
       "2              NaN  \n",
       "3              NaN  \n",
       "4              NaN  "
      ]
     },
     "execution_count": 19,
     "metadata": {},
     "output_type": "execute_result"
    }
   ],
   "source": [
    "covers.head()"
   ]
  },
  {
   "cell_type": "code",
   "execution_count": 54,
   "metadata": {},
   "outputs": [],
   "source": [
    "# Load allmusic influence graph\n",
    "influence_graph = nx.read_edgelist('networks/allmusic_influence_graph.txt', create_using=nx.DiGraph(), nodetype=int)\n",
    "# Get reversed version (i.e. edge (u, v) denotes artist u was influenced by v)\n",
    "influence_graph_reversed = nx.reverse(influence_graph)"
   ]
  },
  {
   "cell_type": "code",
   "execution_count": 64,
   "metadata": {
    "collapsed": true
   },
   "outputs": [],
   "source": [
    "# Load allmusic artist information\n",
    "artists = pd.read_csv('data/allmusic/artists_cleaned.csv')"
   ]
  },
  {
   "cell_type": "code",
   "execution_count": 67,
   "metadata": {},
   "outputs": [],
   "source": [
    "# Create dictionary mapping from artist id to artist name\n",
    "influence_id_to_artist = pd.Series(artists['name'].values, index=artists['id'].values).to_dict()"
   ]
  },
  {
   "cell_type": "markdown",
   "metadata": {},
   "source": [
    "# Run PageRank & HITS on Reversed Cover Song Graph"
   ]
  },
  {
   "cell_type": "code",
   "execution_count": 78,
   "metadata": {},
   "outputs": [],
   "source": [
    "pagerank_dict = nx.pagerank(cover_graph_reversed)"
   ]
  },
  {
   "cell_type": "code",
   "execution_count": 14,
   "metadata": {
    "collapsed": true
   },
   "outputs": [],
   "source": [
    "# Sort by value, in descending order\n",
    "sorted_pagerank = sorted(pagerank_dict.items(), key=lambda x: x[1], reverse=True)"
   ]
  },
  {
   "cell_type": "code",
   "execution_count": 30,
   "metadata": {},
   "outputs": [
    {
     "data": {
      "text/plain": [
       "[(u'78114', 0.0010723592123481627),\n",
       " (u'8008', 0.0007595286026947051),\n",
       " (u'148', 0.0005942967347706583),\n",
       " (u'55509', 0.0005577869889327653),\n",
       " (u'103', 0.0004951883219657681)]"
      ]
     },
     "execution_count": 30,
     "metadata": {},
     "output_type": "execute_result"
    }
   ],
   "source": [
    "sorted_pagerank[:5]"
   ]
  },
  {
   "cell_type": "code",
   "execution_count": 28,
   "metadata": {
    "collapsed": true
   },
   "outputs": [],
   "source": [
    "hubs, authorities = nx.hits(cover_graph_reversed)"
   ]
  },
  {
   "cell_type": "code",
   "execution_count": 38,
   "metadata": {
    "collapsed": true
   },
   "outputs": [],
   "source": [
    "sorted_hubs = sorted(hubs.items(), key=lambda x: x[1], reverse=True)\n",
    "sorted_authorities = sorted(authorities.items(), key=lambda x: x[1], reverse=True)"
   ]
  },
  {
   "cell_type": "code",
   "execution_count": 39,
   "metadata": {},
   "outputs": [
    {
     "data": {
      "text/plain": [
       "[(u'816', 0.0015832143589290075),\n",
       " (u'319', 0.001460350301741755),\n",
       " (u'12626', 0.0014495832609566267),\n",
       " (u'2682', 0.0013677736596585989),\n",
       " (u'979', 0.001326868365627356),\n",
       " (u'2193', 0.001304841976290107),\n",
       " (u'5308', 0.0012689675860727374),\n",
       " (u'519', 0.001230118817490824),\n",
       " (u'7335', 0.0012066148892763019),\n",
       " (u'1095', 0.0011928431910041674)]"
      ]
     },
     "execution_count": 39,
     "metadata": {},
     "output_type": "execute_result"
    }
   ],
   "source": [
    "sorted_hubs[:10]"
   ]
  },
  {
   "cell_type": "code",
   "execution_count": 40,
   "metadata": {},
   "outputs": [
    {
     "data": {
      "text/plain": [
       "[(u'816', 0.0015832143589270145),\n",
       " (u'319', 0.0014603503017396806),\n",
       " (u'12626', 0.0014495832609563474),\n",
       " (u'2682', 0.0013677736596582177),\n",
       " (u'979', 0.0013268683656257013),\n",
       " (u'2193', 0.0013048419762881572),\n",
       " (u'5308', 0.001268967586069557),\n",
       " (u'519', 0.0012301188174897789),\n",
       " (u'7335', 0.001206614889277478),\n",
       " (u'1095', 0.0011928431910039755)]"
      ]
     },
     "execution_count": 40,
     "metadata": {},
     "output_type": "execute_result"
    }
   ],
   "source": [
    "sorted_authorities[:10]"
   ]
  },
  {
   "cell_type": "markdown",
   "metadata": {},
   "source": [
    "# Run PageRank & HITS on Reversed Cover Song Graph"
   ]
  },
  {
   "cell_type": "code",
   "execution_count": 56,
   "metadata": {
    "collapsed": true
   },
   "outputs": [],
   "source": [
    "influence_pagerank_dict = nx.pagerank(influence_graph_reversed)"
   ]
  },
  {
   "cell_type": "code",
   "execution_count": 57,
   "metadata": {
    "collapsed": true
   },
   "outputs": [],
   "source": [
    "# Sort by value, in descending order\n",
    "influence_sorted_pagerank = sorted(influence_pagerank_dict.items(), key=lambda x: x[1], reverse=True)"
   ]
  },
  {
   "cell_type": "code",
   "execution_count": 75,
   "metadata": {},
   "outputs": [
    {
     "name": "stdout",
     "output_type": "stream",
     "text": [
      "1. Louis Armstrong 0.00723579416235\n",
      "2. Scott Joplin 0.0069225229649\n",
      "3. The Beatles 0.00642019485134\n",
      "4. Charley Patton 0.00484325175019\n",
      "5. Jelly Roll Morton 0.00465115405069\n",
      "6. Uncle Dave Macon 0.00447063070519\n",
      "7. Fats Waller 0.00427570727595\n",
      "8. Bob Dylan 0.00374972007327\n",
      "9. Jimmie Rodgers 0.00357579092837\n",
      "10. James Brown 0.00350958350175\n",
      "11. King Oliver 0.00336848227306\n",
      "12. James P. Johnson 0.00319789547229\n",
      "13. Duke Ellington 0.00317864858045\n",
      "14. Chuck Berry 0.00305074471994\n",
      "15. Louis Jordan 0.00303283909014\n",
      "16. W.C. Handy 0.00298178797717\n",
      "17. Mike Walbridge 0.00292282573903\n",
      "18. The Rolling Stones 0.00287099431177\n",
      "19. Blind Lemon Jefferson 0.00276100426908\n",
      "20. The Mills Brothers 0.00270951367635\n",
      "21. The Velvet Underground 0.00265674847772\n",
      "22. Bessie Smith 0.00249454086781\n",
      "23. Little Richard 0.00246646882579\n",
      "24. Hobart Smith 0.00245348444039\n",
      "25. Jimi Hendrix 0.00242844811919\n"
     ]
    }
   ],
   "source": [
    "for i, (id, pr) in enumerate(influence_sorted_pagerank[:25]):\n",
    "    print str(i+1) + '.', influence_id_to_artist[id], pr"
   ]
  },
  {
   "cell_type": "code",
   "execution_count": 59,
   "metadata": {
    "collapsed": true
   },
   "outputs": [],
   "source": [
    "influence_hubs, influence_authorities = nx.hits(influence_graph_reversed)"
   ]
  },
  {
   "cell_type": "code",
   "execution_count": 60,
   "metadata": {
    "collapsed": true
   },
   "outputs": [],
   "source": [
    "influence_sorted_hubs = sorted(influence_hubs.items(), key=lambda x: x[1], reverse=True)\n",
    "influence_sorted_authorities = sorted(influence_authorities.items(), key=lambda x: x[1], reverse=True)"
   ]
  },
  {
   "cell_type": "code",
   "execution_count": 76,
   "metadata": {},
   "outputs": [
    {
     "name": "stdout",
     "output_type": "stream",
     "text": [
      "1. Alice Cooper 0.00110348982188\n",
      "2. Big Star 0.00109370733013\n",
      "3. David Bowie 0.00108967887121\n",
      "4. Pretenders 0.00105115555192\n",
      "5. Kiss 0.00104831566171\n",
      "6. Marc Bolan 0.00104660794901\n",
      "7. Cheap Trick 0.00103559410147\n",
      "8. R.E.M. 0.0010314313059\n",
      "9. Elvis Costello 0.00102806831943\n",
      "10. Matthew Sweet 0.00102232747235\n",
      "11. The Smithereens 0.00102188840634\n",
      "12. Nirvana 0.00101800204409\n",
      "13. U2 0.00100942903629\n",
      "14. The Feelies 0.00100240812138\n",
      "15. Pixies 0.00100149804361\n",
      "16. Guns N' Roses 0.000994724252373\n",
      "17. Alex Chilton 0.000988965933535\n",
      "18. Queen 0.00098342856001\n",
      "19. Aerosmith 0.00097653598413\n",
      "20. The Replacements 0.000970015466892\n",
      "21. Mott the Hoople 0.000968772419745\n",
      "22. Meat Puppets 0.000967947254137\n",
      "23. Blur 0.000964394519206\n",
      "24. Tom Petty 0.000963784215781\n",
      "25. Ramones 0.000959161467634\n"
     ]
    }
   ],
   "source": [
    "for i, (id, val) in enumerate(influence_sorted_hubs[:25]):\n",
    "    print str(i+1) + '.', influence_id_to_artist[id], val"
   ]
  },
  {
   "cell_type": "code",
   "execution_count": 77,
   "metadata": {},
   "outputs": [
    {
     "name": "stdout",
     "output_type": "stream",
     "text": [
      "1. The Beatles 0.0317775767464\n",
      "2. The Rolling Stones 0.0160075987704\n",
      "3. Bob Dylan 0.0156421704949\n",
      "4. The Kinks 0.0113188012462\n",
      "5. The Beach Boys 0.00927880102331\n",
      "6. The Velvet Underground 0.00906398551774\n",
      "7. The Byrds 0.00859470575419\n",
      "8. The Who 0.0084090816982\n",
      "9. David Bowie 0.00836046288874\n",
      "10. Jimi Hendrix 0.00733849735106\n",
      "11. Led Zeppelin 0.0067853388965\n",
      "12. Neil Young 0.00662716521235\n",
      "13. Chuck Berry 0.00592863930699\n",
      "14. The Stooges 0.00569313144221\n",
      "15. Pink Floyd 0.00564405026675\n",
      "16. Sex Pistols 0.00522758290692\n",
      "17. The Yardbirds 0.00470271466336\n",
      "18. Elvis Presley 0.00458206764831\n",
      "19. Big Star 0.00449945346147\n",
      "20. Ramones 0.00439805379567\n",
      "21. The Clash 0.00423098359496\n",
      "22. Hank Williams 0.00389138214382\n",
      "23. Cream 0.00368365489596\n",
      "24. Buddy Holly 0.00364467760073\n",
      "25. Black Sabbath 0.00353587360922\n"
     ]
    }
   ],
   "source": [
    "for i, (id, val) in enumerate(influence_sorted_authorities[:25]):\n",
    "    print str(i+1) + '.', influence_id_to_artist[id], val"
   ]
  }
 ],
 "metadata": {
  "kernelspec": {
   "display_name": "Python 2",
   "language": "python",
   "name": "python2"
  },
  "language_info": {
   "codemirror_mode": {
    "name": "ipython",
    "version": 2
   },
   "file_extension": ".py",
   "mimetype": "text/x-python",
   "name": "python",
   "nbconvert_exporter": "python",
   "pygments_lexer": "ipython2",
   "version": "2.7.13"
  }
 },
 "nbformat": 4,
 "nbformat_minor": 2
}
