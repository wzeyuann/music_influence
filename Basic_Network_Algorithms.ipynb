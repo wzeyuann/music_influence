{
 "cells": [
  {
   "cell_type": "code",
   "execution_count": 9,
   "metadata": {
    "collapsed": true
   },
   "outputs": [],
   "source": [
    "import numpy as np\n",
    "import pandas as pd\n",
    "import networkx as nx\n",
    "import tabulate"
   ]
  },
  {
   "cell_type": "markdown",
   "metadata": {},
   "source": [
    "# Load Data"
   ]
  },
  {
   "cell_type": "code",
   "execution_count": 2,
   "metadata": {
    "collapsed": true
   },
   "outputs": [],
   "source": [
    "# Load reversed cover graph (i.e. edge (u, v) denotes u preceded v in the cover chain)\n",
    "cover_graph_reversed = nx.read_edgelist('networks/cover_graph_reversed.txt', nodetype=int)"
   ]
  },
  {
   "cell_type": "code",
   "execution_count": 102,
   "metadata": {
    "collapsed": true
   },
   "outputs": [],
   "source": [
    "# Load cover songs data\n",
    "covers = pd.read_csv('data/secondhandsongs/covers.csv')\n",
    "covers = covers.dropna(subset=['release_date', 'performer', 'artists'])"
   ]
  },
  {
   "cell_type": "code",
   "execution_count": 120,
   "metadata": {
    "collapsed": true
   },
   "outputs": [],
   "source": [
    "cover_id_to_artist = {}\n",
    "\n",
    "for artists_str, ids_str  in zip(covers['artists'].values, covers['artist_ids'].values):\n",
    "    artists = artists_str.split(',')\n",
    "    ids = ids_str.split(',') \n",
    "    \n",
    "    # Try to match id to artist name\n",
    "    if len(artists) == len(ids):\n",
    "        for i in range(len(artists)):\n",
    "            cover_id_to_artist[int(ids[i])] = artists[i].strip()"
   ]
  },
  {
   "cell_type": "code",
   "execution_count": 3,
   "metadata": {
    "collapsed": true
   },
   "outputs": [],
   "source": [
    "# Load allmusic influence graph\n",
    "influence_graph = nx.read_edgelist('networks/allmusic_influence_graph.txt', create_using=nx.DiGraph(), nodetype=int)\n",
    "# Get reversed version (i.e. edge (u, v) denotes artist u was influenced by v)\n",
    "influence_graph_reversed = nx.reverse(influence_graph)"
   ]
  },
  {
   "cell_type": "code",
   "execution_count": 4,
   "metadata": {
    "collapsed": true
   },
   "outputs": [],
   "source": [
    "# Load allmusic artist information\n",
    "artists = pd.read_csv('data/allmusic/artists_cleaned.csv')"
   ]
  },
  {
   "cell_type": "code",
   "execution_count": 5,
   "metadata": {
    "collapsed": true
   },
   "outputs": [],
   "source": [
    "# Create dictionary mapping from artist id to artist name\n",
    "influence_id_to_artist = pd.Series(artists['name'].values, index=artists['id'].values).to_dict()"
   ]
  },
  {
   "cell_type": "markdown",
   "metadata": {},
   "source": [
    "# Run PageRank & HITS on Reversed Cover Song Graph (Next Immediate Neighbor Assumption)"
   ]
  },
  {
   "cell_type": "code",
   "execution_count": 121,
   "metadata": {
    "collapsed": true
   },
   "outputs": [],
   "source": [
    "pagerank_dict = nx.pagerank(cover_graph_reversed)"
   ]
  },
  {
   "cell_type": "code",
   "execution_count": 122,
   "metadata": {
    "collapsed": true
   },
   "outputs": [],
   "source": [
    "# Sort by value, in descending order\n",
    "sorted_pagerank = sorted(pagerank_dict.items(), key=lambda x: x[1], reverse=True)"
   ]
  },
  {
   "cell_type": "code",
   "execution_count": 123,
   "metadata": {},
   "outputs": [
    {
     "name": "stdout",
     "output_type": "stream",
     "text": [
      "1. Top of the Pops 0.00107235921235\n",
      "2. Vitamin String Quartet 0.000759528602695\n",
      "3. Willie Nelson 0.000594296734771\n",
      "4. Glee Cast 0.000557786988933\n",
      "5. Elvis Presley 0.000495188321966\n",
      "6. Johnny Cash 0.000456302568276\n",
      "7. James Last 0.00045548237444\n",
      "8. Cliff Richard 0.000427189865568\n",
      "9. Sweet Little Band 0.000401461321822\n",
      "10. Johnny Mathis 0.000401130572528\n",
      "11. Ella Fitzgerald 0.000393695998541\n",
      "12. Ray Conniff 0.000384013541031\n",
      "13. Tom Jones 0.00038244373999\n",
      "14. Bob Dylan 0.000378421550853\n",
      "15. Frank Sinatra 0.000372429369872\n",
      "16. Beelzebubs 0.000370854782234\n",
      "17. Geoff Love 0.000365205830214\n",
      "18. Eugene Chadbourne 0.000358913005778\n",
      "19. Bing Crosby 0.000356657105374\n",
      "20. Depeche Mode 0.000354156331196\n",
      "21. Jerry Lee Lewis 0.000354033161514\n",
      "22. Mina 0.000352882844068\n",
      "23. Raga Rockers 0.000349281921077\n",
      "24. The Jordanaires 0.000348331456455\n",
      "25. Tony Bennett 0.000345457139346\n"
     ]
    }
   ],
   "source": [
    "for i, (id, pr) in enumerate(sorted_pagerank[:25]):\n",
    "    print str(i+1) + '.', cover_id_to_artist[id], pr"
   ]
  },
  {
   "cell_type": "code",
   "execution_count": 124,
   "metadata": {
    "collapsed": true
   },
   "outputs": [],
   "source": [
    "hubs, authorities = nx.hits(cover_graph_reversed)"
   ]
  },
  {
   "cell_type": "code",
   "execution_count": 125,
   "metadata": {
    "collapsed": true
   },
   "outputs": [],
   "source": [
    "sorted_hubs = sorted(hubs.items(), key=lambda x: x[1], reverse=True)\n",
    "sorted_authorities = sorted(authorities.items(), key=lambda x: x[1], reverse=True)"
   ]
  },
  {
   "cell_type": "code",
   "execution_count": 126,
   "metadata": {},
   "outputs": [
    {
     "name": "stdout",
     "output_type": "stream",
     "text": [
      "1. Ella Fitzgerald 0.00158321435893\n",
      "2. Frank Sinatra 0.00146035030174\n",
      "3. Oscar Peterson 0.00144958326096\n",
      "4. Tony Bennett 0.00136777365966\n",
      "5. Sarah Vaughan 0.00132686836563\n",
      "6. Johnny Mathis 0.00130484197629\n",
      "7. Ray Conniff 0.00126896758607\n",
      "8. Peggy Lee 0.00123011881749\n",
      "9. George Shearing 0.00120661488928\n",
      "10. Mel Tormé 0.001192843191\n",
      "11. Rosemary Clooney 0.00116013245412\n",
      "12. Ray Brown 0.00111152044699\n",
      "13. Sammy Davis Jr. 0.00107092845171\n",
      "14. Carmen McRae 0.00106544599234\n",
      "15. Geoff Love 0.00104736267089\n",
      "16. Nelson Riddle 0.00102375498718\n",
      "17. Hank Jones 0.00102358788005\n",
      "18. Joe Pass 0.00101917520263\n",
      "19. André Previn 0.00100392961037\n",
      "20. Count Basie 0.000995606551973\n",
      "21. Nancy Wilson 0.000992172627021\n",
      "22. Dave McKenna 0.0009867048865\n",
      "23. Bing Crosby 0.000976864673444\n",
      "24. Chet Baker 0.000969477942094\n",
      "25. Helen Merrill 0.000967052744633\n"
     ]
    }
   ],
   "source": [
    "for i, (id, val) in enumerate(sorted_hubs[:25]):\n",
    "    print str(i+1) + '.', cover_id_to_artist[id], val"
   ]
  },
  {
   "cell_type": "code",
   "execution_count": 127,
   "metadata": {},
   "outputs": [
    {
     "name": "stdout",
     "output_type": "stream",
     "text": [
      "1. Ella Fitzgerald 0.00158321435893\n",
      "2. Frank Sinatra 0.00146035030174\n",
      "3. Oscar Peterson 0.00144958326096\n",
      "4. Tony Bennett 0.00136777365966\n",
      "5. Sarah Vaughan 0.00132686836563\n",
      "6. Johnny Mathis 0.00130484197629\n",
      "7. Ray Conniff 0.00126896758607\n",
      "8. Peggy Lee 0.00123011881749\n",
      "9. George Shearing 0.00120661488928\n",
      "10. Mel Tormé 0.001192843191\n",
      "11. Rosemary Clooney 0.00116013245412\n",
      "12. Ray Brown 0.00111152044699\n",
      "13. Sammy Davis Jr. 0.00107092845171\n",
      "14. Carmen McRae 0.00106544599234\n",
      "15. Geoff Love 0.00104736267089\n",
      "16. Nelson Riddle 0.00102375498718\n",
      "17. Hank Jones 0.00102358788005\n",
      "18. Joe Pass 0.00101917520263\n",
      "19. André Previn 0.00100392961037\n",
      "20. Count Basie 0.000995606551971\n",
      "21. Nancy Wilson 0.000992172627021\n",
      "22. Dave McKenna 0.000986704886502\n",
      "23. Bing Crosby 0.000976864673442\n",
      "24. Chet Baker 0.000969477942094\n",
      "25. Helen Merrill 0.000967052744633\n"
     ]
    }
   ],
   "source": [
    "for i, (id, val) in enumerate(sorted_authorities[:25]):\n",
    "    print str(i+1) + '.', cover_id_to_artist[id], val"
   ]
  },
  {
   "cell_type": "markdown",
   "metadata": {},
   "source": [
    "# Run PageRank & HITS on Reversed Cover Song Graph (First Artist Assumption)"
   ]
  },
  {
   "cell_type": "code",
   "execution_count": 128,
   "metadata": {
    "collapsed": true
   },
   "outputs": [],
   "source": [
    "cover_graph_first_artist = nx.read_edgelist('networks/cover_graph_first_artist_assumption_reversed.txt', nodetype=int)"
   ]
  },
  {
   "cell_type": "code",
   "execution_count": 129,
   "metadata": {
    "collapsed": true
   },
   "outputs": [],
   "source": [
    "pagerank_dict_first = nx.pagerank(cover_graph_first_artist)"
   ]
  },
  {
   "cell_type": "code",
   "execution_count": 130,
   "metadata": {
    "collapsed": true
   },
   "outputs": [],
   "source": [
    "# Sort by value, in descending order\n",
    "sorted_pagerank_first = sorted(pagerank_dict_first.items(), key=lambda x: x[1], reverse=True)"
   ]
  },
  {
   "cell_type": "code",
   "execution_count": 131,
   "metadata": {},
   "outputs": [
    {
     "name": "stdout",
     "output_type": "stream",
     "text": [
      "1. Depeche Mode 0.00396074991902\n",
      "2. The Beatles 0.002351704653\n",
      "3. Frank Sinatra 0.00171747659942\n",
      "4. Ramones 0.00167773822291\n",
      "5. Paul Whiteman 0.00158502448715\n",
      "6. Bing Crosby 0.00155838287807\n",
      "7. Bob Dylan 0.00150065346032\n",
      "8. David Bowie 0.00146578857574\n",
      "9. Duke Ellington 0.00134898885876\n",
      "10. Top of the Pops 0.00132759996379\n",
      "11. Joy Division 0.00127387148041\n",
      "12. Helen Jepson 0.00127184002859\n",
      "13. Kiss 0.0012040341883\n",
      "14. New Order 0.00119613435544\n",
      "15. The Cure 0.00118014680383\n",
      "16. Elvis Presley 0.00116872950535\n",
      "17. Bruce Springsteen 0.00104647778623\n",
      "18. The Rolling Stones 0.00100432757706\n",
      "19. Louis Armstrong 0.000998215980967\n",
      "20. Guy Lombardo 0.000983772861698\n",
      "21. AC/DC 0.000959007294547\n",
      "22. Led Zeppelin 0.000934777187908\n",
      "23. Pink Floyd 0.000933960159308\n",
      "24. Paul Mickelson 0.000927527688219\n",
      "25. Caravelli 0.000926967108266\n"
     ]
    }
   ],
   "source": [
    "for i, (id, pr) in enumerate(sorted_pagerank_first[:25]):\n",
    "    print str(i+1) + '.', cover_id_to_artist[id], pr"
   ]
  },
  {
   "cell_type": "markdown",
   "metadata": {},
   "source": [
    "# Run PageRank & HITS on AllMusic Influence Graph"
   ]
  },
  {
   "cell_type": "code",
   "execution_count": 6,
   "metadata": {
    "collapsed": true
   },
   "outputs": [],
   "source": [
    "influence_pagerank_dict = nx.pagerank(influence_graph_reversed)"
   ]
  },
  {
   "cell_type": "code",
   "execution_count": 7,
   "metadata": {
    "collapsed": true
   },
   "outputs": [],
   "source": [
    "# Sort by value, in descending order\n",
    "influence_sorted_pagerank = sorted(influence_pagerank_dict.items(), key=lambda x: x[1], reverse=True)"
   ]
  },
  {
   "cell_type": "code",
   "execution_count": 8,
   "metadata": {},
   "outputs": [
    {
     "name": "stdout",
     "output_type": "stream",
     "text": [
      "1. Louis Armstrong 0.00723579416235\n",
      "2. Scott Joplin 0.0069225229649\n",
      "3. The Beatles 0.00642019485134\n",
      "4. Charley Patton 0.00484325175019\n",
      "5. Jelly Roll Morton 0.00465115405069\n",
      "6. Uncle Dave Macon 0.00447063070519\n",
      "7. Fats Waller 0.00427570727595\n",
      "8. Bob Dylan 0.00374972007327\n",
      "9. Jimmie Rodgers 0.00357579092837\n",
      "10. James Brown 0.00350958350175\n",
      "11. King Oliver 0.00336848227306\n",
      "12. James P. Johnson 0.00319789547229\n",
      "13. Duke Ellington 0.00317864858045\n",
      "14. Chuck Berry 0.00305074471994\n",
      "15. Louis Jordan 0.00303283909014\n",
      "16. W.C. Handy 0.00298178797717\n",
      "17. Mike Walbridge 0.00292282573903\n",
      "18. The Rolling Stones 0.00287099431177\n",
      "19. Blind Lemon Jefferson 0.00276100426908\n",
      "20. The Mills Brothers 0.00270951367635\n",
      "21. The Velvet Underground 0.00265674847772\n",
      "22. Bessie Smith 0.00249454086781\n",
      "23. Little Richard 0.00246646882579\n",
      "24. Hobart Smith 0.00245348444039\n",
      "25. Jimi Hendrix 0.00242844811919\n"
     ]
    }
   ],
   "source": [
    "for i, (id, pr) in enumerate(influence_sorted_pagerank[:25]):\n",
    "    print str(i+1) + '.', influence_id_to_artist[id], pr"
   ]
  },
  {
   "cell_type": "code",
   "execution_count": 11,
   "metadata": {},
   "outputs": [],
   "source": [
    "# Prepare for pretty printing for insertion into Latex\n",
    "table_matrix = []\n",
    "\n",
    "for i, (id, pr) in enumerate(influence_sorted_pagerank[:25]):\n",
    "    table_matrix.append([influence_id_to_artist[id], pr])"
   ]
  },
  {
   "cell_type": "code",
   "execution_count": 18,
   "metadata": {},
   "outputs": [
    {
     "name": "stdout",
     "output_type": "stream",
     "text": [
      "\\begin{tabular}{lr}\n",
      "\\hline\n",
      " Artist                 &   PageRank \\\\\n",
      "\\hline\n",
      " Louis Armstrong        & 0.00723579 \\\\\n",
      " Scott Joplin           & 0.00692252 \\\\\n",
      " The Beatles            & 0.00642019 \\\\\n",
      " Charley Patton         & 0.00484325 \\\\\n",
      " Jelly Roll Morton      & 0.00465115 \\\\\n",
      " Uncle Dave Macon       & 0.00447063 \\\\\n",
      " Fats Waller            & 0.00427571 \\\\\n",
      " Bob Dylan              & 0.00374972 \\\\\n",
      " Jimmie Rodgers         & 0.00357579 \\\\\n",
      " James Brown            & 0.00350958 \\\\\n",
      " King Oliver            & 0.00336848 \\\\\n",
      " James P. Johnson       & 0.0031979  \\\\\n",
      " Duke Ellington         & 0.00317865 \\\\\n",
      " Chuck Berry            & 0.00305074 \\\\\n",
      " Louis Jordan           & 0.00303284 \\\\\n",
      " W.C. Handy             & 0.00298179 \\\\\n",
      " Mike Walbridge         & 0.00292283 \\\\\n",
      " The Rolling Stones     & 0.00287099 \\\\\n",
      " Blind Lemon Jefferson  & 0.002761   \\\\\n",
      " The Mills Brothers     & 0.00270951 \\\\\n",
      " The Velvet Underground & 0.00265675 \\\\\n",
      " Bessie Smith           & 0.00249454 \\\\\n",
      " Little Richard         & 0.00246647 \\\\\n",
      " Hobart Smith           & 0.00245348 \\\\\n",
      " Jimi Hendrix           & 0.00242845 \\\\\n",
      "\\hline\n",
      "\\end{tabular}\n"
     ]
    }
   ],
   "source": [
    "print tabulate.tabulate(table_matrix, headers=['Artist', 'PageRank'],tablefmt='latex')"
   ]
  },
  {
   "cell_type": "code",
   "execution_count": 59,
   "metadata": {
    "collapsed": true
   },
   "outputs": [],
   "source": [
    "influence_hubs, influence_authorities = nx.hits(influence_graph_reversed)"
   ]
  },
  {
   "cell_type": "code",
   "execution_count": 60,
   "metadata": {
    "collapsed": true
   },
   "outputs": [],
   "source": [
    "influence_sorted_hubs = sorted(influence_hubs.items(), key=lambda x: x[1], reverse=True)\n",
    "influence_sorted_authorities = sorted(influence_authorities.items(), key=lambda x: x[1], reverse=True)"
   ]
  },
  {
   "cell_type": "code",
   "execution_count": 76,
   "metadata": {},
   "outputs": [
    {
     "name": "stdout",
     "output_type": "stream",
     "text": [
      "1. Alice Cooper 0.00110348982188\n",
      "2. Big Star 0.00109370733013\n",
      "3. David Bowie 0.00108967887121\n",
      "4. Pretenders 0.00105115555192\n",
      "5. Kiss 0.00104831566171\n",
      "6. Marc Bolan 0.00104660794901\n",
      "7. Cheap Trick 0.00103559410147\n",
      "8. R.E.M. 0.0010314313059\n",
      "9. Elvis Costello 0.00102806831943\n",
      "10. Matthew Sweet 0.00102232747235\n",
      "11. The Smithereens 0.00102188840634\n",
      "12. Nirvana 0.00101800204409\n",
      "13. U2 0.00100942903629\n",
      "14. The Feelies 0.00100240812138\n",
      "15. Pixies 0.00100149804361\n",
      "16. Guns N' Roses 0.000994724252373\n",
      "17. Alex Chilton 0.000988965933535\n",
      "18. Queen 0.00098342856001\n",
      "19. Aerosmith 0.00097653598413\n",
      "20. The Replacements 0.000970015466892\n",
      "21. Mott the Hoople 0.000968772419745\n",
      "22. Meat Puppets 0.000967947254137\n",
      "23. Blur 0.000964394519206\n",
      "24. Tom Petty 0.000963784215781\n",
      "25. Ramones 0.000959161467634\n"
     ]
    }
   ],
   "source": [
    "for i, (id, val) in enumerate(influence_sorted_hubs[:25]):\n",
    "    print str(i+1) + '.', influence_id_to_artist[id], val"
   ]
  },
  {
   "cell_type": "markdown",
   "metadata": {},
   "source": [
    "# PageRank Intersection"
   ]
  },
  {
   "cell_type": "code",
   "execution_count": 137,
   "metadata": {},
   "outputs": [
    {
     "data": {
      "text/plain": [
       "{'Bob Dylan',\n",
       " 'Duke Ellington',\n",
       " 'Louis Armstrong',\n",
       " 'The Beatles',\n",
       " 'The Rolling Stones'}"
      ]
     },
     "execution_count": 137,
     "metadata": {},
     "output_type": "execute_result"
    }
   ],
   "source": [
    "set([influence_id_to_artist[id] for (id, pr) in influence_sorted_pagerank[:25]]).intersection(set([cover_id_to_artist[id] for (id, pr) in sorted_pagerank_first[:25]]))"
   ]
  }
 ],
 "metadata": {
  "kernelspec": {
   "display_name": "Python 2",
   "language": "python",
   "name": "python2"
  },
  "language_info": {
   "codemirror_mode": {
    "name": "ipython",
    "version": 2
   },
   "file_extension": ".py",
   "mimetype": "text/x-python",
   "name": "python",
   "nbconvert_exporter": "python",
   "pygments_lexer": "ipython2",
   "version": "2.7.13"
  }
 },
 "nbformat": 4,
 "nbformat_minor": 2
}
