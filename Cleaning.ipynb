{
 "cells": [
  {
   "cell_type": "code",
   "execution_count": 2,
   "metadata": {
    "collapsed": true
   },
   "outputs": [],
   "source": [
    "import networkx as nx\n",
    "import numpy as np\n",
    "import pandas as pd"
   ]
  },
  {
   "cell_type": "markdown",
   "metadata": {},
   "source": [
    "# Create Cleaned Version of AllMusic Data"
   ]
  },
  {
   "cell_type": "markdown",
   "metadata": {},
   "source": [
    "## Influence Relationships"
   ]
  },
  {
   "cell_type": "code",
   "execution_count": 15,
   "metadata": {
    "collapsed": true
   },
   "outputs": [],
   "source": [
    "# Load influence relationships\n",
    "influences = pd.read_csv('data/allmusic/influences.txt', header=None, names=['influencer_name', 'influencer_url', 'follower_name', 'follower_url']).drop_duplicates()"
   ]
  },
  {
   "cell_type": "code",
   "execution_count": 12,
   "metadata": {},
   "outputs": [
    {
     "data": {
      "text/html": [
       "<div>\n",
       "<style>\n",
       "    .dataframe thead tr:only-child th {\n",
       "        text-align: right;\n",
       "    }\n",
       "\n",
       "    .dataframe thead th {\n",
       "        text-align: left;\n",
       "    }\n",
       "\n",
       "    .dataframe tbody tr th {\n",
       "        vertical-align: top;\n",
       "    }\n",
       "</style>\n",
       "<table border=\"1\" class=\"dataframe\">\n",
       "  <thead>\n",
       "    <tr style=\"text-align: right;\">\n",
       "      <th></th>\n",
       "      <th>influencer_name</th>\n",
       "      <th>influencer_url</th>\n",
       "      <th>follower_name</th>\n",
       "      <th>follower_url</th>\n",
       "    </tr>\n",
       "  </thead>\n",
       "  <tbody>\n",
       "    <tr>\n",
       "      <th>0</th>\n",
       "      <td>Brigitte Fontaine</td>\n",
       "      <td>https://www.allmusic.com/artist/brigitte-fonta...</td>\n",
       "      <td>Björk</td>\n",
       "      <td>https://www.allmusic.com/artist/bj%C3%B6rk-mn0...</td>\n",
       "    </tr>\n",
       "    <tr>\n",
       "      <th>1</th>\n",
       "      <td>Kate Bush</td>\n",
       "      <td>https://www.allmusic.com/artist/kate-bush-mn00...</td>\n",
       "      <td>Björk</td>\n",
       "      <td>https://www.allmusic.com/artist/bj%C3%B6rk-mn0...</td>\n",
       "    </tr>\n",
       "    <tr>\n",
       "      <th>2</th>\n",
       "      <td>Nina Hagen</td>\n",
       "      <td>https://www.allmusic.com/artist/nina-hagen-mn0...</td>\n",
       "      <td>Björk</td>\n",
       "      <td>https://www.allmusic.com/artist/bj%C3%B6rk-mn0...</td>\n",
       "    </tr>\n",
       "    <tr>\n",
       "      <th>3</th>\n",
       "      <td>Zeena Parkins</td>\n",
       "      <td>https://www.allmusic.com/artist/zeena-parkins-...</td>\n",
       "      <td>Björk</td>\n",
       "      <td>https://www.allmusic.com/artist/bj%C3%B6rk-mn0...</td>\n",
       "    </tr>\n",
       "    <tr>\n",
       "      <th>4</th>\n",
       "      <td>David Bowie</td>\n",
       "      <td>https://www.allmusic.com/artist/david-bowie-mn...</td>\n",
       "      <td>Björk</td>\n",
       "      <td>https://www.allmusic.com/artist/bj%C3%B6rk-mn0...</td>\n",
       "    </tr>\n",
       "  </tbody>\n",
       "</table>\n",
       "</div>"
      ],
      "text/plain": [
       "     influencer_name                                     influencer_url  \\\n",
       "0  Brigitte Fontaine  https://www.allmusic.com/artist/brigitte-fonta...   \n",
       "1          Kate Bush  https://www.allmusic.com/artist/kate-bush-mn00...   \n",
       "2         Nina Hagen  https://www.allmusic.com/artist/nina-hagen-mn0...   \n",
       "3      Zeena Parkins  https://www.allmusic.com/artist/zeena-parkins-...   \n",
       "4        David Bowie  https://www.allmusic.com/artist/david-bowie-mn...   \n",
       "\n",
       "  follower_name                                       follower_url  \n",
       "0         Björk  https://www.allmusic.com/artist/bj%C3%B6rk-mn0...  \n",
       "1         Björk  https://www.allmusic.com/artist/bj%C3%B6rk-mn0...  \n",
       "2         Björk  https://www.allmusic.com/artist/bj%C3%B6rk-mn0...  \n",
       "3         Björk  https://www.allmusic.com/artist/bj%C3%B6rk-mn0...  \n",
       "4         Björk  https://www.allmusic.com/artist/bj%C3%B6rk-mn0...  "
      ]
     },
     "execution_count": 12,
     "metadata": {},
     "output_type": "execute_result"
    }
   ],
   "source": [
    "influences.head()"
   ]
  },
  {
   "cell_type": "code",
   "execution_count": 17,
   "metadata": {
    "collapsed": true
   },
   "outputs": [],
   "source": [
    "# Create columns for influencer id and follower id\n",
    "influences['influencer_id'] = influences['influencer_url'].apply(lambda x: x.split('-mn')[-1])\n",
    "influences['follower_id'] = influences['follower_url'].apply(lambda x: x.split('-mn')[-1])"
   ]
  },
  {
   "cell_type": "code",
   "execution_count": 18,
   "metadata": {},
   "outputs": [],
   "source": [
    "# Drop rows where influencer_id and follower_id are duplicated\n",
    "influences = influences.drop_duplicates(subset=['influencer_id', 'follower_id'])"
   ]
  },
  {
   "cell_type": "code",
   "execution_count": 21,
   "metadata": {
    "collapsed": true
   },
   "outputs": [],
   "source": [
    "# Write to csv\n",
    "influences.to_csv('data/allmusic/influences_cleaned.csv', index=False)"
   ]
  },
  {
   "cell_type": "markdown",
   "metadata": {},
   "source": [
    "## Artist Information"
   ]
  },
  {
   "cell_type": "code",
   "execution_count": 23,
   "metadata": {
    "collapsed": true
   },
   "outputs": [],
   "source": [
    "# Load artist information\n",
    "artists = pd.read_csv('data/allmusic/artists.txt', header=None, names=['name', 'url', 'active_period', 'genres', 'styles']).drop_duplicates()"
   ]
  },
  {
   "cell_type": "code",
   "execution_count": 24,
   "metadata": {},
   "outputs": [
    {
     "data": {
      "text/html": [
       "<div>\n",
       "<style>\n",
       "    .dataframe thead tr:only-child th {\n",
       "        text-align: right;\n",
       "    }\n",
       "\n",
       "    .dataframe thead th {\n",
       "        text-align: left;\n",
       "    }\n",
       "\n",
       "    .dataframe tbody tr th {\n",
       "        vertical-align: top;\n",
       "    }\n",
       "</style>\n",
       "<table border=\"1\" class=\"dataframe\">\n",
       "  <thead>\n",
       "    <tr style=\"text-align: right;\">\n",
       "      <th></th>\n",
       "      <th>name</th>\n",
       "      <th>url</th>\n",
       "      <th>active_period</th>\n",
       "      <th>genres</th>\n",
       "      <th>styles</th>\n",
       "    </tr>\n",
       "  </thead>\n",
       "  <tbody>\n",
       "    <tr>\n",
       "      <th>0</th>\n",
       "      <td>Björk</td>\n",
       "      <td>https://www.allmusic.com/artist/bj%C3%B6rk-mn0...</td>\n",
       "      <td>1970s - 2010s</td>\n",
       "      <td>Pop/Rock|Electronic</td>\n",
       "      <td>Alternative/Indie Rock|Experimental Rock|Alter...</td>\n",
       "    </tr>\n",
       "    <tr>\n",
       "      <th>1</th>\n",
       "      <td>Brigitte Fontaine</td>\n",
       "      <td>https://www.allmusic.com/artist/brigitte-fonta...</td>\n",
       "      <td>1970s - 2000s</td>\n",
       "      <td>Pop/Rock|International</td>\n",
       "      <td>Experimental|French Pop|French|Western Europea...</td>\n",
       "    </tr>\n",
       "    <tr>\n",
       "      <th>2</th>\n",
       "      <td>Kate Bush</td>\n",
       "      <td>https://www.allmusic.com/artist/kate-bush-mn00...</td>\n",
       "      <td>1970s - 2010s</td>\n",
       "      <td>Pop/Rock</td>\n",
       "      <td>Art Rock|Alternative/Indie Rock|College Rock|A...</td>\n",
       "    </tr>\n",
       "    <tr>\n",
       "      <th>3</th>\n",
       "      <td>Nina Hagen</td>\n",
       "      <td>https://www.allmusic.com/artist/nina-hagen-mn0...</td>\n",
       "      <td>1970s - 2010s</td>\n",
       "      <td>Pop/Rock</td>\n",
       "      <td>Alternative Pop/Rock|Alternative/Indie Rock|Ne...</td>\n",
       "    </tr>\n",
       "    <tr>\n",
       "      <th>4</th>\n",
       "      <td>Zeena Parkins</td>\n",
       "      <td>https://www.allmusic.com/artist/zeena-parkins-...</td>\n",
       "      <td>1980s - 2010s</td>\n",
       "      <td>Avant-Garde|Jazz</td>\n",
       "      <td>Free Improvisation|Modern Composition</td>\n",
       "    </tr>\n",
       "  </tbody>\n",
       "</table>\n",
       "</div>"
      ],
      "text/plain": [
       "                name                                                url  \\\n",
       "0              Björk  https://www.allmusic.com/artist/bj%C3%B6rk-mn0...   \n",
       "1  Brigitte Fontaine  https://www.allmusic.com/artist/brigitte-fonta...   \n",
       "2          Kate Bush  https://www.allmusic.com/artist/kate-bush-mn00...   \n",
       "3         Nina Hagen  https://www.allmusic.com/artist/nina-hagen-mn0...   \n",
       "4      Zeena Parkins  https://www.allmusic.com/artist/zeena-parkins-...   \n",
       "\n",
       "   active_period                  genres  \\\n",
       "0  1970s - 2010s     Pop/Rock|Electronic   \n",
       "1  1970s - 2000s  Pop/Rock|International   \n",
       "2  1970s - 2010s                Pop/Rock   \n",
       "3  1970s - 2010s                Pop/Rock   \n",
       "4  1980s - 2010s        Avant-Garde|Jazz   \n",
       "\n",
       "                                              styles  \n",
       "0  Alternative/Indie Rock|Experimental Rock|Alter...  \n",
       "1  Experimental|French Pop|French|Western Europea...  \n",
       "2  Art Rock|Alternative/Indie Rock|College Rock|A...  \n",
       "3  Alternative Pop/Rock|Alternative/Indie Rock|Ne...  \n",
       "4              Free Improvisation|Modern Composition  "
      ]
     },
     "execution_count": 24,
     "metadata": {},
     "output_type": "execute_result"
    }
   ],
   "source": [
    "artists.head()"
   ]
  },
  {
   "cell_type": "code",
   "execution_count": 25,
   "metadata": {
    "collapsed": true
   },
   "outputs": [],
   "source": [
    "# Create a column for unique id, which can be extracted from URL\n",
    "artists['id'] = artists['url'].apply(lambda x: x.split('-mn')[-1])"
   ]
  },
  {
   "cell_type": "code",
   "execution_count": 28,
   "metadata": {
    "collapsed": true
   },
   "outputs": [],
   "source": [
    "# Fill NaN genres with \"Unknown\"\n",
    "artists['genres'] = artists['genres'].fillna('Unknown')\n",
    "# Extract first genre in the genres list to use as the main genre for the artist\n",
    "artists['main_genre'] = artists['genres'].apply(lambda x: x.split('|')[0])"
   ]
  },
  {
   "cell_type": "code",
   "execution_count": 29,
   "metadata": {
    "collapsed": true
   },
   "outputs": [],
   "source": [
    "# Drop rows where artist id is duplicated\n",
    "artists = artists.drop_duplicates(subset=['id'])"
   ]
  },
  {
   "cell_type": "code",
   "execution_count": 31,
   "metadata": {
    "collapsed": true
   },
   "outputs": [],
   "source": [
    "# Write to csv\n",
    "artists.to_csv('data/allmusic/artists_cleaned.csv', index=False)"
   ]
  }
 ],
 "metadata": {
  "kernelspec": {
   "display_name": "Python 2",
   "language": "python",
   "name": "python2"
  },
  "language_info": {
   "codemirror_mode": {
    "name": "ipython",
    "version": 2
   },
   "file_extension": ".py",
   "mimetype": "text/x-python",
   "name": "python",
   "nbconvert_exporter": "python",
   "pygments_lexer": "ipython2",
   "version": "2.7.13"
  }
 },
 "nbformat": 4,
 "nbformat_minor": 2
}
