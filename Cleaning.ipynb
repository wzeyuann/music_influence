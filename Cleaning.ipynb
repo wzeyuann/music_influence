{
 "cells": [
  {
   "cell_type": "code",
   "execution_count": 1,
   "metadata": {
    "collapsed": true
   },
   "outputs": [],
   "source": [
    "import networkx as nx\n",
    "import numpy as np\n",
    "import pandas as pd\n",
    "import os\n",
    "from tqdm import tqdm_notebook"
   ]
  },
  {
   "cell_type": "markdown",
   "metadata": {},
   "source": [
    "# Create Cleaned Version of AllMusic Data"
   ]
  },
  {
   "cell_type": "markdown",
   "metadata": {},
   "source": [
    "## Influence Relationships"
   ]
  },
  {
   "cell_type": "code",
   "execution_count": 2,
   "metadata": {
    "collapsed": true
   },
   "outputs": [],
   "source": [
    "# Load influence relationships\n",
    "influences = pd.read_csv('data/allmusic/influences.txt', header=None, names=['influencer_name', 'influencer_url', 'follower_name', 'follower_url']).drop_duplicates()"
   ]
  },
  {
   "cell_type": "code",
   "execution_count": 3,
   "metadata": {},
   "outputs": [
    {
     "data": {
      "text/html": [
       "<div>\n",
       "<style>\n",
       "    .dataframe thead tr:only-child th {\n",
       "        text-align: right;\n",
       "    }\n",
       "\n",
       "    .dataframe thead th {\n",
       "        text-align: left;\n",
       "    }\n",
       "\n",
       "    .dataframe tbody tr th {\n",
       "        vertical-align: top;\n",
       "    }\n",
       "</style>\n",
       "<table border=\"1\" class=\"dataframe\">\n",
       "  <thead>\n",
       "    <tr style=\"text-align: right;\">\n",
       "      <th></th>\n",
       "      <th>influencer_name</th>\n",
       "      <th>influencer_url</th>\n",
       "      <th>follower_name</th>\n",
       "      <th>follower_url</th>\n",
       "    </tr>\n",
       "  </thead>\n",
       "  <tbody>\n",
       "    <tr>\n",
       "      <th>0</th>\n",
       "      <td>Brigitte Fontaine</td>\n",
       "      <td>https://www.allmusic.com/artist/brigitte-fonta...</td>\n",
       "      <td>Björk</td>\n",
       "      <td>https://www.allmusic.com/artist/bj%C3%B6rk-mn0...</td>\n",
       "    </tr>\n",
       "    <tr>\n",
       "      <th>1</th>\n",
       "      <td>Kate Bush</td>\n",
       "      <td>https://www.allmusic.com/artist/kate-bush-mn00...</td>\n",
       "      <td>Björk</td>\n",
       "      <td>https://www.allmusic.com/artist/bj%C3%B6rk-mn0...</td>\n",
       "    </tr>\n",
       "    <tr>\n",
       "      <th>2</th>\n",
       "      <td>Nina Hagen</td>\n",
       "      <td>https://www.allmusic.com/artist/nina-hagen-mn0...</td>\n",
       "      <td>Björk</td>\n",
       "      <td>https://www.allmusic.com/artist/bj%C3%B6rk-mn0...</td>\n",
       "    </tr>\n",
       "    <tr>\n",
       "      <th>3</th>\n",
       "      <td>Zeena Parkins</td>\n",
       "      <td>https://www.allmusic.com/artist/zeena-parkins-...</td>\n",
       "      <td>Björk</td>\n",
       "      <td>https://www.allmusic.com/artist/bj%C3%B6rk-mn0...</td>\n",
       "    </tr>\n",
       "    <tr>\n",
       "      <th>4</th>\n",
       "      <td>David Bowie</td>\n",
       "      <td>https://www.allmusic.com/artist/david-bowie-mn...</td>\n",
       "      <td>Björk</td>\n",
       "      <td>https://www.allmusic.com/artist/bj%C3%B6rk-mn0...</td>\n",
       "    </tr>\n",
       "  </tbody>\n",
       "</table>\n",
       "</div>"
      ],
      "text/plain": [
       "     influencer_name                                     influencer_url  \\\n",
       "0  Brigitte Fontaine  https://www.allmusic.com/artist/brigitte-fonta...   \n",
       "1          Kate Bush  https://www.allmusic.com/artist/kate-bush-mn00...   \n",
       "2         Nina Hagen  https://www.allmusic.com/artist/nina-hagen-mn0...   \n",
       "3      Zeena Parkins  https://www.allmusic.com/artist/zeena-parkins-...   \n",
       "4        David Bowie  https://www.allmusic.com/artist/david-bowie-mn...   \n",
       "\n",
       "  follower_name                                       follower_url  \n",
       "0         Björk  https://www.allmusic.com/artist/bj%C3%B6rk-mn0...  \n",
       "1         Björk  https://www.allmusic.com/artist/bj%C3%B6rk-mn0...  \n",
       "2         Björk  https://www.allmusic.com/artist/bj%C3%B6rk-mn0...  \n",
       "3         Björk  https://www.allmusic.com/artist/bj%C3%B6rk-mn0...  \n",
       "4         Björk  https://www.allmusic.com/artist/bj%C3%B6rk-mn0...  "
      ]
     },
     "execution_count": 3,
     "metadata": {},
     "output_type": "execute_result"
    }
   ],
   "source": [
    "influences.head()"
   ]
  },
  {
   "cell_type": "code",
   "execution_count": 4,
   "metadata": {
    "collapsed": true
   },
   "outputs": [],
   "source": [
    "# Create columns for influencer id and follower id\n",
    "influences['influencer_id'] = influences['influencer_url'].apply(lambda x: x.split('-mn')[-1])\n",
    "influences['follower_id'] = influences['follower_url'].apply(lambda x: x.split('-mn')[-1])"
   ]
  },
  {
   "cell_type": "code",
   "execution_count": 5,
   "metadata": {
    "collapsed": true
   },
   "outputs": [],
   "source": [
    "# Drop rows where influencer_id and follower_id are duplicated\n",
    "influences = influences.drop_duplicates(subset=['influencer_id', 'follower_id'])"
   ]
  },
  {
   "cell_type": "code",
   "execution_count": 7,
   "metadata": {
    "collapsed": true
   },
   "outputs": [],
   "source": [
    "# Write to csv\n",
    "influences.to_csv('data/allmusic/influences_cleaned.csv', index=False)"
   ]
  },
  {
   "cell_type": "markdown",
   "metadata": {},
   "source": [
    "## Artist Information"
   ]
  },
  {
   "cell_type": "code",
   "execution_count": 8,
   "metadata": {
    "collapsed": true
   },
   "outputs": [],
   "source": [
    "# Load artist information\n",
    "artists = pd.read_csv('data/allmusic/artists.txt', header=None, names=['name', 'url', 'active_period', 'genres', 'styles']).drop_duplicates()"
   ]
  },
  {
   "cell_type": "code",
   "execution_count": 9,
   "metadata": {},
   "outputs": [
    {
     "data": {
      "text/html": [
       "<div>\n",
       "<style>\n",
       "    .dataframe thead tr:only-child th {\n",
       "        text-align: right;\n",
       "    }\n",
       "\n",
       "    .dataframe thead th {\n",
       "        text-align: left;\n",
       "    }\n",
       "\n",
       "    .dataframe tbody tr th {\n",
       "        vertical-align: top;\n",
       "    }\n",
       "</style>\n",
       "<table border=\"1\" class=\"dataframe\">\n",
       "  <thead>\n",
       "    <tr style=\"text-align: right;\">\n",
       "      <th></th>\n",
       "      <th>name</th>\n",
       "      <th>url</th>\n",
       "      <th>active_period</th>\n",
       "      <th>genres</th>\n",
       "      <th>styles</th>\n",
       "    </tr>\n",
       "  </thead>\n",
       "  <tbody>\n",
       "    <tr>\n",
       "      <th>0</th>\n",
       "      <td>Björk</td>\n",
       "      <td>https://www.allmusic.com/artist/bj%C3%B6rk-mn0...</td>\n",
       "      <td>1970s - 2010s</td>\n",
       "      <td>Pop/Rock|Electronic</td>\n",
       "      <td>Alternative/Indie Rock|Experimental Rock|Alter...</td>\n",
       "    </tr>\n",
       "    <tr>\n",
       "      <th>1</th>\n",
       "      <td>Brigitte Fontaine</td>\n",
       "      <td>https://www.allmusic.com/artist/brigitte-fonta...</td>\n",
       "      <td>1970s - 2000s</td>\n",
       "      <td>Pop/Rock|International</td>\n",
       "      <td>Experimental|French Pop|French|Western Europea...</td>\n",
       "    </tr>\n",
       "    <tr>\n",
       "      <th>2</th>\n",
       "      <td>Kate Bush</td>\n",
       "      <td>https://www.allmusic.com/artist/kate-bush-mn00...</td>\n",
       "      <td>1970s - 2010s</td>\n",
       "      <td>Pop/Rock</td>\n",
       "      <td>Art Rock|Alternative/Indie Rock|College Rock|A...</td>\n",
       "    </tr>\n",
       "    <tr>\n",
       "      <th>3</th>\n",
       "      <td>Nina Hagen</td>\n",
       "      <td>https://www.allmusic.com/artist/nina-hagen-mn0...</td>\n",
       "      <td>1970s - 2010s</td>\n",
       "      <td>Pop/Rock</td>\n",
       "      <td>Alternative Pop/Rock|Alternative/Indie Rock|Ne...</td>\n",
       "    </tr>\n",
       "    <tr>\n",
       "      <th>4</th>\n",
       "      <td>Zeena Parkins</td>\n",
       "      <td>https://www.allmusic.com/artist/zeena-parkins-...</td>\n",
       "      <td>1980s - 2010s</td>\n",
       "      <td>Avant-Garde|Jazz</td>\n",
       "      <td>Free Improvisation|Modern Composition</td>\n",
       "    </tr>\n",
       "  </tbody>\n",
       "</table>\n",
       "</div>"
      ],
      "text/plain": [
       "                name                                                url  \\\n",
       "0              Björk  https://www.allmusic.com/artist/bj%C3%B6rk-mn0...   \n",
       "1  Brigitte Fontaine  https://www.allmusic.com/artist/brigitte-fonta...   \n",
       "2          Kate Bush  https://www.allmusic.com/artist/kate-bush-mn00...   \n",
       "3         Nina Hagen  https://www.allmusic.com/artist/nina-hagen-mn0...   \n",
       "4      Zeena Parkins  https://www.allmusic.com/artist/zeena-parkins-...   \n",
       "\n",
       "   active_period                  genres  \\\n",
       "0  1970s - 2010s     Pop/Rock|Electronic   \n",
       "1  1970s - 2000s  Pop/Rock|International   \n",
       "2  1970s - 2010s                Pop/Rock   \n",
       "3  1970s - 2010s                Pop/Rock   \n",
       "4  1980s - 2010s        Avant-Garde|Jazz   \n",
       "\n",
       "                                              styles  \n",
       "0  Alternative/Indie Rock|Experimental Rock|Alter...  \n",
       "1  Experimental|French Pop|French|Western Europea...  \n",
       "2  Art Rock|Alternative/Indie Rock|College Rock|A...  \n",
       "3  Alternative Pop/Rock|Alternative/Indie Rock|Ne...  \n",
       "4              Free Improvisation|Modern Composition  "
      ]
     },
     "execution_count": 9,
     "metadata": {},
     "output_type": "execute_result"
    }
   ],
   "source": [
    "artists.head()"
   ]
  },
  {
   "cell_type": "code",
   "execution_count": 10,
   "metadata": {
    "collapsed": true
   },
   "outputs": [],
   "source": [
    "# Create a column for unique id, which can be extracted from URL\n",
    "artists['id'] = artists['url'].apply(lambda x: x.split('-mn')[-1])"
   ]
  },
  {
   "cell_type": "code",
   "execution_count": 11,
   "metadata": {
    "collapsed": true
   },
   "outputs": [],
   "source": [
    "# Fill NaN genres with \"Unknown\"\n",
    "artists['genres'] = artists['genres'].fillna('Unknown')\n",
    "# Extract first genre in the genres list to use as the main genre for the artist\n",
    "artists['main_genre'] = artists['genres'].apply(lambda x: x.split('|')[0])"
   ]
  },
  {
   "cell_type": "code",
   "execution_count": 12,
   "metadata": {
    "collapsed": true
   },
   "outputs": [],
   "source": [
    "# Drop rows where artist id is duplicated\n",
    "artists = artists.drop_duplicates(subset=['id'])"
   ]
  },
  {
   "cell_type": "code",
   "execution_count": 2,
   "metadata": {
    "collapsed": true
   },
   "outputs": [],
   "source": [
    "artists = pd.read_csv('data/allmusic/artists_cleaned.csv')"
   ]
  },
  {
   "cell_type": "code",
   "execution_count": 23,
   "metadata": {},
   "outputs": [
    {
     "name": "stdout",
     "output_type": "stream",
     "text": [
      "Percent artists with active period: 0.910261015326\n"
     ]
    }
   ],
   "source": [
    "print \"Percent artists with active period:\", sum(artists['active_period'].notnull()) / float(len(artists))"
   ]
  },
  {
   "cell_type": "code",
   "execution_count": 24,
   "metadata": {
    "collapsed": true
   },
   "outputs": [],
   "source": [
    "# Extract start of active period\n",
    "artists['active_start'] = artists['active_period'].apply(lambda x: x.split(' - ')[0].strip('s') if type(x) == str else None)"
   ]
  },
  {
   "cell_type": "code",
   "execution_count": 27,
   "metadata": {
    "collapsed": true
   },
   "outputs": [],
   "source": [
    "# Write to csv\n",
    "artists.to_csv('data/allmusic/artists_cleaned.csv', index=False)"
   ]
  },
  {
   "cell_type": "markdown",
   "metadata": {},
   "source": [
    "# Clean Song Year Data"
   ]
  },
  {
   "cell_type": "code",
   "execution_count": 4,
   "metadata": {
    "collapsed": true
   },
   "outputs": [],
   "source": [
    "# Load artist info\n",
    "artists = pd.read_csv('data/allmusic/artists_cleaned.csv')\n",
    "# Drop rows with missing artist id or name\n",
    "artists = artists.dropna(subset=['name', 'id'])\n",
    "# Create lookup dictionaries between artist id and name\n",
    "id_to_name = {id : name for (id, name) in zip(artists['id'], artists['name'])}\n",
    "# Load song dataframe with years \n",
    "songs = pd.read_csv('data/artist_song_list_years.csv')"
   ]
  },
  {
   "cell_type": "code",
   "execution_count": 15,
   "metadata": {
    "collapsed": true
   },
   "outputs": [],
   "source": [
    "# Plug in 0 for missing years\n",
    "songs['year'] = songs['year'].fillna(0)"
   ]
  },
  {
   "cell_type": "code",
   "execution_count": 38,
   "metadata": {},
   "outputs": [
    {
     "data": {
      "application/vnd.jupyter.widget-view+json": {
       "model_id": "4cfe5ceb1e9147069ea8f72d9a0b6be7",
       "version_major": 2,
       "version_minor": 0
      },
      "text/plain": [
       "A Jupyter Widget"
      ]
     },
     "metadata": {},
     "output_type": "display_data"
    },
    {
     "name": "stdout",
     "output_type": "stream",
     "text": [
      "\n"
     ]
    }
   ],
   "source": [
    "AUDIO_DIR = '/Volumes/thesis/audio/'\n",
    "\n",
    "names_no_ext = []\n",
    "track_numbers = []\n",
    "\n",
    "# Get lists of full song name with no file extension and track numbers\n",
    "for id in tqdm_notebook(os.listdir(AUDIO_DIR)):\n",
    "    if int(id) in id_to_name.keys():\n",
    "        for song_name in os.listdir(AUDIO_DIR + id):\n",
    "            names_no_ext.append(song_name.split('.mp3')[0])\n",
    "            track_numbers.append(song_name.split('_')[0])"
   ]
  },
  {
   "cell_type": "code",
   "execution_count": 43,
   "metadata": {
    "collapsed": true
   },
   "outputs": [],
   "source": [
    "# Add in columns for full song file name (without file extension) and track number (zero-indexed)\n",
    "songs['name_no_ext'] = names_no_ext\n",
    "songs['track_number'] = track_numbers"
   ]
  },
  {
   "cell_type": "code",
   "execution_count": 46,
   "metadata": {
    "collapsed": true
   },
   "outputs": [],
   "source": [
    "# Save cleaned dataset\n",
    "songs.to_csv('data/artist_song_list_years_cleaned.csv', index=False)"
   ]
  }
 ],
 "metadata": {
  "kernelspec": {
   "display_name": "Python 2",
   "language": "python",
   "name": "python2"
  },
  "language_info": {
   "codemirror_mode": {
    "name": "ipython",
    "version": 2
   },
   "file_extension": ".py",
   "mimetype": "text/x-python",
   "name": "python",
   "nbconvert_exporter": "python",
   "pygments_lexer": "ipython2",
   "version": "2.7.13"
  }
 },
 "nbformat": 4,
 "nbformat_minor": 2
}
