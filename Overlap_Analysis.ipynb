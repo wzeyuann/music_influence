{
 "cells": [
  {
   "cell_type": "code",
   "execution_count": 12,
   "metadata": {
    "collapsed": true
   },
   "outputs": [],
   "source": [
    "import networkx as nx\n",
    "import numpy as np\n",
    "import pandas as pd\n",
    "import matplotlib.pyplot as plt\n",
    "from collections import Counter\n",
    "\n",
    "import itertools\n",
    "from collections import OrderedDict\n",
    "from tqdm import tqdm_notebook, tqdm\n",
    "from scipy import stats\n",
    "\n",
    "import os\n",
    "\n",
    "%matplotlib inline"
   ]
  },
  {
   "cell_type": "markdown",
   "metadata": {},
   "source": [
    "# Load AllMusic Graph"
   ]
  },
  {
   "cell_type": "code",
   "execution_count": 3,
   "metadata": {
    "collapsed": true
   },
   "outputs": [],
   "source": [
    "# Load artist information\n",
    "artists = pd.read_csv('data/allmusic/artists_cleaned.csv')\n",
    "# Load influence relationships\n",
    "influences = pd.read_csv('data/allmusic/influences_cleaned.csv')"
   ]
  },
  {
   "cell_type": "code",
   "execution_count": 15,
   "metadata": {
    "collapsed": true
   },
   "outputs": [],
   "source": [
    "# Create directed graph from influence relationships\n",
    "allmusic = nx.DiGraph()\n",
    "\n",
    "for row in influences.itertuples():\n",
    "    allmusic.add_edge(row.influencer_name, row.follower_name)"
   ]
  },
  {
   "cell_type": "markdown",
   "metadata": {},
   "source": [
    "# Load MusicBrainz Collaborators"
   ]
  },
  {
   "cell_type": "code",
   "execution_count": 5,
   "metadata": {
    "collapsed": true
   },
   "outputs": [],
   "source": [
    "# Load collaboration data from MusicBrainz\n",
    "mb = nx.read_gexf('data/musicbrainz/sdn-unweighted.gexf')"
   ]
  },
  {
   "cell_type": "code",
   "execution_count": 6,
   "metadata": {},
   "outputs": [
    {
     "name": "stdout",
     "output_type": "stream",
     "text": [
      "Name: \n",
      "Type: Graph\n",
      "Number of nodes: 271442\n",
      "Number of edges: 650920\n",
      "Average degree:   4.7960\n"
     ]
    }
   ],
   "source": [
    "# Summary of collaboration graph\n",
    "print nx.info(mb)"
   ]
  },
  {
   "cell_type": "code",
   "execution_count": 7,
   "metadata": {},
   "outputs": [
    {
     "name": "stdout",
     "output_type": "stream",
     "text": [
      "26654\n"
     ]
    }
   ],
   "source": [
    "print nx.number_connected_components(mb)"
   ]
  },
  {
   "cell_type": "markdown",
   "metadata": {},
   "source": [
    "# Compute Edge Overlap Between AllMusic Graph and MusicBrainz Collaboration Graph"
   ]
  },
  {
   "cell_type": "code",
   "execution_count": 8,
   "metadata": {
    "collapsed": true
   },
   "outputs": [],
   "source": [
    "allmusic_edges = set(allmusic.edges())\n",
    "# Define the reverse order of each edge tuple to be an influence relationship as well\n",
    "# since the mb graph is undirected\n",
    "mb_edges = set(mb.edges() + [(edge[1], edge[0]) for edge in mb.edges()])"
   ]
  },
  {
   "cell_type": "code",
   "execution_count": 9,
   "metadata": {},
   "outputs": [
    {
     "name": "stdout",
     "output_type": "stream",
     "text": [
      "Number of edges in intersection: 3093\n",
      "Percentage of AllMusic edges covered: 0.0332459100974\n"
     ]
    }
   ],
   "source": [
    "print \"Number of edges in intersection:\", len(allmusic_edges.intersection(mb_edges))\n",
    "print \"Percentage of AllMusic edges covered:\", len(allmusic_edges.intersection(mb_edges)) / float(len(allmusic_edges))"
   ]
  },
  {
   "cell_type": "markdown",
   "metadata": {},
   "source": [
    "# Compute Node Overlap"
   ]
  },
  {
   "cell_type": "code",
   "execution_count": 10,
   "metadata": {},
   "outputs": [
    {
     "name": "stdout",
     "output_type": "stream",
     "text": [
      "Number of nodes in intersection: 10214\n",
      "Percentage of AllMusic nodes covered: 0.615560778642\n"
     ]
    }
   ],
   "source": [
    "allmusic_nodes = set(allmusic.nodes())\n",
    "mb_nodes = set(mb.nodes())\n",
    "\n",
    "print \"Number of nodes in intersection:\", len(allmusic_nodes.intersection(mb_nodes))\n",
    "print \"Percentage of AllMusic nodes covered:\", len(allmusic_nodes.intersection(mb_nodes)) / float(len(allmusic_nodes))"
   ]
  },
  {
   "cell_type": "markdown",
   "metadata": {},
   "source": [
    "# Compute Edge Overlap For Subset of Nodes Contained within Node Overlap"
   ]
  },
  {
   "cell_type": "code",
   "execution_count": 11,
   "metadata": {},
   "outputs": [
    {
     "name": "stdout",
     "output_type": "stream",
     "text": [
      "Percentage of filtered AllMusic edges covered: 0.0513309877854\n"
     ]
    }
   ],
   "source": [
    "intersection_nodes = allmusic_nodes.intersection(mb_nodes)\n",
    "# Filter for edges where both nodes are contained within the node intersection of the two datasets\n",
    "allmusic_edges_filtered = set([edge for edge in allmusic.edges() if edge[0] in intersection_nodes and edge[1] in intersection_nodes])\n",
    "print \"Percentage of filtered AllMusic edges covered:\", len(allmusic_edges.intersection(mb_edges)) / float(len(allmusic_edges_filtered))"
   ]
  },
  {
   "cell_type": "markdown",
   "metadata": {},
   "source": [
    "# Compute Node/Edge Overlap Between Audio Dataset and Influence Graph"
   ]
  },
  {
   "cell_type": "code",
   "execution_count": 32,
   "metadata": {
    "collapsed": true
   },
   "outputs": [],
   "source": [
    "# Load list of artist ids that we have audio for\n",
    "ids_with_audio_raw = open('data/artists_with_audio.txt', 'r').readlines()\n",
    "# Apply mild cleaning to isolate id strings\n",
    "ids_with_audio = map(lambda x: int(x.split('PRE ')[-1].strip('/\\n')), ids_with_audio_raw)"
   ]
  },
  {
   "cell_type": "code",
   "execution_count": 34,
   "metadata": {},
   "outputs": [
    {
     "name": "stdout",
     "output_type": "stream",
     "text": [
      "Number with audio: 15460\n",
      "Number ids total: 16704\n",
      "Percentage node overlap: 0.925526819923\n"
     ]
    }
   ],
   "source": [
    "# Compute id overlap between 2 lists\n",
    "print \"Number with audio:\", len(ids_with_audio)\n",
    "print \"Number ids total:\", len(np.unique(artists['id']))\n",
    "print \"Percentage node overlap:\", len(ids_with_audio) / float(len(np.unique(artists['id'])))"
   ]
  },
  {
   "cell_type": "code",
   "execution_count": 35,
   "metadata": {
    "collapsed": true
   },
   "outputs": [],
   "source": [
    "# Load influence relationships\n",
    "influences = pd.read_csv('data/allmusic/influences_cleaned.csv')\n",
    "\n",
    "# Create full directed graph from influence relationships\n",
    "full_influence_graph = nx.DiGraph()\n",
    "\n",
    "for row in influences.itertuples():\n",
    "    full_influence_graph.add_edge(row.influencer_id, row.follower_id)"
   ]
  },
  {
   "cell_type": "code",
   "execution_count": 36,
   "metadata": {
    "collapsed": true
   },
   "outputs": [],
   "source": [
    "# Create subgraph based on nodes we have audio for\n",
    "audio_subgraph = full_influence_graph.subgraph(ids_with_audio)"
   ]
  },
  {
   "cell_type": "code",
   "execution_count": 37,
   "metadata": {},
   "outputs": [
    {
     "name": "stdout",
     "output_type": "stream",
     "text": [
      "Number of edges in subgraph: 89007\n",
      "Number of edges in full graph: 93065\n",
      "Percentage edge overlap: 0.956396067265\n"
     ]
    }
   ],
   "source": [
    "print \"Number of edges in subgraph:\", audio_subgraph.number_of_edges()\n",
    "print \"Number of edges in full graph:\", full_influence_graph.number_of_edges()\n",
    "print \"Percentage edge overlap:\", audio_subgraph.number_of_edges() / float(full_influence_graph.number_of_edges())"
   ]
  },
  {
   "cell_type": "markdown",
   "metadata": {},
   "source": [
    "# Compute Distribution of Number of Audio Samples Per Artist"
   ]
  },
  {
   "cell_type": "code",
   "execution_count": 4,
   "metadata": {
    "collapsed": true
   },
   "outputs": [],
   "source": [
    "AUDIO_BASE_DIR = '/Volumes/thesis/audio/'\n",
    "\n",
    "number_of_samples = []\n",
    "\n",
    "for artist_id in os.listdir(AUDIO_BASE_DIR):\n",
    "    number_of_samples.append(len(os.listdir(AUDIO_BASE_DIR + artist_id)))"
   ]
  },
  {
   "cell_type": "code",
   "execution_count": 22,
   "metadata": {},
   "outputs": [
    {
     "data": {
      "text/plain": [
       "count    15460.000000\n",
       "mean         9.290103\n",
       "std          2.081990\n",
       "min          1.000000\n",
       "25%         10.000000\n",
       "50%         10.000000\n",
       "75%         10.000000\n",
       "max         10.000000\n",
       "dtype: float64"
      ]
     },
     "execution_count": 22,
     "metadata": {},
     "output_type": "execute_result"
    },
    {
     "data": {
      "image/png": "[encoded data removed]",
      "text/plain": [
       "<matplotlib.figure.Figure at 0x1a1084da10>"
      ]
     },
     "metadata": {},
     "output_type": "display_data"
    }
   ],
   "source": [
    "# Convert to pandas Series\n",
    "number_of_samples = pd.Series(number_of_samples)\n",
    "number_of_samples.hist()\n",
    "number_of_samples.describe()"
   ]
  },
  {
   "cell_type": "code",
   "execution_count": 28,
   "metadata": {},
   "outputs": [
    {
     "data": {
      "text/plain": [
       "0.06720569210866753"
      ]
     },
     "execution_count": 28,
     "metadata": {},
     "output_type": "execute_result"
    }
   ],
   "source": [
    "len(number_of_samples[number_of_samples < 5]) / float(len(number_of_samples))"
   ]
  },
  {
   "cell_type": "code",
   "execution_count": 29,
   "metadata": {},
   "outputs": [
    {
     "data": {
      "text/plain": [
       "143625"
      ]
     },
     "execution_count": 29,
     "metadata": {},
     "output_type": "execute_result"
    }
   ],
   "source": [
    "sum(number_of_samples)"
   ]
  },
  {
   "cell_type": "code",
   "execution_count": null,
   "metadata": {
    "collapsed": true
   },
   "outputs": [],
   "source": []
  }
 ],
 "metadata": {
  "kernelspec": {
   "display_name": "Python 2",
   "language": "python",
   "name": "python2"
  },
  "language_info": {
   "codemirror_mode": {
    "name": "ipython",
    "version": 2
   },
   "file_extension": ".py",
   "mimetype": "text/x-python",
   "name": "python",
   "nbconvert_exporter": "python",
   "pygments_lexer": "ipython2",
   "version": "2.7.13"
  }
 },
 "nbformat": 4,
 "nbformat_minor": 2
}
