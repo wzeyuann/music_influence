{
 "cells": [
  {
   "cell_type": "code",
   "execution_count": 2,
   "metadata": {
    "collapsed": true
   },
   "outputs": [],
   "source": [
    "# -*- coding: utf-8 -*-\n",
    "import numpy as np\n",
    "import pandas as pd\n",
    "from joblib import Parallel, delayed\n",
    "import multiprocessing\n",
    "import librosa\n",
    "import os\n",
    "from tqdm import tqdm_notebook\n",
    "import sys\n",
    "from itertools import islice\n",
    "from random import shuffle\n",
    "from sklearn.cluster import MiniBatchKMeans\n",
    "from time import time\n",
    "from sklearn.externals import joblib"
   ]
  },
  {
   "cell_type": "code",
   "execution_count": 22,
   "metadata": {
    "collapsed": true
   },
   "outputs": [],
   "source": [
    "# Directory containing raw audio files\n",
    "AUDIO_DIR = '/Volumes/thesis/audio/'\n",
    "# Directory to write features to\n",
    "MFCC_WRITE_DIR = 'data/features/mfcc/'\n",
    "MEL_WRITE_DIR = 'data/features/mel_spec/'\n",
    "MEL_ALL_WRITE_DIR = '/Volumes/thesis/features/mel_spec_all_padded/'\n",
    "MFCC_ALL_WRITE_DIR = 'data/features/mfcc_all_unpadded/'\n",
    "BOW_WRITE_DIR = 'data/features/bow_2000'"
   ]
  },
  {
   "cell_type": "code",
   "execution_count": 13,
   "metadata": {
    "collapsed": true
   },
   "outputs": [],
   "source": [
    "BOW_SIZE = 2000"
   ]
  },
  {
   "cell_type": "code",
   "execution_count": 19,
   "metadata": {
    "collapsed": true
   },
   "outputs": [],
   "source": [
    "# Load AllMusic data\n",
    "artists = pd.read_csv('data/allmusic/artists_cleaned.csv')"
   ]
  },
  {
   "cell_type": "markdown",
   "metadata": {},
   "source": [
    "# Create Mel-frequency cepstral coefficient (MFCC) representations of first track for each artist we have audio for"
   ]
  },
  {
   "cell_type": "code",
   "execution_count": null,
   "metadata": {
    "collapsed": true
   },
   "outputs": [],
   "source": [
    "# key is artist id, value is a MFCC representation of first track for artist\n",
    "mfcc_dict = {}"
   ]
  },
  {
   "cell_type": "code",
   "execution_count": null,
   "metadata": {
    "collapsed": true
   },
   "outputs": [],
   "source": [
    "for artist in tqdm_notebook(os.listdir(AUDIO_DIR)):\n",
    "    first_track = None\n",
    "    \n",
    "    for track in os.listdir(AUDIO_DIR + artist):\n",
    "        # Find the first track (zero-indexed)\n",
    "        if track.startswith('0'):\n",
    "            first_track = track\n",
    "            break\n",
    "    \n",
    "    # Create MFCC representation of track\n",
    "    if first_track is not None:\n",
    "        try:\n",
    "            y, sr = librosa.load(AUDIO_DIR + '{}/{}'.format(artist, first_track))\n",
    "            mfcc_dict[artist] = librosa.feature.mfcc(y=y, sr=sr, n_mfcc=13)    \n",
    "        except Exception as e:\n",
    "            print e"
   ]
  },
  {
   "cell_type": "code",
   "execution_count": null,
   "metadata": {
    "collapsed": true
   },
   "outputs": [],
   "source": [
    "# Compute maximum dimensions for mfcc feature matrix\n",
    "shapes = []\n",
    "\n",
    "for i, item in mfcc_dict.items():\n",
    "    shapes.append(item.shape)\n",
    "\n",
    "max_dim = np.max(shapes, axis=0)\n",
    "\n",
    "for i, item in mfcc_dict.items():\n",
    "    # Zero pad so that all matrices are the same size\n",
    "    padded = np.zeros(max_dim)\n",
    "    padded[:,:mfcc_dict[i].shape[1]] = mfcc_dict[i]\n",
    "    mfcc_dict[i] = padded"
   ]
  },
  {
   "cell_type": "code",
   "execution_count": null,
   "metadata": {
    "collapsed": true
   },
   "outputs": [],
   "source": [
    "# Write mfcc arrays to files\n",
    "for i, mfcc in tqdm_notebook(mfcc_dict.items()):\n",
    "    np.save(MFCC_WRITE_DIR + '{}.npy'.format(i), mfcc)"
   ]
  },
  {
   "cell_type": "markdown",
   "metadata": {},
   "source": [
    "# MFCC Extraction for all tracks for all artists"
   ]
  },
  {
   "cell_type": "code",
   "execution_count": null,
   "metadata": {
    "collapsed": true
   },
   "outputs": [],
   "source": [
    "for artist in tqdm_notebook(os.listdir(AUDIO_DIR)):\n",
    "    # Create directory for each artist if it does not exist yet\n",
    "    artist_mfcc_path = MFCC_ALL_WRITE_DIR + artist\n",
    "    \n",
    "    if not os.path.isdir(artist_mfcc_path):\n",
    "        os.makedirs(artist_mfcc_path)\n",
    "    \n",
    "    for track in os.listdir(AUDIO_DIR + artist):\n",
    "        # Create MFCC representation of track\n",
    "        try:\n",
    "            y, sr = librosa.load(AUDIO_DIR + '{}/{}'.format(artist, track))\n",
    "            mfcc = librosa.feature.mfcc(y=y, sr=sr, n_mfcc=13)\n",
    "            np.save(artist_mfcc_path + '/{}.npy'.format(track.decode('utf-8').split('.mp3')[0].encode('utf-8')), mfcc)\n",
    "        except Exception as e:\n",
    "            print artist, track\n",
    "            print e\n",
    "            "
   ]
  },
  {
   "cell_type": "markdown",
   "metadata": {},
   "source": [
    "## Calculate mean and standard deviation of each MFCC to normalize"
   ]
  },
  {
   "cell_type": "code",
   "execution_count": 6,
   "metadata": {},
   "outputs": [
    {
     "data": {
      "application/vnd.jupyter.widget-view+json": {
       "model_id": "099c54b01fde4eb294b7d85bde8fbe8e",
       "version_major": 2,
       "version_minor": 0
      },
      "text/plain": [
       "A Jupyter Widget"
      ]
     },
     "metadata": {},
     "output_type": "display_data"
    },
    {
     "name": "stdout",
     "output_type": "stream",
     "text": [
      "\n"
     ]
    }
   ],
   "source": [
    "frame_count = 0\n",
    "mfcc_sum = np.zeros(13,)\n",
    "\n",
    "for artist in tqdm_notebook(os.listdir(MFCC_ALL_WRITE_DIR)):\n",
    "    for song in os.listdir(MFCC_ALL_WRITE_DIR + artist):\n",
    "        mfcc = np.load(MFCC_ALL_WRITE_DIR + artist + '/' + song)\n",
    "        mfcc_sum += mfcc.sum(axis=1)\n",
    "        frame_count += mfcc.shape[1]"
   ]
  },
  {
   "cell_type": "code",
   "execution_count": 11,
   "metadata": {},
   "outputs": [
    {
     "data": {
      "text/plain": [
       "array([-134.21148862,  105.97183766,  -10.34393744,   34.95313303,\n",
       "         -2.4342333 ,   13.40578362,   -5.42583774,    8.09681016,\n",
       "         -6.18242169,    4.73996903,   -4.18510326,    1.60272867,\n",
       "         -3.045377  ])"
      ]
     },
     "execution_count": 11,
     "metadata": {},
     "output_type": "execute_result"
    }
   ],
   "source": [
    "mfcc_means"
   ]
  },
  {
   "cell_type": "code",
   "execution_count": null,
   "metadata": {
    "collapsed": true
   },
   "outputs": [],
   "source": [
    "np.save('kmeans_helpers/mfcc_means.npy', mfcc_means)"
   ]
  },
  {
   "cell_type": "code",
   "execution_count": 13,
   "metadata": {},
   "outputs": [
    {
     "data": {
      "application/vnd.jupyter.widget-view+json": {
       "model_id": "8434501cff1945bbbe9dc3c9772052cb",
       "version_major": 2,
       "version_minor": 0
      },
      "text/plain": [
       "A Jupyter Widget"
      ]
     },
     "metadata": {},
     "output_type": "display_data"
    },
    {
     "name": "stdout",
     "output_type": "stream",
     "text": [
      "\n"
     ]
    },
    {
     "ename": "ValueError",
     "evalue": "non-broadcastable output operand with shape (13,) doesn't match the broadcast shape (13,13)",
     "output_type": "error",
     "traceback": [
      "\u001b[0;31m---------------------------------------------------------------------------\u001b[0m",
      "\u001b[0;31mValueError\u001b[0m                                Traceback (most recent call last)",
      "\u001b[0;32m<ipython-input-13-26691cbc6cb9>\u001b[0m in \u001b[0;36m<module>\u001b[0;34m()\u001b[0m\n\u001b[1;32m      4\u001b[0m     \u001b[0;32mfor\u001b[0m \u001b[0msong\u001b[0m \u001b[0;32min\u001b[0m \u001b[0mos\u001b[0m\u001b[0;34m.\u001b[0m\u001b[0mlistdir\u001b[0m\u001b[0;34m(\u001b[0m\u001b[0mMFCC_ALL_WRITE_DIR\u001b[0m \u001b[0;34m+\u001b[0m \u001b[0martist\u001b[0m\u001b[0;34m)\u001b[0m\u001b[0;34m:\u001b[0m\u001b[0;34m\u001b[0m\u001b[0m\n\u001b[1;32m      5\u001b[0m         \u001b[0mmfcc\u001b[0m \u001b[0;34m=\u001b[0m \u001b[0mnp\u001b[0m\u001b[0;34m.\u001b[0m\u001b[0mload\u001b[0m\u001b[0;34m(\u001b[0m\u001b[0mMFCC_ALL_WRITE_DIR\u001b[0m \u001b[0;34m+\u001b[0m \u001b[0martist\u001b[0m \u001b[0;34m+\u001b[0m \u001b[0;34m'/'\u001b[0m \u001b[0;34m+\u001b[0m \u001b[0msong\u001b[0m\u001b[0;34m)\u001b[0m\u001b[0;34m\u001b[0m\u001b[0m\n\u001b[0;32m----> 6\u001b[0;31m         \u001b[0msq_dev_sum\u001b[0m \u001b[0;34m+=\u001b[0m \u001b[0;34m(\u001b[0m\u001b[0;34m(\u001b[0m\u001b[0mmfcc\u001b[0m\u001b[0;34m.\u001b[0m\u001b[0mT\u001b[0m \u001b[0;34m-\u001b[0m \u001b[0mmfcc_means\u001b[0m\u001b[0;34m.\u001b[0m\u001b[0mT\u001b[0m\u001b[0;34m)\u001b[0m\u001b[0;34m.\u001b[0m\u001b[0mT\u001b[0m \u001b[0;34m**\u001b[0m \u001b[0;36m2\u001b[0m\u001b[0;34m)\u001b[0m\u001b[0;34m.\u001b[0m\u001b[0msum\u001b[0m\u001b[0;34m(\u001b[0m\u001b[0maxis\u001b[0m\u001b[0;34m=\u001b[0m\u001b[0;36m1\u001b[0m\u001b[0;34m)\u001b[0m\u001b[0;34m.\u001b[0m\u001b[0mreshape\u001b[0m\u001b[0;34m(\u001b[0m\u001b[0;34m-\u001b[0m\u001b[0;36m1\u001b[0m\u001b[0;34m,\u001b[0m \u001b[0;36m1\u001b[0m\u001b[0;34m)\u001b[0m\u001b[0;34m\u001b[0m\u001b[0m\n\u001b[0m\u001b[1;32m      7\u001b[0m \u001b[0;34m\u001b[0m\u001b[0m\n\u001b[1;32m      8\u001b[0m \u001b[0mmfcc_stds\u001b[0m \u001b[0;34m=\u001b[0m \u001b[0mnp\u001b[0m\u001b[0;34m.\u001b[0m\u001b[0msqrt\u001b[0m\u001b[0;34m(\u001b[0m\u001b[0msq_dev_sum\u001b[0m \u001b[0;34m/\u001b[0m \u001b[0mframe_count\u001b[0m\u001b[0;34m)\u001b[0m\u001b[0;34m\u001b[0m\u001b[0m\n",
      "\u001b[0;31mValueError\u001b[0m: non-broadcastable output operand with shape (13,) doesn't match the broadcast shape (13,13)"
     ]
    }
   ],
   "source": [
    "sq_dev_sum = np.zeros(13,)\n",
    "\n",
    "for artist in tqdm_notebook(os.listdir(MFCC_ALL_WRITE_DIR)):\n",
    "    for song in os.listdir(MFCC_ALL_WRITE_DIR + artist):\n",
    "        mfcc = np.load(MFCC_ALL_WRITE_DIR + artist + '/' + song)\n",
    "        sq_dev_sum += ((mfcc.T - mfcc_means.T).T ** 2).sum(axis=1).reshape(-1, 1)\n",
    "        \n",
    "mfcc_stds = np.sqrt(sq_dev_sum / frame_count)"
   ]
  },
  {
   "cell_type": "code",
   "execution_count": null,
   "metadata": {
    "collapsed": true
   },
   "outputs": [],
   "source": [
    "np.save('kmeans_helpers/mfcc_stds.npy', mfcc_stds)"
   ]
  },
  {
   "cell_type": "markdown",
   "metadata": {},
   "source": [
    "## Create codebook for normalized MFCCs via streaming kmeans clustering"
   ]
  },
  {
   "cell_type": "code",
   "execution_count": 15,
   "metadata": {
    "collapsed": true
   },
   "outputs": [],
   "source": [
    "mfcc_means = np.load('kmeans_helpers/mfcc_means.npy')\n",
    "mfcc_stds = np.load('kmeans_helpers/mfcc_stds.npy')"
   ]
  },
  {
   "cell_type": "code",
   "execution_count": 10,
   "metadata": {
    "collapsed": true
   },
   "outputs": [],
   "source": [
    "paths = []\n",
    "\n",
    "for artist in os.listdir(MFCC_ALL_WRITE_DIR):\n",
    "    for song in os.listdir(MFCC_ALL_WRITE_DIR + artist):\n",
    "        paths.append(MFCC_ALL_WRITE_DIR + artist + '/' + song)\n",
    "        \n",
    "# Shuffle path names\n",
    "shuffle(paths)"
   ]
  },
  {
   "cell_type": "code",
   "execution_count": 11,
   "metadata": {
    "collapsed": true
   },
   "outputs": [],
   "source": [
    "def generate_batch(paths, batch_size=1000):\n",
    "    \"\"\"Given an iterable of paths to mfcc vectors, generate batches for streaming\"\"\"\n",
    "    l = len(paths)\n",
    "    for ndx in range(0, l, batch_size):\n",
    "        yield paths[ndx:min(ndx + batch_size, l)]"
   ]
  },
  {
   "cell_type": "code",
   "execution_count": 12,
   "metadata": {},
   "outputs": [
    {
     "name": "stdout",
     "output_type": "stream",
     "text": [
      "Fitting batch 1\n",
      "Fitting batch 2\n",
      "Fitting batch 3\n",
      "Fitting batch 4\n",
      "Fitting batch 5\n",
      "Fitting batch 6\n",
      "Fitting batch 7\n",
      "Fitting batch 8\n",
      "Fitting batch 9\n",
      "Fitting batch 10\n",
      "Fitting batch 11\n",
      "Fitting batch 12\n",
      "Fitting batch 13\n",
      "Fitting batch 14\n",
      "Fitting batch 15\n",
      "Fitting batch 16\n",
      "Fitting batch 17\n",
      "Fitting batch 18\n",
      "Fitting batch 19\n",
      "Fitting batch 20\n",
      "Fitting batch 21\n",
      "Fitting batch 22\n",
      "Fitting batch 23\n",
      "Fitting batch 24\n",
      "Fitting batch 25\n",
      "Fitting batch 26\n",
      "Fitting batch 27\n",
      "Fitting batch 28\n",
      "Fitting batch 29\n",
      "Fitting batch 30\n",
      "Fitting batch 31\n",
      "Fitting batch 32\n",
      "Fitting batch 33\n",
      "Fitting batch 34\n",
      "Fitting batch 35\n",
      "Fitting batch 36\n",
      "Fitting batch 37\n",
      "Fitting batch 38\n",
      "Fitting batch 39\n",
      "Fitting batch 40\n",
      "Fitting batch 41\n",
      "Fitting batch 42\n",
      "Fitting batch 43\n",
      "Fitting batch 44\n",
      "Fitting batch 45\n",
      "Fitting batch 46\n",
      "Fitting batch 47\n",
      "Fitting batch 48\n",
      "Fitting batch 49\n",
      "Fitting batch 50\n",
      "Fitting batch 51\n",
      "Fitting batch 52\n",
      "Fitting batch 53\n",
      "Fitting batch 54\n",
      "Fitting batch 55\n",
      "Fitting batch 56\n",
      "Fitting batch 57\n",
      "Fitting batch 58\n",
      "Fitting batch 59\n",
      "Fitting batch 60\n",
      "Fitting batch 61\n",
      "Fitting batch 62\n",
      "Fitting batch 63\n",
      "Fitting batch 64\n",
      "Fitting batch 65\n",
      "Fitting batch 66\n",
      "Fitting batch 67\n",
      "Fitting batch 68\n",
      "Fitting batch 69\n",
      "Fitting batch 70\n",
      "Fitting batch 71\n",
      "Fitting batch 72\n",
      "Fitting batch 73\n",
      "Fitting batch 74\n",
      "Fitting batch 75\n",
      "Fitting batch 76\n",
      "Fitting batch 77\n",
      "Fitting batch 78\n",
      "Fitting batch 79\n",
      "Fitting batch 80\n",
      "Fitting batch 81\n",
      "Fitting batch 82\n",
      "Fitting batch 83\n",
      "Fitting batch 84\n",
      "Fitting batch 85\n",
      "Fitting batch 86\n",
      "Fitting batch 87\n",
      "Fitting batch 88\n",
      "Fitting batch 89\n",
      "Fitting batch 90\n",
      "Fitting batch 91\n",
      "Fitting batch 92\n",
      "Fitting batch 93\n",
      "Fitting batch 94\n",
      "Fitting batch 95\n",
      "Fitting batch 96\n",
      "Fitting batch 97\n",
      "Fitting batch 98\n",
      "Fitting batch 99\n",
      "Fitting batch 100\n",
      "Fitting batch 101\n",
      "Fitting batch 102\n",
      "Fitting batch 103\n",
      "Fitting batch 104\n",
      "Fitting batch 105\n",
      "Fitting batch 106\n",
      "Fitting batch 107\n",
      "Fitting batch 108\n",
      "Fitting batch 109\n",
      "Fitting batch 110\n",
      "Fitting batch 111\n",
      "Fitting batch 112\n",
      "Fitting batch 113\n",
      "Fitting batch 114\n",
      "Fitting batch 115\n",
      "Fitting batch 116\n",
      "Fitting batch 117\n",
      "Fitting batch 118\n",
      "Fitting batch 119\n",
      "Fitting batch 120\n",
      "Fitting batch 121\n",
      "Fitting batch 122\n",
      "Fitting batch 123\n",
      "Fitting batch 124\n",
      "Fitting batch 125\n",
      "Fitting batch 126\n",
      "Fitting batch 127\n",
      "Fitting batch 128\n",
      "Fitting batch 129\n",
      "Fitting batch 130\n",
      "Fitting batch 131\n",
      "Fitting batch 132\n",
      "Fitting batch 133\n",
      "Fitting batch 134\n",
      "Fitting batch 135\n",
      "Fitting batch 136\n",
      "Fitting batch 137\n",
      "Fitting batch 138\n",
      "Fitting batch 139\n",
      "Fitting batch 140\n",
      "Fitting batch 141\n",
      "Fitting batch 142\n",
      "Fitting batch 143\n",
      "Fitting batch 144\n"
     ]
    }
   ],
   "source": [
    "kmeans = MiniBatchKMeans(n_clusters=BOW_SIZE)\n",
    "count = 0\n",
    "\n",
    "for batch in generate_batch(paths, 1000):\n",
    "    count += 1\n",
    "    print \"Fitting batch\", count\n",
    "    \n",
    "    X = []\n",
    "    \n",
    "    # Read in mfcc vectors and normalize\n",
    "    for path in batch:\n",
    "        # Shape is (13, num_frames)\n",
    "        mfcc = np.load(path)\n",
    "        # Normalize by subtracting mean and dividing by std_dev\n",
    "        mfcc_norm = (mfcc.T - mfcc_means) / mfcc_stds\n",
    "        \n",
    "        for frame in mfcc_norm:\n",
    "            X.append(frame)\n",
    "    \n",
    "    # Update kmeans using batch\n",
    "    kmeans.partial_fit(X)"
   ]
  },
  {
   "cell_type": "code",
   "execution_count": null,
   "metadata": {},
   "outputs": [
    {
     "data": {
      "text/plain": [
       "['kmeans_helpers/kmeans_2000.pkl']"
      ]
     },
     "execution_count": 13,
     "metadata": {},
     "output_type": "execute_result"
    }
   ],
   "source": [
    "joblib.dump(kmeans, 'kmeans_helpers/kmeans_2000.pkl')"
   ]
  },
  {
   "cell_type": "markdown",
   "metadata": {},
   "source": [
    "# Bag of Words Representation for MFCC features using Kmeans quantization"
   ]
  },
  {
   "cell_type": "code",
   "execution_count": 3,
   "metadata": {
    "collapsed": true
   },
   "outputs": [],
   "source": [
    "kmeans = joblib.load('kmeans_helpers/kmeans_2000.pkl')"
   ]
  },
  {
   "cell_type": "code",
   "execution_count": 23,
   "metadata": {},
   "outputs": [
    {
     "data": {
      "application/vnd.jupyter.widget-view+json": {
       "model_id": "e76cce3010bd4e58abe63b22520ecbee",
       "version_major": 2,
       "version_minor": 0
      },
      "text/plain": [
       "A Jupyter Widget"
      ]
     },
     "metadata": {},
     "output_type": "display_data"
    }
   ],
   "source": [
    "for artist in tqdm_notebook(os.listdir(MFCC_ALL_WRITE_DIR)):\n",
    "    # Create directory for each artist if it does not exist yet\n",
    "    artist_bow_path = BOW_WRITE_DIR + artist\n",
    "    \n",
    "    if not os.path.isdir(artist_bow_path):\n",
    "        os.makedirs(artist_bow_path)\n",
    "    \n",
    "    for song in os.listdir(MFCC_ALL_WRITE_DIR + artist):\n",
    "        try:\n",
    "            X = []\n",
    "            bow = [0 for _ in range(BOW_SIZE)]\n",
    "\n",
    "            mfcc = np.load(MFCC_ALL_WRITE_DIR + artist + '/' + song)\n",
    "            # Normalize by subtracting mean and dividing by std_dev\n",
    "            mfcc_norm = (mfcc.T - mfcc_means) / mfcc_stds\n",
    "\n",
    "            for frame in mfcc_norm:\n",
    "                X.append(frame)\n",
    "\n",
    "            # Give cluster assignments for each frame\n",
    "            cluster_assign = kmeans.predict(X)\n",
    "            for cluster in cluster_assign:\n",
    "                bow[cluster] += 1\n",
    "\n",
    "            # Save bow feature representation\n",
    "            np.save(BOW_WRITE_DIR + artist + '/{}.npy'.format(song.decode('utf-8').split('.npy')[0].encode('utf-8')), bow)\n",
    "        except Exception as e:\n",
    "            print e"
   ]
  },
  {
   "cell_type": "markdown",
   "metadata": {},
   "source": [
    "# Create Mel Spectrogram representations for each first track we have audio for"
   ]
  },
  {
   "cell_type": "code",
   "execution_count": null,
   "metadata": {
    "collapsed": true
   },
   "outputs": [],
   "source": [
    "for artist in tqdm_notebook(os.listdir(AUDIO_DIR)):\n",
    "    first_track = None\n",
    "    \n",
    "    for track in os.listdir(AUDIO_DIR + artist):\n",
    "        # Find the first track (zero-indexed)\n",
    "        if track.startswith('0'):\n",
    "            first_track = track\n",
    "            break\n",
    "    \n",
    "    # Create mel representation of track\n",
    "    if first_track is not None:\n",
    "        try:\n",
    "            y, sr = librosa.load(AUDIO_DIR + '{}/{}'.format(artist, first_track))\n",
    "            mel_spec = librosa.feature.melspectrogram(y, sr=sr, n_mels=128)\n",
    "            # Add zero padding\n",
    "            padded = np.zeros((128, 1298))\n",
    "            padded[:,:mel_spec.shape[1]] = mel_spec\n",
    "            np.save(MEL_WRITE_DIR + '{}.npy'.format(artist), padded)\n",
    "        except Exception as e:\n",
    "            print e"
   ]
  },
  {
   "cell_type": "markdown",
   "metadata": {},
   "source": [
    "# Create Mel Spectrogram representations for each track"
   ]
  },
  {
   "cell_type": "code",
   "execution_count": 21,
   "metadata": {},
   "outputs": [
    {
     "data": {
      "application/vnd.jupyter.widget-view+json": {
       "model_id": "cb7d1254f1de4bddbbf8e527e8b7d93f",
       "version_major": 2,
       "version_minor": 0
      },
      "text/plain": [
       "A Jupyter Widget"
      ]
     },
     "metadata": {},
     "output_type": "display_data"
    },
    {
     "ename": "KeyboardInterrupt",
     "evalue": "",
     "output_type": "error",
     "traceback": [
      "\u001b[0;31m---------------------------------------------------------------------------\u001b[0m",
      "\u001b[0;31mKeyboardInterrupt\u001b[0m                         Traceback (most recent call last)",
      "\u001b[0;32m<ipython-input-21-d08b53006f4f>\u001b[0m in \u001b[0;36m<module>\u001b[0;34m()\u001b[0m\n\u001b[1;32m      8\u001b[0m     \u001b[0;32mfor\u001b[0m \u001b[0mtrack\u001b[0m \u001b[0;32min\u001b[0m \u001b[0mos\u001b[0m\u001b[0;34m.\u001b[0m\u001b[0mlistdir\u001b[0m\u001b[0;34m(\u001b[0m\u001b[0mAUDIO_DIR\u001b[0m \u001b[0;34m+\u001b[0m \u001b[0martist\u001b[0m\u001b[0;34m)\u001b[0m\u001b[0;34m:\u001b[0m\u001b[0;34m\u001b[0m\u001b[0m\n\u001b[1;32m      9\u001b[0m         \u001b[0;31m# Create mel representation of track\u001b[0m\u001b[0;34m\u001b[0m\u001b[0;34m\u001b[0m\u001b[0m\n\u001b[0;32m---> 10\u001b[0;31m         \u001b[0my\u001b[0m\u001b[0;34m,\u001b[0m \u001b[0msr\u001b[0m \u001b[0;34m=\u001b[0m \u001b[0mlibrosa\u001b[0m\u001b[0;34m.\u001b[0m\u001b[0mload\u001b[0m\u001b[0;34m(\u001b[0m\u001b[0mAUDIO_DIR\u001b[0m \u001b[0;34m+\u001b[0m \u001b[0;34m'{}/{}'\u001b[0m\u001b[0;34m.\u001b[0m\u001b[0mformat\u001b[0m\u001b[0;34m(\u001b[0m\u001b[0martist\u001b[0m\u001b[0;34m,\u001b[0m \u001b[0mtrack\u001b[0m\u001b[0;34m)\u001b[0m\u001b[0;34m)\u001b[0m\u001b[0;34m\u001b[0m\u001b[0m\n\u001b[0m\u001b[1;32m     11\u001b[0m         \u001b[0mmel_spec\u001b[0m \u001b[0;34m=\u001b[0m \u001b[0mlibrosa\u001b[0m\u001b[0;34m.\u001b[0m\u001b[0mfeature\u001b[0m\u001b[0;34m.\u001b[0m\u001b[0mmelspectrogram\u001b[0m\u001b[0;34m(\u001b[0m\u001b[0my\u001b[0m\u001b[0;34m,\u001b[0m \u001b[0msr\u001b[0m\u001b[0;34m=\u001b[0m\u001b[0msr\u001b[0m\u001b[0;34m,\u001b[0m \u001b[0mn_mels\u001b[0m\u001b[0;34m=\u001b[0m\u001b[0;36m128\u001b[0m\u001b[0;34m)\u001b[0m\u001b[0;34m\u001b[0m\u001b[0m\n\u001b[1;32m     12\u001b[0m         \u001b[0;31m# Add zero padding\u001b[0m\u001b[0;34m\u001b[0m\u001b[0;34m\u001b[0m\u001b[0m\n",
      "\u001b[0;32m/Users/harryxue/anaconda2/lib/python2.7/site-packages/librosa/core/audio.pyc\u001b[0m in \u001b[0;36mload\u001b[0;34m(path, sr, mono, offset, duration, dtype, res_type)\u001b[0m\n\u001b[1;32m    153\u001b[0m \u001b[0;34m\u001b[0m\u001b[0m\n\u001b[1;32m    154\u001b[0m         \u001b[0;32mif\u001b[0m \u001b[0msr\u001b[0m \u001b[0;32mis\u001b[0m \u001b[0;32mnot\u001b[0m \u001b[0mNone\u001b[0m\u001b[0;34m:\u001b[0m\u001b[0;34m\u001b[0m\u001b[0m\n\u001b[0;32m--> 155\u001b[0;31m             \u001b[0my\u001b[0m \u001b[0;34m=\u001b[0m \u001b[0mresample\u001b[0m\u001b[0;34m(\u001b[0m\u001b[0my\u001b[0m\u001b[0;34m,\u001b[0m \u001b[0msr_native\u001b[0m\u001b[0;34m,\u001b[0m \u001b[0msr\u001b[0m\u001b[0;34m,\u001b[0m \u001b[0mres_type\u001b[0m\u001b[0;34m=\u001b[0m\u001b[0mres_type\u001b[0m\u001b[0;34m)\u001b[0m\u001b[0;34m\u001b[0m\u001b[0m\n\u001b[0m\u001b[1;32m    156\u001b[0m \u001b[0;34m\u001b[0m\u001b[0m\n\u001b[1;32m    157\u001b[0m         \u001b[0;32melse\u001b[0m\u001b[0;34m:\u001b[0m\u001b[0;34m\u001b[0m\u001b[0m\n",
      "\u001b[0;32m/Users/harryxue/anaconda2/lib/python2.7/site-packages/librosa/core/audio.pyc\u001b[0m in \u001b[0;36mresample\u001b[0;34m(y, orig_sr, target_sr, res_type, fix, scale, **kwargs)\u001b[0m\n\u001b[1;32m    279\u001b[0m         \u001b[0my_hat\u001b[0m \u001b[0;34m=\u001b[0m \u001b[0mscipy\u001b[0m\u001b[0;34m.\u001b[0m\u001b[0msignal\u001b[0m\u001b[0;34m.\u001b[0m\u001b[0mresample\u001b[0m\u001b[0;34m(\u001b[0m\u001b[0my\u001b[0m\u001b[0;34m,\u001b[0m \u001b[0mn_samples\u001b[0m\u001b[0;34m,\u001b[0m \u001b[0maxis\u001b[0m\u001b[0;34m=\u001b[0m\u001b[0;34m-\u001b[0m\u001b[0;36m1\u001b[0m\u001b[0;34m)\u001b[0m\u001b[0;34m\u001b[0m\u001b[0m\n\u001b[1;32m    280\u001b[0m     \u001b[0;32melse\u001b[0m\u001b[0;34m:\u001b[0m\u001b[0;34m\u001b[0m\u001b[0m\n\u001b[0;32m--> 281\u001b[0;31m         \u001b[0my_hat\u001b[0m \u001b[0;34m=\u001b[0m \u001b[0mresampy\u001b[0m\u001b[0;34m.\u001b[0m\u001b[0mresample\u001b[0m\u001b[0;34m(\u001b[0m\u001b[0my\u001b[0m\u001b[0;34m,\u001b[0m \u001b[0morig_sr\u001b[0m\u001b[0;34m,\u001b[0m \u001b[0mtarget_sr\u001b[0m\u001b[0;34m,\u001b[0m \u001b[0mfilter\u001b[0m\u001b[0;34m=\u001b[0m\u001b[0mres_type\u001b[0m\u001b[0;34m,\u001b[0m \u001b[0maxis\u001b[0m\u001b[0;34m=\u001b[0m\u001b[0;34m-\u001b[0m\u001b[0;36m1\u001b[0m\u001b[0;34m)\u001b[0m\u001b[0;34m\u001b[0m\u001b[0m\n\u001b[0m\u001b[1;32m    282\u001b[0m \u001b[0;34m\u001b[0m\u001b[0m\n\u001b[1;32m    283\u001b[0m     \u001b[0;32mif\u001b[0m \u001b[0mfix\u001b[0m\u001b[0;34m:\u001b[0m\u001b[0;34m\u001b[0m\u001b[0m\n",
      "\u001b[0;32m/Users/harryxue/anaconda2/lib/python2.7/site-packages/resampy/core.pyc\u001b[0m in \u001b[0;36mresample\u001b[0;34m(x, sr_orig, sr_new, axis, filter, **kwargs)\u001b[0m\n\u001b[1;32m    111\u001b[0m     \u001b[0mx_2d\u001b[0m \u001b[0;34m=\u001b[0m \u001b[0mx\u001b[0m\u001b[0;34m.\u001b[0m\u001b[0mswapaxes\u001b[0m\u001b[0;34m(\u001b[0m\u001b[0;36m0\u001b[0m\u001b[0;34m,\u001b[0m \u001b[0maxis\u001b[0m\u001b[0;34m)\u001b[0m\u001b[0;34m.\u001b[0m\u001b[0mreshape\u001b[0m\u001b[0;34m(\u001b[0m\u001b[0;34m(\u001b[0m\u001b[0mx\u001b[0m\u001b[0;34m.\u001b[0m\u001b[0mshape\u001b[0m\u001b[0;34m[\u001b[0m\u001b[0maxis\u001b[0m\u001b[0;34m]\u001b[0m\u001b[0;34m,\u001b[0m \u001b[0;34m-\u001b[0m\u001b[0;36m1\u001b[0m\u001b[0;34m)\u001b[0m\u001b[0;34m)\u001b[0m\u001b[0;34m\u001b[0m\u001b[0m\n\u001b[1;32m    112\u001b[0m     \u001b[0my_2d\u001b[0m \u001b[0;34m=\u001b[0m \u001b[0my\u001b[0m\u001b[0;34m.\u001b[0m\u001b[0mswapaxes\u001b[0m\u001b[0;34m(\u001b[0m\u001b[0;36m0\u001b[0m\u001b[0;34m,\u001b[0m \u001b[0maxis\u001b[0m\u001b[0;34m)\u001b[0m\u001b[0;34m.\u001b[0m\u001b[0mreshape\u001b[0m\u001b[0;34m(\u001b[0m\u001b[0;34m(\u001b[0m\u001b[0my\u001b[0m\u001b[0;34m.\u001b[0m\u001b[0mshape\u001b[0m\u001b[0;34m[\u001b[0m\u001b[0maxis\u001b[0m\u001b[0;34m]\u001b[0m\u001b[0;34m,\u001b[0m \u001b[0;34m-\u001b[0m\u001b[0;36m1\u001b[0m\u001b[0;34m)\u001b[0m\u001b[0;34m)\u001b[0m\u001b[0;34m\u001b[0m\u001b[0m\n\u001b[0;32m--> 113\u001b[0;31m     \u001b[0mresample_f\u001b[0m\u001b[0;34m(\u001b[0m\u001b[0mx_2d\u001b[0m\u001b[0;34m,\u001b[0m \u001b[0my_2d\u001b[0m\u001b[0;34m,\u001b[0m \u001b[0msample_ratio\u001b[0m\u001b[0;34m,\u001b[0m \u001b[0minterp_win\u001b[0m\u001b[0;34m,\u001b[0m \u001b[0minterp_delta\u001b[0m\u001b[0;34m,\u001b[0m \u001b[0mprecision\u001b[0m\u001b[0;34m)\u001b[0m\u001b[0;34m\u001b[0m\u001b[0m\n\u001b[0m\u001b[1;32m    114\u001b[0m \u001b[0;34m\u001b[0m\u001b[0m\n\u001b[1;32m    115\u001b[0m     \u001b[0;32mreturn\u001b[0m \u001b[0my\u001b[0m\u001b[0;34m\u001b[0m\u001b[0m\n",
      "\u001b[0;31mKeyboardInterrupt\u001b[0m: "
     ]
    }
   ],
   "source": [
    "for artist in tqdm_notebook(os.listdir(AUDIO_DIR)):\n",
    "    # Create directory for each artist if it does not exist yet\n",
    "    artist_mel_path = MEL_ALL_WRITE_DIR + artist\n",
    "    \n",
    "    if not os.path.isdir(artist_mel_path):\n",
    "        os.makedirs(artist_mel_path)\n",
    "\n",
    "    for track in os.listdir(AUDIO_DIR + artist):\n",
    "        try:\n",
    "            # Create mel representation of track\n",
    "            y, sr = librosa.load(AUDIO_DIR + '{}/{}'.format(artist, track))\n",
    "            mel_spec = librosa.feature.melspectrogram(y, sr=sr, n_mels=128)\n",
    "            # Add zero padding\n",
    "            padded = np.zeros((128, 1298))\n",
    "            padded[:,:mel_spec.shape[1]] = mel_spec\n",
    "            np.save(MEL_ALL_WRITE_DIR + artist + '/{}.npy'.format(os.path.splitext(track)[0]), padded)\n",
    "        except Exception as e:\n",
    "            print artist\n",
    "            print song\n",
    "            print e"
   ]
  },
  {
   "cell_type": "code",
   "execution_count": 5,
   "metadata": {},
   "outputs": [
    {
     "name": "stdout",
     "output_type": "stream",
     "text": [
      "0000021009\n",
      "3_No More Heroes.mp3\n",
      "\n",
      "0000033286\n",
      "1_Trip to New Orleans.mp3\n",
      "\n",
      "0000036367\n",
      "6_The Great Out There.mp3\n",
      "\n",
      "0000053204\n",
      "3_Não Quero Saber Mais Dela.mp3\n",
      "\n",
      "0000057073\n",
      "0_Poison in Your Brain.mp3\n",
      "\n",
      "0000059537\n",
      "9_Saturday Freedom.mp3\n",
      "\n",
      "0000070349\n",
      "3_It Will Be Alright With Me.mp3\n",
      "\n",
      "0000071514\n",
      "2_Fussing and Fighting.mp3\n",
      "\n",
      "0000078160\n",
      "7_New Forms.mp3\n",
      "\n",
      "0000082831\n",
      "3_I'm Making Believe.mp3\n",
      "\n",
      "0000083097\n",
      "1_Break the Silence.mp3\n",
      "\n",
      "0000102964\n",
      "8_Fuck America.mp3\n",
      "\n",
      "0000104035\n",
      "8_That's Where My Money Goes.mp3\n",
      "\n",
      "0000107139\n",
      "3_Don't Let 'Em.mp3\n",
      "\n",
      "0000125528\n",
      "9_Cocaine Cool [Extended Vol. 2].mp3\n",
      "\n",
      "0000127044\n",
      "4_Jeepers Creepers.mp3\n",
      "\n",
      "0000157314\n",
      "5_Throw Your Hands.mp3\n",
      "\n",
      "0000159052\n",
      "5_The Weight.mp3\n",
      "\n",
      "0000159697\n",
      "4_Ten Toes Down.mp3\n",
      "\n",
      "0000161173\n",
      "8_Interviews.mp3\n",
      "\n",
      "0000169341\n",
      "2_Menage a Trois.mp3\n",
      "\n",
      "0000178345\n",
      "5_Don't Wann Fall in Love.mp3\n",
      "\n",
      "0000178852\n",
      "3_Gotta Get Mine.mp3\n",
      "\n",
      "0000180228\n",
      "3_Rip It Up.mp3\n",
      "\n",
      "0000190951\n",
      "9_Atomic Bass Cats.mp3\n",
      "\n",
      "0000194875\n",
      "4_Sleepin' on My Couch.mp3\n",
      "\n",
      "0000195868\n",
      "5_Funk Yard.mp3\n",
      "\n",
      "0000198783\n",
      "1_I'm Coming Home.mp3\n",
      "\n",
      "0000216116\n",
      "2_Metro.mp3\n",
      "\n",
      "0000223197\n",
      "1_Drag My Body.mp3\n",
      "\n",
      "0000223197\n",
      "5_Exister.mp3\n",
      "\n",
      "0000227607\n",
      "1_Cold Lonely Nights.mp3\n",
      "\n",
      "0000246172\n",
      "3_Je Suis Content.mp3\n",
      "\n",
      "0000273239\n",
      "7_Can I Get Witcha.mp3\n",
      "\n",
      "0000277061\n",
      "5_Deni Kelen Be Koko (Lonely Girl by the Riverside).mp3\n",
      "\n",
      "0000277061\n",
      "6_Jugu (Enemy).mp3\n",
      "\n",
      "0000287995\n",
      "1_Crime of Passion.mp3\n",
      "\n",
      "0000289986\n",
      "5_Dig That Crazy Chick.mp3\n",
      "\n",
      "0000297559\n",
      "0_The Pearly Blues.mp3\n",
      "\n",
      "0000304555\n",
      "4_Side of the Road.mp3\n",
      "\n",
      "0000321126\n",
      "0_Must Be the Music.mp3\n",
      "\n",
      "0000346684\n",
      "5_Seek It.mp3\n",
      "\n",
      "0000380458\n",
      "6_Indian Momma.mp3\n",
      "\n",
      "0000394557\n",
      "9_Would You Leave Me Alone, Little Darling.mp3\n",
      "\n",
      "0000400717\n",
      "4_Under the Weeping Moon.mp3\n",
      "\n",
      "0000416986\n",
      "2_Friends.mp3\n",
      "\n",
      "0000417607\n",
      "6_There There Betty Betty.mp3\n",
      "\n",
      "0000423267\n",
      "8_Itchycoo Park.mp3\n",
      "\n",
      "0000477494\n",
      "7_He Will Break Your Heart.mp3\n",
      "\n",
      "0000480154\n",
      "3_A Midnight Farewell.mp3\n",
      "\n",
      "0000490265\n",
      "6_Hung Up on Losin'.mp3\n",
      "\n",
      "0000490265\n",
      "9_Once Again.mp3\n",
      "\n",
      "0000496447\n",
      "5_Clarissa.mp3\n",
      "\n",
      "0000501435\n",
      "5_A Chorus Line.mp3\n",
      "\n",
      "0000524814\n",
      "1_Rock & Roll Boogie.mp3\n",
      "\n",
      "0000536794\n",
      "7_É Mentira, Oi.mp3\n",
      "\n",
      "0000546205\n",
      "6_Iemanja.mp3\n",
      "\n",
      "0000558942\n",
      "2_Toggle.mp3\n",
      "\n",
      "0000562949\n",
      "8_138 Trek.mp3\n",
      "\n",
      "0000570046\n",
      "4_Black Kiss.mp3\n",
      "\n",
      "0000575051\n",
      "4_Dandy.mp3\n",
      "\n",
      "0000576030\n",
      "1_Rock the Show.mp3\n",
      "\n",
      "0000580294\n",
      "6_Start the Commotion.mp3\n",
      "\n",
      "0000590044\n",
      "9_Article One.mp3\n",
      "\n",
      "0000600977\n",
      "8_Doin' Damage to My Native Language.mp3\n",
      "\n",
      "0000614137\n",
      "1_Here Comes My Girl.mp3\n",
      "\n",
      "0000615119\n",
      "0_Diamonds on My Windshield.mp3\n",
      "\n",
      "0000622604\n",
      "9_Dusic.mp3\n",
      "\n",
      "0000630439\n",
      "2_It Ain't Necessarily So (Interlude).mp3\n",
      "\n",
      "0000631395\n",
      "8_Birds on High.mp3\n",
      "\n",
      "0000638740\n",
      "7_(I Think I'll Take A) Walk Around the World.mp3\n",
      "\n",
      "0000661026\n",
      "1_What We Do.mp3\n",
      "\n",
      "0000665324\n",
      "0_Psychic Bounty Killaz.mp3\n",
      "\n",
      "0000750129\n",
      "1_Detroit After Dark.mp3\n",
      "\n",
      "0000752151\n",
      "1_Chaos.mp3\n",
      "\n",
      "0000759998\n",
      "1_Cipater.mp3\n",
      "\n",
      "0000762523\n",
      "7_Can I Get a Lil' Luv.mp3\n",
      "\n",
      "0000762595\n",
      "9_My Brutha.mp3\n",
      "\n",
      "0000763341\n",
      "8_Flea Circus.mp3\n",
      "\n",
      "0000772721\n",
      "6_Nights Over Egypt.mp3\n",
      "\n",
      "0000789514\n",
      "5_Maldito Callo.mp3\n",
      "\n",
      "0000791618\n",
      "3_Paper Chace.mp3\n",
      "\n",
      "0000793465\n",
      "2_Paid the Price.mp3\n",
      "\n",
      "0000804430\n",
      "2_Reggae Kumbia.mp3\n",
      "\n",
      "0000812450\n",
      "2_One More Bump.mp3\n",
      "\n",
      "0000833539\n",
      "3_Let's Get Down.mp3\n",
      "\n",
      "0000852698\n",
      "5_Here We Go Again.mp3\n",
      "\n",
      "0000883499\n",
      "8_Street Life.mp3\n",
      "\n",
      "0000886267\n",
      "5_Runnin the Show.mp3\n",
      "\n",
      "0000890683\n",
      "5_Bella.mp3\n",
      "[Errno 5] Input/output error\n",
      "0000890631\n",
      "0000890630\n",
      "7_Down the Road.mp3\n",
      "6_Stormy Sunday Lunchtime.mp3\n",
      "166144 requested and 75766 written\n",
      "166144 requested and 72694 written\n",
      "0000890630\n",
      "8_The Eliminators.mp3\n",
      "[Errno 5] Input/output error\n",
      "0000890631\n",
      "7_Orlando Fla.mp3\n",
      "error -40\n",
      "0000890631\n",
      "8_Guitarpicker Slim.mp3\n",
      "[Errno 28] No space left on device: '/Volumes/thesis/features/mel_spec_all_padded/0000890631/8_Guitarpicker Slim.npy'\n",
      "0000890631\n",
      "9_Pilot.mp3\n",
      "[Errno 28] No space left on device: '/Volumes/thesis/features/mel_spec_all_padded/0000890631/9_Pilot.npy'\n",
      "0000890724\n",
      "4_Your Love Keeps Lifting Me.mp3\n",
      "[Errno 28] No space left on device: '/Volumes/thesis/features/mel_spec_all_padded/0000890724/4_Your Love Keeps Lifting Me.npy'\n",
      "0000890630\n",
      "9_Lost River.mp3\n",
      "[Errno 28] No space left on device: '/Volumes/thesis/features/mel_spec_all_padded/0000890630/9_Lost River.npy'\n",
      "0000890683\n",
      "7_Poco a Poco.mp3\n",
      "[Errno 28] No space left on device: '/Volumes/thesis/features/mel_spec_all_padded/0000890683/7_Poco a Poco.npy'\n",
      "0000890724\n",
      "5_I'm Gonna Make You Love Me.mp3\n",
      "[Errno 28] No space left on device: \"/Volumes/thesis/features/mel_spec_all_padded/0000890724/5_I'm Gonna Make You Love Me.npy\"\n",
      "0000890683\n",
      "8_Para Amarnos Mas.mp3\n",
      "[Errno 28] No space left on device: '/Volumes/thesis/features/mel_spec_all_padded/0000890683/8_Para Amarnos Mas.npy'\n",
      "0000890724\n",
      "6_Don't Stop Now.mp3\n",
      "[Errno 28] No space left on device: \"/Volumes/thesis/features/mel_spec_all_padded/0000890724/6_Don't Stop Now.npy\"\n",
      "0000890683\n",
      "9_No Se Murio el Amor.mp3\n",
      "[Errno 28] No space left on device: '/Volumes/thesis/features/mel_spec_all_padded/0000890683/9_No Se Murio el Amor.npy'\n",
      "0000890724\n",
      "7_A Dream Can Come True.mp3\n",
      "[Errno 28] No space left on device: '/Volumes/thesis/features/mel_spec_all_padded/0000890724/7_A Dream Can Come True.npy'\n",
      "0000890724\n",
      "8_I Was Such a Fool to Fall in Love.mp3\n",
      "[Errno 28] No space left on device: '/Volumes/thesis/features/mel_spec_all_padded/0000890724/8_I Was Such a Fool to Fall in Love.npy'\n",
      "0000890724\n",
      "9_Blue Moon.mp3\n",
      "[Errno 28] No space left on device: '/Volumes/thesis/features/mel_spec_all_padded/0000890724/9_Blue Moon.npy'\n"
     ]
    },
    {
     "ename": "JoblibOSError",
     "evalue": "JoblibOSError\n___________________________________________________________________________\nMultiprocessing exception:\n...........................................................................\n/Users/harryxue/anaconda2/lib/python2.7/runpy.py in _run_module_as_main(mod_name='ipykernel_launcher', alter_argv=1)\n    169     pkg_name = mod_name.rpartition('.')[0]\n    170     main_globals = sys.modules[\"__main__\"].__dict__\n    171     if alter_argv:\n    172         sys.argv[0] = fname\n    173     return _run_code(code, main_globals, None,\n--> 174                      \"__main__\", fname, loader, pkg_name)\n        fname = '/Users/harryxue/anaconda2/lib/python2.7/site-packages/ipykernel_launcher.py'\n        loader = <pkgutil.ImpLoader instance>\n        pkg_name = ''\n    175 \n    176 def run_module(mod_name, init_globals=None,\n    177                run_name=None, alter_sys=False):\n    178     \"\"\"Execute a module's code without importing it\n\n...........................................................................\n/Users/harryxue/anaconda2/lib/python2.7/runpy.py in _run_code(code=<code object <module> at 0x10617e130, file \"/Use...2.7/site-packages/ipykernel_launcher.py\", line 5>, run_globals={'__builtins__': <module '__builtin__' (built-in)>, '__doc__': 'Entry point for launching an IPython kernel.\\n\\nTh...orts until\\nafter removing the cwd from sys.path.\\n', '__file__': '/Users/harryxue/anaconda2/lib/python2.7/site-packages/ipykernel_launcher.py', '__loader__': <pkgutil.ImpLoader instance>, '__name__': '__main__', '__package__': '', 'app': <module 'ipykernel.kernelapp' from '/Users/harry...python2.7/site-packages/ipykernel/kernelapp.pyc'>, 'sys': <module 'sys' (built-in)>}, init_globals=None, mod_name='__main__', mod_fname='/Users/harryxue/anaconda2/lib/python2.7/site-packages/ipykernel_launcher.py', mod_loader=<pkgutil.ImpLoader instance>, pkg_name='')\n     67         run_globals.update(init_globals)\n     68     run_globals.update(__name__ = mod_name,\n     69                        __file__ = mod_fname,\n     70                        __loader__ = mod_loader,\n     71                        __package__ = pkg_name)\n---> 72     exec code in run_globals\n        code = <code object <module> at 0x10617e130, file \"/Use...2.7/site-packages/ipykernel_launcher.py\", line 5>\n        run_globals = {'__builtins__': <module '__builtin__' (built-in)>, '__doc__': 'Entry point for launching an IPython kernel.\\n\\nTh...orts until\\nafter removing the cwd from sys.path.\\n', '__file__': '/Users/harryxue/anaconda2/lib/python2.7/site-packages/ipykernel_launcher.py', '__loader__': <pkgutil.ImpLoader instance>, '__name__': '__main__', '__package__': '', 'app': <module 'ipykernel.kernelapp' from '/Users/harry...python2.7/site-packages/ipykernel/kernelapp.pyc'>, 'sys': <module 'sys' (built-in)>}\n     73     return run_globals\n     74 \n     75 def _run_module_code(code, init_globals=None,\n     76                     mod_name=None, mod_fname=None,\n\n...........................................................................\n/Users/harryxue/anaconda2/lib/python2.7/site-packages/ipykernel_launcher.py in <module>()\n     11     # This is added back by InteractiveShellApp.init_path()\n     12     if sys.path[0] == '':\n     13         del sys.path[0]\n     14 \n     15     from ipykernel import kernelapp as app\n---> 16     app.launch_new_instance()\n\n...........................................................................\n/Users/harryxue/anaconda2/lib/python2.7/site-packages/traitlets/config/application.py in launch_instance(cls=<class 'ipykernel.kernelapp.IPKernelApp'>, argv=None, **kwargs={})\n    653 \n    654         If a global instance already exists, this reinitializes and starts it\n    655         \"\"\"\n    656         app = cls.instance(**kwargs)\n    657         app.initialize(argv)\n--> 658         app.start()\n        app.start = <bound method IPKernelApp.start of <ipykernel.kernelapp.IPKernelApp object>>\n    659 \n    660 #-----------------------------------------------------------------------------\n    661 # utility functions, for convenience\n    662 #-----------------------------------------------------------------------------\n\n...........................................................................\n/Users/harryxue/anaconda2/lib/python2.7/site-packages/ipykernel/kernelapp.py in start(self=<ipykernel.kernelapp.IPKernelApp object>)\n    472             return self.subapp.start()\n    473         if self.poller is not None:\n    474             self.poller.start()\n    475         self.kernel.start()\n    476         try:\n--> 477             ioloop.IOLoop.instance().start()\n    478         except KeyboardInterrupt:\n    479             pass\n    480 \n    481 launch_new_instance = IPKernelApp.launch_instance\n\n...........................................................................\n/Users/harryxue/anaconda2/lib/python2.7/site-packages/zmq/eventloop/ioloop.py in start(self=<zmq.eventloop.ioloop.ZMQIOLoop object>)\n    172             )\n    173         return loop\n    174     \n    175     def start(self):\n    176         try:\n--> 177             super(ZMQIOLoop, self).start()\n        self.start = <bound method ZMQIOLoop.start of <zmq.eventloop.ioloop.ZMQIOLoop object>>\n    178         except ZMQError as e:\n    179             if e.errno == ETERM:\n    180                 # quietly return on ETERM\n    181                 pass\n\n...........................................................................\n/Users/harryxue/anaconda2/lib/python2.7/site-packages/tornado/ioloop.py in start(self=<zmq.eventloop.ioloop.ZMQIOLoop object>)\n    883                 self._events.update(event_pairs)\n    884                 while self._events:\n    885                     fd, events = self._events.popitem()\n    886                     try:\n    887                         fd_obj, handler_func = self._handlers[fd]\n--> 888                         handler_func(fd_obj, events)\n        handler_func = <function null_wrapper>\n        fd_obj = <zmq.sugar.socket.Socket object>\n        events = 1\n    889                     except (OSError, IOError) as e:\n    890                         if errno_from_exception(e) == errno.EPIPE:\n    891                             # Happens when the client closes the connection\n    892                             pass\n\n...........................................................................\n/Users/harryxue/anaconda2/lib/python2.7/site-packages/tornado/stack_context.py in null_wrapper(*args=(<zmq.sugar.socket.Socket object>, 1), **kwargs={})\n    272         # Fast path when there are no active contexts.\n    273         def null_wrapper(*args, **kwargs):\n    274             try:\n    275                 current_state = _state.contexts\n    276                 _state.contexts = cap_contexts[0]\n--> 277                 return fn(*args, **kwargs)\n        args = (<zmq.sugar.socket.Socket object>, 1)\n        kwargs = {}\n    278             finally:\n    279                 _state.contexts = current_state\n    280         null_wrapper._wrapped = True\n    281         return null_wrapper\n\n...........................................................................\n/Users/harryxue/anaconda2/lib/python2.7/site-packages/zmq/eventloop/zmqstream.py in _handle_events(self=<zmq.eventloop.zmqstream.ZMQStream object>, fd=<zmq.sugar.socket.Socket object>, events=1)\n    435             # dispatch events:\n    436             if events & IOLoop.ERROR:\n    437                 gen_log.error(\"got POLLERR event on ZMQStream, which doesn't make sense\")\n    438                 return\n    439             if events & IOLoop.READ:\n--> 440                 self._handle_recv()\n        self._handle_recv = <bound method ZMQStream._handle_recv of <zmq.eventloop.zmqstream.ZMQStream object>>\n    441                 if not self.socket:\n    442                     return\n    443             if events & IOLoop.WRITE:\n    444                 self._handle_send()\n\n...........................................................................\n/Users/harryxue/anaconda2/lib/python2.7/site-packages/zmq/eventloop/zmqstream.py in _handle_recv(self=<zmq.eventloop.zmqstream.ZMQStream object>)\n    467                 gen_log.error(\"RECV Error: %s\"%zmq.strerror(e.errno))\n    468         else:\n    469             if self._recv_callback:\n    470                 callback = self._recv_callback\n    471                 # self._recv_callback = None\n--> 472                 self._run_callback(callback, msg)\n        self._run_callback = <bound method ZMQStream._run_callback of <zmq.eventloop.zmqstream.ZMQStream object>>\n        callback = <function null_wrapper>\n        msg = [<zmq.sugar.frame.Frame object>, <zmq.sugar.frame.Frame object>, <zmq.sugar.frame.Frame object>, <zmq.sugar.frame.Frame object>, <zmq.sugar.frame.Frame object>, <zmq.sugar.frame.Frame object>, <zmq.sugar.frame.Frame object>]\n    473                 \n    474         # self.update_state()\n    475         \n    476 \n\n...........................................................................\n/Users/harryxue/anaconda2/lib/python2.7/site-packages/zmq/eventloop/zmqstream.py in _run_callback(self=<zmq.eventloop.zmqstream.ZMQStream object>, callback=<function null_wrapper>, *args=([<zmq.sugar.frame.Frame object>, <zmq.sugar.frame.Frame object>, <zmq.sugar.frame.Frame object>, <zmq.sugar.frame.Frame object>, <zmq.sugar.frame.Frame object>, <zmq.sugar.frame.Frame object>, <zmq.sugar.frame.Frame object>],), **kwargs={})\n    409         close our socket.\"\"\"\n    410         try:\n    411             # Use a NullContext to ensure that all StackContexts are run\n    412             # inside our blanket exception handler rather than outside.\n    413             with stack_context.NullContext():\n--> 414                 callback(*args, **kwargs)\n        callback = <function null_wrapper>\n        args = ([<zmq.sugar.frame.Frame object>, <zmq.sugar.frame.Frame object>, <zmq.sugar.frame.Frame object>, <zmq.sugar.frame.Frame object>, <zmq.sugar.frame.Frame object>, <zmq.sugar.frame.Frame object>, <zmq.sugar.frame.Frame object>],)\n        kwargs = {}\n    415         except:\n    416             gen_log.error(\"Uncaught exception, closing connection.\",\n    417                           exc_info=True)\n    418             # Close the socket on an uncaught exception from a user callback\n\n...........................................................................\n/Users/harryxue/anaconda2/lib/python2.7/site-packages/tornado/stack_context.py in null_wrapper(*args=([<zmq.sugar.frame.Frame object>, <zmq.sugar.frame.Frame object>, <zmq.sugar.frame.Frame object>, <zmq.sugar.frame.Frame object>, <zmq.sugar.frame.Frame object>, <zmq.sugar.frame.Frame object>, <zmq.sugar.frame.Frame object>],), **kwargs={})\n    272         # Fast path when there are no active contexts.\n    273         def null_wrapper(*args, **kwargs):\n    274             try:\n    275                 current_state = _state.contexts\n    276                 _state.contexts = cap_contexts[0]\n--> 277                 return fn(*args, **kwargs)\n        args = ([<zmq.sugar.frame.Frame object>, <zmq.sugar.frame.Frame object>, <zmq.sugar.frame.Frame object>, <zmq.sugar.frame.Frame object>, <zmq.sugar.frame.Frame object>, <zmq.sugar.frame.Frame object>, <zmq.sugar.frame.Frame object>],)\n        kwargs = {}\n    278             finally:\n    279                 _state.contexts = current_state\n    280         null_wrapper._wrapped = True\n    281         return null_wrapper\n\n...........................................................................\n/Users/harryxue/anaconda2/lib/python2.7/site-packages/ipykernel/kernelbase.py in dispatcher(msg=[<zmq.sugar.frame.Frame object>, <zmq.sugar.frame.Frame object>, <zmq.sugar.frame.Frame object>, <zmq.sugar.frame.Frame object>, <zmq.sugar.frame.Frame object>, <zmq.sugar.frame.Frame object>, <zmq.sugar.frame.Frame object>])\n    278         if self.control_stream:\n    279             self.control_stream.on_recv(self.dispatch_control, copy=False)\n    280 \n    281         def make_dispatcher(stream):\n    282             def dispatcher(msg):\n--> 283                 return self.dispatch_shell(stream, msg)\n        msg = [<zmq.sugar.frame.Frame object>, <zmq.sugar.frame.Frame object>, <zmq.sugar.frame.Frame object>, <zmq.sugar.frame.Frame object>, <zmq.sugar.frame.Frame object>, <zmq.sugar.frame.Frame object>, <zmq.sugar.frame.Frame object>]\n    284             return dispatcher\n    285 \n    286         for s in self.shell_streams:\n    287             s.on_recv(make_dispatcher(s), copy=False)\n\n...........................................................................\n/Users/harryxue/anaconda2/lib/python2.7/site-packages/ipykernel/kernelbase.py in dispatch_shell(self=<ipykernel.ipkernel.IPythonKernel object>, stream=<zmq.eventloop.zmqstream.ZMQStream object>, msg={'buffers': [], 'content': {u'allow_stdin': True, u'code': u\"# Parallelized version\\ninputs = os.listdir(AU...ist) for artist in inputs)\\nprint time() - start\", u'silent': False, u'stop_on_error': True, u'store_history': True, u'user_expressions': {}}, 'header': {u'date': datetime.datetime(2018, 2, 23, 0, 47, 7, 838430, tzinfo=tzutc()), u'msg_id': u'629365E2C2A9474F9B3053EF217D9D00', u'msg_type': u'execute_request', u'session': u'97C829145B1F46CC859C783764DE13E6', u'username': u'username', u'version': u'5.0'}, 'metadata': {}, 'msg_id': u'629365E2C2A9474F9B3053EF217D9D00', 'msg_type': u'execute_request', 'parent_header': {}})\n    230             self.log.warn(\"Unknown message type: %r\", msg_type)\n    231         else:\n    232             self.log.debug(\"%s: %s\", msg_type, msg)\n    233             self.pre_handler_hook()\n    234             try:\n--> 235                 handler(stream, idents, msg)\n        handler = <bound method IPythonKernel.execute_request of <ipykernel.ipkernel.IPythonKernel object>>\n        stream = <zmq.eventloop.zmqstream.ZMQStream object>\n        idents = ['97C829145B1F46CC859C783764DE13E6']\n        msg = {'buffers': [], 'content': {u'allow_stdin': True, u'code': u\"# Parallelized version\\ninputs = os.listdir(AU...ist) for artist in inputs)\\nprint time() - start\", u'silent': False, u'stop_on_error': True, u'store_history': True, u'user_expressions': {}}, 'header': {u'date': datetime.datetime(2018, 2, 23, 0, 47, 7, 838430, tzinfo=tzutc()), u'msg_id': u'629365E2C2A9474F9B3053EF217D9D00', u'msg_type': u'execute_request', u'session': u'97C829145B1F46CC859C783764DE13E6', u'username': u'username', u'version': u'5.0'}, 'metadata': {}, 'msg_id': u'629365E2C2A9474F9B3053EF217D9D00', 'msg_type': u'execute_request', 'parent_header': {}}\n    236             except Exception:\n    237                 self.log.error(\"Exception in message handler:\", exc_info=True)\n    238             finally:\n    239                 self.post_handler_hook()\n\n...........................................................................\n/Users/harryxue/anaconda2/lib/python2.7/site-packages/ipykernel/kernelbase.py in execute_request(self=<ipykernel.ipkernel.IPythonKernel object>, stream=<zmq.eventloop.zmqstream.ZMQStream object>, ident=['97C829145B1F46CC859C783764DE13E6'], parent={'buffers': [], 'content': {u'allow_stdin': True, u'code': u\"# Parallelized version\\ninputs = os.listdir(AU...ist) for artist in inputs)\\nprint time() - start\", u'silent': False, u'stop_on_error': True, u'store_history': True, u'user_expressions': {}}, 'header': {u'date': datetime.datetime(2018, 2, 23, 0, 47, 7, 838430, tzinfo=tzutc()), u'msg_id': u'629365E2C2A9474F9B3053EF217D9D00', u'msg_type': u'execute_request', u'session': u'97C829145B1F46CC859C783764DE13E6', u'username': u'username', u'version': u'5.0'}, 'metadata': {}, 'msg_id': u'629365E2C2A9474F9B3053EF217D9D00', 'msg_type': u'execute_request', 'parent_header': {}})\n    394         if not silent:\n    395             self.execution_count += 1\n    396             self._publish_execute_input(code, parent, self.execution_count)\n    397 \n    398         reply_content = self.do_execute(code, silent, store_history,\n--> 399                                         user_expressions, allow_stdin)\n        user_expressions = {}\n        allow_stdin = True\n    400 \n    401         # Flush output before sending the reply.\n    402         sys.stdout.flush()\n    403         sys.stderr.flush()\n\n...........................................................................\n/Users/harryxue/anaconda2/lib/python2.7/site-packages/ipykernel/ipkernel.py in do_execute(self=<ipykernel.ipkernel.IPythonKernel object>, code=u\"# Parallelized version\\ninputs = os.listdir(AU...ist) for artist in inputs)\\nprint time() - start\", silent=False, store_history=True, user_expressions={}, allow_stdin=True)\n    191 \n    192         self._forward_input(allow_stdin)\n    193 \n    194         reply_content = {}\n    195         try:\n--> 196             res = shell.run_cell(code, store_history=store_history, silent=silent)\n        res = undefined\n        shell.run_cell = <bound method ZMQInteractiveShell.run_cell of <ipykernel.zmqshell.ZMQInteractiveShell object>>\n        code = u\"# Parallelized version\\ninputs = os.listdir(AU...ist) for artist in inputs)\\nprint time() - start\"\n        store_history = True\n        silent = False\n    197         finally:\n    198             self._restore_input()\n    199 \n    200         if res.error_before_exec is not None:\n\n...........................................................................\n/Users/harryxue/anaconda2/lib/python2.7/site-packages/ipykernel/zmqshell.py in run_cell(self=<ipykernel.zmqshell.ZMQInteractiveShell object>, *args=(u\"# Parallelized version\\ninputs = os.listdir(AU...ist) for artist in inputs)\\nprint time() - start\",), **kwargs={'silent': False, 'store_history': True})\n    528             )\n    529         self.payload_manager.write_payload(payload)\n    530 \n    531     def run_cell(self, *args, **kwargs):\n    532         self._last_traceback = None\n--> 533         return super(ZMQInteractiveShell, self).run_cell(*args, **kwargs)\n        self.run_cell = <bound method ZMQInteractiveShell.run_cell of <ipykernel.zmqshell.ZMQInteractiveShell object>>\n        args = (u\"# Parallelized version\\ninputs = os.listdir(AU...ist) for artist in inputs)\\nprint time() - start\",)\n        kwargs = {'silent': False, 'store_history': True}\n    534 \n    535     def _showtraceback(self, etype, evalue, stb):\n    536         # try to preserve ordering of tracebacks and print statements\n    537         sys.stdout.flush()\n\n...........................................................................\n/Users/harryxue/anaconda2/lib/python2.7/site-packages/IPython/core/interactiveshell.py in run_cell(self=<ipykernel.zmqshell.ZMQInteractiveShell object>, raw_cell=u\"# Parallelized version\\ninputs = os.listdir(AU...ist) for artist in inputs)\\nprint time() - start\", store_history=True, silent=False, shell_futures=True)\n   2713                 self.displayhook.exec_result = result\n   2714 \n   2715                 # Execute the user code\n   2716                 interactivity = \"none\" if silent else self.ast_node_interactivity\n   2717                 has_raised = self.run_ast_nodes(code_ast.body, cell_name,\n-> 2718                    interactivity=interactivity, compiler=compiler, result=result)\n        interactivity = 'last_expr'\n        compiler = <IPython.core.compilerop.CachingCompiler instance>\n   2719                 \n   2720                 self.last_execution_succeeded = not has_raised\n   2721 \n   2722                 # Reset this so later displayed values do not modify the\n\n...........................................................................\n/Users/harryxue/anaconda2/lib/python2.7/site-packages/IPython/core/interactiveshell.py in run_ast_nodes(self=<ipykernel.zmqshell.ZMQInteractiveShell object>, nodelist=[<_ast.Assign object>, <_ast.FunctionDef object>, <_ast.Assign object>, <_ast.Expr object>, <_ast.Print object>], cell_name='<ipython-input-5-689fbbcd9013>', interactivity='none', compiler=<IPython.core.compilerop.CachingCompiler instance>, result=<ExecutionResult object at 107fe9b90, execution_..._before_exec=None error_in_exec=None result=None>)\n   2817 \n   2818         try:\n   2819             for i, node in enumerate(to_run_exec):\n   2820                 mod = ast.Module([node])\n   2821                 code = compiler(mod, cell_name, \"exec\")\n-> 2822                 if self.run_code(code, result):\n        self.run_code = <bound method ZMQInteractiveShell.run_code of <ipykernel.zmqshell.ZMQInteractiveShell object>>\n        code = <code object <module> at 0x10ed270b0, file \"<ipython-input-5-689fbbcd9013>\", line 25>\n        result = <ExecutionResult object at 107fe9b90, execution_..._before_exec=None error_in_exec=None result=None>\n   2823                     return True\n   2824 \n   2825             for i, node in enumerate(to_run_interactive):\n   2826                 mod = ast.Interactive([node])\n\n...........................................................................\n/Users/harryxue/anaconda2/lib/python2.7/site-packages/IPython/core/interactiveshell.py in run_code(self=<ipykernel.zmqshell.ZMQInteractiveShell object>, code_obj=<code object <module> at 0x10ed270b0, file \"<ipython-input-5-689fbbcd9013>\", line 25>, result=<ExecutionResult object at 107fe9b90, execution_..._before_exec=None error_in_exec=None result=None>)\n   2877         outflag = 1  # happens in more places, so it's easier as default\n   2878         try:\n   2879             try:\n   2880                 self.hooks.pre_run_code_hook()\n   2881                 #rprint('Running code', repr(code_obj)) # dbg\n-> 2882                 exec(code_obj, self.user_global_ns, self.user_ns)\n        code_obj = <code object <module> at 0x10ed270b0, file \"<ipython-input-5-689fbbcd9013>\", line 25>\n        self.user_global_ns = {'AUDIO_DIR': '/Volumes/thesis/audio/', 'BOW_WRITE_DIR': 'data/features/bow_1000/', 'In': ['', u'\\nimport numpy as np\\nimport pandas as pd\\nfro...mport time\\nfrom sklearn.externals import joblib', u\"# Directory containing raw audio files\\nAUDIO_...ded/'\\nBOW_WRITE_DIR = 'data/features/bow_1000/'\", u\"# Directory containing raw audio files\\nAUDIO_...ded/'\\nBOW_WRITE_DIR = 'data/features/bow_1000/'\", u\"# Parallelized version\\ninputs = os.listdir(AU...ist) for artist in inputs)\\nprint time() - start\", u\"# Parallelized version\\ninputs = os.listdir(AU...ist) for artist in inputs)\\nprint time() - start\"], 'MEL_ALL_WRITE_DIR': '/Volumes/thesis/features/mel_spec_all_padded/', 'MEL_WRITE_DIR': 'data/features/mel_spec/', 'MFCC_ALL_WRITE_DIR': 'data/features/mfcc_all_unpadded/', 'MFCC_WRITE_DIR': 'data/features/mfcc/', 'MiniBatchKMeans': <class 'sklearn.cluster.k_means_.MiniBatchKMeans'>, 'Out': {}, 'Parallel': <class 'joblib.parallel.Parallel'>, ...}\n        self.user_ns = {'AUDIO_DIR': '/Volumes/thesis/audio/', 'BOW_WRITE_DIR': 'data/features/bow_1000/', 'In': ['', u'\\nimport numpy as np\\nimport pandas as pd\\nfro...mport time\\nfrom sklearn.externals import joblib', u\"# Directory containing raw audio files\\nAUDIO_...ded/'\\nBOW_WRITE_DIR = 'data/features/bow_1000/'\", u\"# Directory containing raw audio files\\nAUDIO_...ded/'\\nBOW_WRITE_DIR = 'data/features/bow_1000/'\", u\"# Parallelized version\\ninputs = os.listdir(AU...ist) for artist in inputs)\\nprint time() - start\", u\"# Parallelized version\\ninputs = os.listdir(AU...ist) for artist in inputs)\\nprint time() - start\"], 'MEL_ALL_WRITE_DIR': '/Volumes/thesis/features/mel_spec_all_padded/', 'MEL_WRITE_DIR': 'data/features/mel_spec/', 'MFCC_ALL_WRITE_DIR': 'data/features/mfcc_all_unpadded/', 'MFCC_WRITE_DIR': 'data/features/mfcc/', 'MiniBatchKMeans': <class 'sklearn.cluster.k_means_.MiniBatchKMeans'>, 'Out': {}, 'Parallel': <class 'joblib.parallel.Parallel'>, ...}\n   2883             finally:\n   2884                 # Reset our crash handler in place\n   2885                 sys.excepthook = old_excepthook\n   2886         except SystemExit as e:\n\n...........................................................................\n/Users/harryxue/Desktop/music_influence/<ipython-input-5-689fbbcd9013> in <module>()\n     20             print artist\n     21             print track\n     22             print e\n     23 \n     24 start = time()\n---> 25 Parallel(n_jobs=multiprocessing.cpu_count())(delayed(create_mel_spec)(artist) for artist in inputs)\n     26 print time() - start\n\n...........................................................................\n/Users/harryxue/anaconda2/lib/python2.7/site-packages/joblib/parallel.py in __call__(self=Parallel(n_jobs=4), iterable=<generator object <genexpr>>)\n    784             if pre_dispatch == \"all\" or n_jobs == 1:\n    785                 # The iterable was consumed all at once by the above for loop.\n    786                 # No need to wait for async callbacks to trigger to\n    787                 # consumption.\n    788                 self._iterating = False\n--> 789             self.retrieve()\n        self.retrieve = <bound method Parallel.retrieve of Parallel(n_jobs=4)>\n    790             # Make sure that we get a last message telling us we are done\n    791             elapsed_time = time.time() - self._start_time\n    792             self._print('Done %3i out of %3i | elapsed: %s finished',\n    793                         (len(self._output), len(self._output),\n\n---------------------------------------------------------------------------\nSub-process traceback:\n---------------------------------------------------------------------------\nOSError                                            Fri Feb 23 09:48:28 2018\nPID: 1679               Python 2.7.13: /Users/harryxue/anaconda2/bin/python\n...........................................................................\n/Users/harryxue/anaconda2/lib/python2.7/site-packages/joblib/parallel.py in __call__(self=<joblib.parallel.BatchedCalls object>)\n    126     def __init__(self, iterator_slice):\n    127         self.items = list(iterator_slice)\n    128         self._size = len(self.items)\n    129 \n    130     def __call__(self):\n--> 131         return [func(*args, **kwargs) for func, args, kwargs in self.items]\n        func = <function create_mel_spec>\n        args = ('0000890799',)\n        kwargs = {}\n        self.items = [(<function create_mel_spec>, ('0000890799',), {})]\n    132 \n    133     def __len__(self):\n    134         return self._size\n    135 \n\n...........................................................................\n/Users/harryxue/Desktop/music_influence/<ipython-input-5-689fbbcd9013> in create_mel_spec(artist='0000890799')\n      3 \n      4 def create_mel_spec(artist):\n      5     artist_mel_path = MEL_ALL_WRITE_DIR + artist\n      6     \n      7     if not os.path.isdir(artist_mel_path):\n----> 8         os.makedirs(artist_mel_path)\n      9 \n     10     for track in os.listdir(AUDIO_DIR + artist):\n     11         try:\n     12             # Create mel representation of track\n\n...........................................................................\n/Users/harryxue/anaconda2/lib/python2.7/os.py in makedirs(name='/Volumes/thesis/features/mel_spec_all_padded/0000890799', mode=511)\n    152             # be happy if someone already created the path\n    153             if e.errno != errno.EEXIST:\n    154                 raise\n    155         if tail == curdir:           # xxx/newdir/. exists if xxx/newdir exists\n    156             return\n--> 157     mkdir(name, mode)\n        name = '/Volumes/thesis/features/mel_spec_all_padded/0000890799'\n        mode = 511\n    158 \n    159 def removedirs(name):\n    160     \"\"\"removedirs(path)\n    161 \n\nOSError: [Errno 28] No space left on device: '/Volumes/thesis/features/mel_spec_all_padded/0000890799'\n___________________________________________________________________________",
     "output_type": "error",
     "traceback": [
      "\u001b[0;31m---------------------------------------------------------------------------\u001b[0m",
      "\u001b[0;31mJoblibOSError\u001b[0m                             Traceback (most recent call last)",
      "\u001b[0;32m<ipython-input-5-689fbbcd9013>\u001b[0m in \u001b[0;36m<module>\u001b[0;34m()\u001b[0m\n\u001b[1;32m     23\u001b[0m \u001b[0;34m\u001b[0m\u001b[0m\n\u001b[1;32m     24\u001b[0m \u001b[0mstart\u001b[0m \u001b[0;34m=\u001b[0m \u001b[0mtime\u001b[0m\u001b[0;34m(\u001b[0m\u001b[0;34m)\u001b[0m\u001b[0;34m\u001b[0m\u001b[0m\n\u001b[0;32m---> 25\u001b[0;31m \u001b[0mParallel\u001b[0m\u001b[0;34m(\u001b[0m\u001b[0mn_jobs\u001b[0m\u001b[0;34m=\u001b[0m\u001b[0mmultiprocessing\u001b[0m\u001b[0;34m.\u001b[0m\u001b[0mcpu_count\u001b[0m\u001b[0;34m(\u001b[0m\u001b[0;34m)\u001b[0m\u001b[0;34m)\u001b[0m\u001b[0;34m(\u001b[0m\u001b[0mdelayed\u001b[0m\u001b[0;34m(\u001b[0m\u001b[0mcreate_mel_spec\u001b[0m\u001b[0;34m)\u001b[0m\u001b[0;34m(\u001b[0m\u001b[0martist\u001b[0m\u001b[0;34m)\u001b[0m \u001b[0;32mfor\u001b[0m \u001b[0martist\u001b[0m \u001b[0;32min\u001b[0m \u001b[0minputs\u001b[0m\u001b[0;34m)\u001b[0m\u001b[0;34m\u001b[0m\u001b[0m\n\u001b[0m\u001b[1;32m     26\u001b[0m \u001b[0;32mprint\u001b[0m \u001b[0mtime\u001b[0m\u001b[0;34m(\u001b[0m\u001b[0;34m)\u001b[0m \u001b[0;34m-\u001b[0m \u001b[0mstart\u001b[0m\u001b[0;34m\u001b[0m\u001b[0m\n",
      "\u001b[0;32m/Users/harryxue/anaconda2/lib/python2.7/site-packages/joblib/parallel.pyc\u001b[0m in \u001b[0;36m__call__\u001b[0;34m(self, iterable)\u001b[0m\n\u001b[1;32m    787\u001b[0m                 \u001b[0;31m# consumption.\u001b[0m\u001b[0;34m\u001b[0m\u001b[0;34m\u001b[0m\u001b[0m\n\u001b[1;32m    788\u001b[0m                 \u001b[0mself\u001b[0m\u001b[0;34m.\u001b[0m\u001b[0m_iterating\u001b[0m \u001b[0;34m=\u001b[0m \u001b[0mFalse\u001b[0m\u001b[0;34m\u001b[0m\u001b[0m\n\u001b[0;32m--> 789\u001b[0;31m             \u001b[0mself\u001b[0m\u001b[0;34m.\u001b[0m\u001b[0mretrieve\u001b[0m\u001b[0;34m(\u001b[0m\u001b[0;34m)\u001b[0m\u001b[0;34m\u001b[0m\u001b[0m\n\u001b[0m\u001b[1;32m    790\u001b[0m             \u001b[0;31m# Make sure that we get a last message telling us we are done\u001b[0m\u001b[0;34m\u001b[0m\u001b[0;34m\u001b[0m\u001b[0m\n\u001b[1;32m    791\u001b[0m             \u001b[0melapsed_time\u001b[0m \u001b[0;34m=\u001b[0m \u001b[0mtime\u001b[0m\u001b[0;34m.\u001b[0m\u001b[0mtime\u001b[0m\u001b[0;34m(\u001b[0m\u001b[0;34m)\u001b[0m \u001b[0;34m-\u001b[0m \u001b[0mself\u001b[0m\u001b[0;34m.\u001b[0m\u001b[0m_start_time\u001b[0m\u001b[0;34m\u001b[0m\u001b[0m\n",
      "\u001b[0;32m/Users/harryxue/anaconda2/lib/python2.7/site-packages/joblib/parallel.pyc\u001b[0m in \u001b[0;36mretrieve\u001b[0;34m(self)\u001b[0m\n\u001b[1;32m    738\u001b[0m                     \u001b[0mexception\u001b[0m \u001b[0;34m=\u001b[0m \u001b[0mexception_type\u001b[0m\u001b[0;34m(\u001b[0m\u001b[0mreport\u001b[0m\u001b[0;34m)\u001b[0m\u001b[0;34m\u001b[0m\u001b[0m\n\u001b[1;32m    739\u001b[0m \u001b[0;34m\u001b[0m\u001b[0m\n\u001b[0;32m--> 740\u001b[0;31m                     \u001b[0;32mraise\u001b[0m \u001b[0mexception\u001b[0m\u001b[0;34m\u001b[0m\u001b[0m\n\u001b[0m\u001b[1;32m    741\u001b[0m \u001b[0;34m\u001b[0m\u001b[0m\n\u001b[1;32m    742\u001b[0m     \u001b[0;32mdef\u001b[0m \u001b[0m__call__\u001b[0m\u001b[0;34m(\u001b[0m\u001b[0mself\u001b[0m\u001b[0;34m,\u001b[0m \u001b[0miterable\u001b[0m\u001b[0;34m)\u001b[0m\u001b[0;34m:\u001b[0m\u001b[0;34m\u001b[0m\u001b[0m\n",
      "\u001b[0;31mJoblibOSError\u001b[0m: JoblibOSError\n___________________________________________________________________________\nMultiprocessing exception:\n...........................................................................\n/Users/harryxue/anaconda2/lib/python2.7/runpy.py in _run_module_as_main(mod_name='ipykernel_launcher', alter_argv=1)\n    169     pkg_name = mod_name.rpartition('.')[0]\n    170     main_globals = sys.modules[\"__main__\"].__dict__\n    171     if alter_argv:\n    172         sys.argv[0] = fname\n    173     return _run_code(code, main_globals, None,\n--> 174                      \"__main__\", fname, loader, pkg_name)\n        fname = '/Users/harryxue/anaconda2/lib/python2.7/site-packages/ipykernel_launcher.py'\n        loader = <pkgutil.ImpLoader instance>\n        pkg_name = ''\n    175 \n    176 def run_module(mod_name, init_globals=None,\n    177                run_name=None, alter_sys=False):\n    178     \"\"\"Execute a module's code without importing it\n\n...........................................................................\n/Users/harryxue/anaconda2/lib/python2.7/runpy.py in _run_code(code=<code object <module> at 0x10617e130, file \"/Use...2.7/site-packages/ipykernel_launcher.py\", line 5>, run_globals={'__builtins__': <module '__builtin__' (built-in)>, '__doc__': 'Entry point for launching an IPython kernel.\\n\\nTh...orts until\\nafter removing the cwd from sys.path.\\n', '__file__': '/Users/harryxue/anaconda2/lib/python2.7/site-packages/ipykernel_launcher.py', '__loader__': <pkgutil.ImpLoader instance>, '__name__': '__main__', '__package__': '', 'app': <module 'ipykernel.kernelapp' from '/Users/harry...python2.7/site-packages/ipykernel/kernelapp.pyc'>, 'sys': <module 'sys' (built-in)>}, init_globals=None, mod_name='__main__', mod_fname='/Users/harryxue/anaconda2/lib/python2.7/site-packages/ipykernel_launcher.py', mod_loader=<pkgutil.ImpLoader instance>, pkg_name='')\n     67         run_globals.update(init_globals)\n     68     run_globals.update(__name__ = mod_name,\n     69                        __file__ = mod_fname,\n     70                        __loader__ = mod_loader,\n     71                        __package__ = pkg_name)\n---> 72     exec code in run_globals\n        code = <code object <module> at 0x10617e130, file \"/Use...2.7/site-packages/ipykernel_launcher.py\", line 5>\n        run_globals = {'__builtins__': <module '__builtin__' (built-in)>, '__doc__': 'Entry point for launching an IPython kernel.\\n\\nTh...orts until\\nafter removing the cwd from sys.path.\\n', '__file__': '/Users/harryxue/anaconda2/lib/python2.7/site-packages/ipykernel_launcher.py', '__loader__': <pkgutil.ImpLoader instance>, '__name__': '__main__', '__package__': '', 'app': <module 'ipykernel.kernelapp' from '/Users/harry...python2.7/site-packages/ipykernel/kernelapp.pyc'>, 'sys': <module 'sys' (built-in)>}\n     73     return run_globals\n     74 \n     75 def _run_module_code(code, init_globals=None,\n     76                     mod_name=None, mod_fname=None,\n\n...........................................................................\n/Users/harryxue/anaconda2/lib/python2.7/site-packages/ipykernel_launcher.py in <module>()\n     11     # This is added back by InteractiveShellApp.init_path()\n     12     if sys.path[0] == '':\n     13         del sys.path[0]\n     14 \n     15     from ipykernel import kernelapp as app\n---> 16     app.launch_new_instance()\n\n...........................................................................\n/Users/harryxue/anaconda2/lib/python2.7/site-packages/traitlets/config/application.py in launch_instance(cls=<class 'ipykernel.kernelapp.IPKernelApp'>, argv=None, **kwargs={})\n    653 \n    654         If a global instance already exists, this reinitializes and starts it\n    655         \"\"\"\n    656         app = cls.instance(**kwargs)\n    657         app.initialize(argv)\n--> 658         app.start()\n        app.start = <bound method IPKernelApp.start of <ipykernel.kernelapp.IPKernelApp object>>\n    659 \n    660 #-----------------------------------------------------------------------------\n    661 # utility functions, for convenience\n    662 #-----------------------------------------------------------------------------\n\n...........................................................................\n/Users/harryxue/anaconda2/lib/python2.7/site-packages/ipykernel/kernelapp.py in start(self=<ipykernel.kernelapp.IPKernelApp object>)\n    472             return self.subapp.start()\n    473         if self.poller is not None:\n    474             self.poller.start()\n    475         self.kernel.start()\n    476         try:\n--> 477             ioloop.IOLoop.instance().start()\n    478         except KeyboardInterrupt:\n    479             pass\n    480 \n    481 launch_new_instance = IPKernelApp.launch_instance\n\n...........................................................................\n/Users/harryxue/anaconda2/lib/python2.7/site-packages/zmq/eventloop/ioloop.py in start(self=<zmq.eventloop.ioloop.ZMQIOLoop object>)\n    172             )\n    173         return loop\n    174     \n    175     def start(self):\n    176         try:\n--> 177             super(ZMQIOLoop, self).start()\n        self.start = <bound method ZMQIOLoop.start of <zmq.eventloop.ioloop.ZMQIOLoop object>>\n    178         except ZMQError as e:\n    179             if e.errno == ETERM:\n    180                 # quietly return on ETERM\n    181                 pass\n\n...........................................................................\n/Users/harryxue/anaconda2/lib/python2.7/site-packages/tornado/ioloop.py in start(self=<zmq.eventloop.ioloop.ZMQIOLoop object>)\n    883                 self._events.update(event_pairs)\n    884                 while self._events:\n    885                     fd, events = self._events.popitem()\n    886                     try:\n    887                         fd_obj, handler_func = self._handlers[fd]\n--> 888                         handler_func(fd_obj, events)\n        handler_func = <function null_wrapper>\n        fd_obj = <zmq.sugar.socket.Socket object>\n        events = 1\n    889                     except (OSError, IOError) as e:\n    890                         if errno_from_exception(e) == errno.EPIPE:\n    891                             # Happens when the client closes the connection\n    892                             pass\n\n...........................................................................\n/Users/harryxue/anaconda2/lib/python2.7/site-packages/tornado/stack_context.py in null_wrapper(*args=(<zmq.sugar.socket.Socket object>, 1), **kwargs={})\n    272         # Fast path when there are no active contexts.\n    273         def null_wrapper(*args, **kwargs):\n    274             try:\n    275                 current_state = _state.contexts\n    276                 _state.contexts = cap_contexts[0]\n--> 277                 return fn(*args, **kwargs)\n        args = (<zmq.sugar.socket.Socket object>, 1)\n        kwargs = {}\n    278             finally:\n    279                 _state.contexts = current_state\n    280         null_wrapper._wrapped = True\n    281         return null_wrapper\n\n...........................................................................\n/Users/harryxue/anaconda2/lib/python2.7/site-packages/zmq/eventloop/zmqstream.py in _handle_events(self=<zmq.eventloop.zmqstream.ZMQStream object>, fd=<zmq.sugar.socket.Socket object>, events=1)\n    435             # dispatch events:\n    436             if events & IOLoop.ERROR:\n    437                 gen_log.error(\"got POLLERR event on ZMQStream, which doesn't make sense\")\n    438                 return\n    439             if events & IOLoop.READ:\n--> 440                 self._handle_recv()\n        self._handle_recv = <bound method ZMQStream._handle_recv of <zmq.eventloop.zmqstream.ZMQStream object>>\n    441                 if not self.socket:\n    442                     return\n    443             if events & IOLoop.WRITE:\n    444                 self._handle_send()\n\n...........................................................................\n/Users/harryxue/anaconda2/lib/python2.7/site-packages/zmq/eventloop/zmqstream.py in _handle_recv(self=<zmq.eventloop.zmqstream.ZMQStream object>)\n    467                 gen_log.error(\"RECV Error: %s\"%zmq.strerror(e.errno))\n    468         else:\n    469             if self._recv_callback:\n    470                 callback = self._recv_callback\n    471                 # self._recv_callback = None\n--> 472                 self._run_callback(callback, msg)\n        self._run_callback = <bound method ZMQStream._run_callback of <zmq.eventloop.zmqstream.ZMQStream object>>\n        callback = <function null_wrapper>\n        msg = [<zmq.sugar.frame.Frame object>, <zmq.sugar.frame.Frame object>, <zmq.sugar.frame.Frame object>, <zmq.sugar.frame.Frame object>, <zmq.sugar.frame.Frame object>, <zmq.sugar.frame.Frame object>, <zmq.sugar.frame.Frame object>]\n    473                 \n    474         # self.update_state()\n    475         \n    476 \n\n...........................................................................\n/Users/harryxue/anaconda2/lib/python2.7/site-packages/zmq/eventloop/zmqstream.py in _run_callback(self=<zmq.eventloop.zmqstream.ZMQStream object>, callback=<function null_wrapper>, *args=([<zmq.sugar.frame.Frame object>, <zmq.sugar.frame.Frame object>, <zmq.sugar.frame.Frame object>, <zmq.sugar.frame.Frame object>, <zmq.sugar.frame.Frame object>, <zmq.sugar.frame.Frame object>, <zmq.sugar.frame.Frame object>],), **kwargs={})\n    409         close our socket.\"\"\"\n    410         try:\n    411             # Use a NullContext to ensure that all StackContexts are run\n    412             # inside our blanket exception handler rather than outside.\n    413             with stack_context.NullContext():\n--> 414                 callback(*args, **kwargs)\n        callback = <function null_wrapper>\n        args = ([<zmq.sugar.frame.Frame object>, <zmq.sugar.frame.Frame object>, <zmq.sugar.frame.Frame object>, <zmq.sugar.frame.Frame object>, <zmq.sugar.frame.Frame object>, <zmq.sugar.frame.Frame object>, <zmq.sugar.frame.Frame object>],)\n        kwargs = {}\n    415         except:\n    416             gen_log.error(\"Uncaught exception, closing connection.\",\n    417                           exc_info=True)\n    418             # Close the socket on an uncaught exception from a user callback\n\n...........................................................................\n/Users/harryxue/anaconda2/lib/python2.7/site-packages/tornado/stack_context.py in null_wrapper(*args=([<zmq.sugar.frame.Frame object>, <zmq.sugar.frame.Frame object>, <zmq.sugar.frame.Frame object>, <zmq.sugar.frame.Frame object>, <zmq.sugar.frame.Frame object>, <zmq.sugar.frame.Frame object>, <zmq.sugar.frame.Frame object>],), **kwargs={})\n    272         # Fast path when there are no active contexts.\n    273         def null_wrapper(*args, **kwargs):\n    274             try:\n    275                 current_state = _state.contexts\n    276                 _state.contexts = cap_contexts[0]\n--> 277                 return fn(*args, **kwargs)\n        args = ([<zmq.sugar.frame.Frame object>, <zmq.sugar.frame.Frame object>, <zmq.sugar.frame.Frame object>, <zmq.sugar.frame.Frame object>, <zmq.sugar.frame.Frame object>, <zmq.sugar.frame.Frame object>, <zmq.sugar.frame.Frame object>],)\n        kwargs = {}\n    278             finally:\n    279                 _state.contexts = current_state\n    280         null_wrapper._wrapped = True\n    281         return null_wrapper\n\n...........................................................................\n/Users/harryxue/anaconda2/lib/python2.7/site-packages/ipykernel/kernelbase.py in dispatcher(msg=[<zmq.sugar.frame.Frame object>, <zmq.sugar.frame.Frame object>, <zmq.sugar.frame.Frame object>, <zmq.sugar.frame.Frame object>, <zmq.sugar.frame.Frame object>, <zmq.sugar.frame.Frame object>, <zmq.sugar.frame.Frame object>])\n    278         if self.control_stream:\n    279             self.control_stream.on_recv(self.dispatch_control, copy=False)\n    280 \n    281         def make_dispatcher(stream):\n    282             def dispatcher(msg):\n--> 283                 return self.dispatch_shell(stream, msg)\n        msg = [<zmq.sugar.frame.Frame object>, <zmq.sugar.frame.Frame object>, <zmq.sugar.frame.Frame object>, <zmq.sugar.frame.Frame object>, <zmq.sugar.frame.Frame object>, <zmq.sugar.frame.Frame object>, <zmq.sugar.frame.Frame object>]\n    284             return dispatcher\n    285 \n    286         for s in self.shell_streams:\n    287             s.on_recv(make_dispatcher(s), copy=False)\n\n...........................................................................\n/Users/harryxue/anaconda2/lib/python2.7/site-packages/ipykernel/kernelbase.py in dispatch_shell(self=<ipykernel.ipkernel.IPythonKernel object>, stream=<zmq.eventloop.zmqstream.ZMQStream object>, msg={'buffers': [], 'content': {u'allow_stdin': True, u'code': u\"# Parallelized version\\ninputs = os.listdir(AU...ist) for artist in inputs)\\nprint time() - start\", u'silent': False, u'stop_on_error': True, u'store_history': True, u'user_expressions': {}}, 'header': {u'date': datetime.datetime(2018, 2, 23, 0, 47, 7, 838430, tzinfo=tzutc()), u'msg_id': u'629365E2C2A9474F9B3053EF217D9D00', u'msg_type': u'execute_request', u'session': u'97C829145B1F46CC859C783764DE13E6', u'username': u'username', u'version': u'5.0'}, 'metadata': {}, 'msg_id': u'629365E2C2A9474F9B3053EF217D9D00', 'msg_type': u'execute_request', 'parent_header': {}})\n    230             self.log.warn(\"Unknown message type: %r\", msg_type)\n    231         else:\n    232             self.log.debug(\"%s: %s\", msg_type, msg)\n    233             self.pre_handler_hook()\n    234             try:\n--> 235                 handler(stream, idents, msg)\n        handler = <bound method IPythonKernel.execute_request of <ipykernel.ipkernel.IPythonKernel object>>\n        stream = <zmq.eventloop.zmqstream.ZMQStream object>\n        idents = ['97C829145B1F46CC859C783764DE13E6']\n        msg = {'buffers': [], 'content': {u'allow_stdin': True, u'code': u\"# Parallelized version\\ninputs = os.listdir(AU...ist) for artist in inputs)\\nprint time() - start\", u'silent': False, u'stop_on_error': True, u'store_history': True, u'user_expressions': {}}, 'header': {u'date': datetime.datetime(2018, 2, 23, 0, 47, 7, 838430, tzinfo=tzutc()), u'msg_id': u'629365E2C2A9474F9B3053EF217D9D00', u'msg_type': u'execute_request', u'session': u'97C829145B1F46CC859C783764DE13E6', u'username': u'username', u'version': u'5.0'}, 'metadata': {}, 'msg_id': u'629365E2C2A9474F9B3053EF217D9D00', 'msg_type': u'execute_request', 'parent_header': {}}\n    236             except Exception:\n    237                 self.log.error(\"Exception in message handler:\", exc_info=True)\n    238             finally:\n    239                 self.post_handler_hook()\n\n...........................................................................\n/Users/harryxue/anaconda2/lib/python2.7/site-packages/ipykernel/kernelbase.py in execute_request(self=<ipykernel.ipkernel.IPythonKernel object>, stream=<zmq.eventloop.zmqstream.ZMQStream object>, ident=['97C829145B1F46CC859C783764DE13E6'], parent={'buffers': [], 'content': {u'allow_stdin': True, u'code': u\"# Parallelized version\\ninputs = os.listdir(AU...ist) for artist in inputs)\\nprint time() - start\", u'silent': False, u'stop_on_error': True, u'store_history': True, u'user_expressions': {}}, 'header': {u'date': datetime.datetime(2018, 2, 23, 0, 47, 7, 838430, tzinfo=tzutc()), u'msg_id': u'629365E2C2A9474F9B3053EF217D9D00', u'msg_type': u'execute_request', u'session': u'97C829145B1F46CC859C783764DE13E6', u'username': u'username', u'version': u'5.0'}, 'metadata': {}, 'msg_id': u'629365E2C2A9474F9B3053EF217D9D00', 'msg_type': u'execute_request', 'parent_header': {}})\n    394         if not silent:\n    395             self.execution_count += 1\n    396             self._publish_execute_input(code, parent, self.execution_count)\n    397 \n    398         reply_content = self.do_execute(code, silent, store_history,\n--> 399                                         user_expressions, allow_stdin)\n        user_expressions = {}\n        allow_stdin = True\n    400 \n    401         # Flush output before sending the reply.\n    402         sys.stdout.flush()\n    403         sys.stderr.flush()\n\n...........................................................................\n/Users/harryxue/anaconda2/lib/python2.7/site-packages/ipykernel/ipkernel.py in do_execute(self=<ipykernel.ipkernel.IPythonKernel object>, code=u\"# Parallelized version\\ninputs = os.listdir(AU...ist) for artist in inputs)\\nprint time() - start\", silent=False, store_history=True, user_expressions={}, allow_stdin=True)\n    191 \n    192         self._forward_input(allow_stdin)\n    193 \n    194         reply_content = {}\n    195         try:\n--> 196             res = shell.run_cell(code, store_history=store_history, silent=silent)\n        res = undefined\n        shell.run_cell = <bound method ZMQInteractiveShell.run_cell of <ipykernel.zmqshell.ZMQInteractiveShell object>>\n        code = u\"# Parallelized version\\ninputs = os.listdir(AU...ist) for artist in inputs)\\nprint time() - start\"\n        store_history = True\n        silent = False\n    197         finally:\n    198             self._restore_input()\n    199 \n    200         if res.error_before_exec is not None:\n\n...........................................................................\n/Users/harryxue/anaconda2/lib/python2.7/site-packages/ipykernel/zmqshell.py in run_cell(self=<ipykernel.zmqshell.ZMQInteractiveShell object>, *args=(u\"# Parallelized version\\ninputs = os.listdir(AU...ist) for artist in inputs)\\nprint time() - start\",), **kwargs={'silent': False, 'store_history': True})\n    528             )\n    529         self.payload_manager.write_payload(payload)\n    530 \n    531     def run_cell(self, *args, **kwargs):\n    532         self._last_traceback = None\n--> 533         return super(ZMQInteractiveShell, self).run_cell(*args, **kwargs)\n        self.run_cell = <bound method ZMQInteractiveShell.run_cell of <ipykernel.zmqshell.ZMQInteractiveShell object>>\n        args = (u\"# Parallelized version\\ninputs = os.listdir(AU...ist) for artist in inputs)\\nprint time() - start\",)\n        kwargs = {'silent': False, 'store_history': True}\n    534 \n    535     def _showtraceback(self, etype, evalue, stb):\n    536         # try to preserve ordering of tracebacks and print statements\n    537         sys.stdout.flush()\n\n...........................................................................\n/Users/harryxue/anaconda2/lib/python2.7/site-packages/IPython/core/interactiveshell.py in run_cell(self=<ipykernel.zmqshell.ZMQInteractiveShell object>, raw_cell=u\"# Parallelized version\\ninputs = os.listdir(AU...ist) for artist in inputs)\\nprint time() - start\", store_history=True, silent=False, shell_futures=True)\n   2713                 self.displayhook.exec_result = result\n   2714 \n   2715                 # Execute the user code\n   2716                 interactivity = \"none\" if silent else self.ast_node_interactivity\n   2717                 has_raised = self.run_ast_nodes(code_ast.body, cell_name,\n-> 2718                    interactivity=interactivity, compiler=compiler, result=result)\n        interactivity = 'last_expr'\n        compiler = <IPython.core.compilerop.CachingCompiler instance>\n   2719                 \n   2720                 self.last_execution_succeeded = not has_raised\n   2721 \n   2722                 # Reset this so later displayed values do not modify the\n\n...........................................................................\n/Users/harryxue/anaconda2/lib/python2.7/site-packages/IPython/core/interactiveshell.py in run_ast_nodes(self=<ipykernel.zmqshell.ZMQInteractiveShell object>, nodelist=[<_ast.Assign object>, <_ast.FunctionDef object>, <_ast.Assign object>, <_ast.Expr object>, <_ast.Print object>], cell_name='<ipython-input-5-689fbbcd9013>', interactivity='none', compiler=<IPython.core.compilerop.CachingCompiler instance>, result=<ExecutionResult object at 107fe9b90, execution_..._before_exec=None error_in_exec=None result=None>)\n   2817 \n   2818         try:\n   2819             for i, node in enumerate(to_run_exec):\n   2820                 mod = ast.Module([node])\n   2821                 code = compiler(mod, cell_name, \"exec\")\n-> 2822                 if self.run_code(code, result):\n        self.run_code = <bound method ZMQInteractiveShell.run_code of <ipykernel.zmqshell.ZMQInteractiveShell object>>\n        code = <code object <module> at 0x10ed270b0, file \"<ipython-input-5-689fbbcd9013>\", line 25>\n        result = <ExecutionResult object at 107fe9b90, execution_..._before_exec=None error_in_exec=None result=None>\n   2823                     return True\n   2824 \n   2825             for i, node in enumerate(to_run_interactive):\n   2826                 mod = ast.Interactive([node])\n\n...........................................................................\n/Users/harryxue/anaconda2/lib/python2.7/site-packages/IPython/core/interactiveshell.py in run_code(self=<ipykernel.zmqshell.ZMQInteractiveShell object>, code_obj=<code object <module> at 0x10ed270b0, file \"<ipython-input-5-689fbbcd9013>\", line 25>, result=<ExecutionResult object at 107fe9b90, execution_..._before_exec=None error_in_exec=None result=None>)\n   2877         outflag = 1  # happens in more places, so it's easier as default\n   2878         try:\n   2879             try:\n   2880                 self.hooks.pre_run_code_hook()\n   2881                 #rprint('Running code', repr(code_obj)) # dbg\n-> 2882                 exec(code_obj, self.user_global_ns, self.user_ns)\n        code_obj = <code object <module> at 0x10ed270b0, file \"<ipython-input-5-689fbbcd9013>\", line 25>\n        self.user_global_ns = {'AUDIO_DIR': '/Volumes/thesis/audio/', 'BOW_WRITE_DIR': 'data/features/bow_1000/', 'In': ['', u'\\nimport numpy as np\\nimport pandas as pd\\nfro...mport time\\nfrom sklearn.externals import joblib', u\"# Directory containing raw audio files\\nAUDIO_...ded/'\\nBOW_WRITE_DIR = 'data/features/bow_1000/'\", u\"# Directory containing raw audio files\\nAUDIO_...ded/'\\nBOW_WRITE_DIR = 'data/features/bow_1000/'\", u\"# Parallelized version\\ninputs = os.listdir(AU...ist) for artist in inputs)\\nprint time() - start\", u\"# Parallelized version\\ninputs = os.listdir(AU...ist) for artist in inputs)\\nprint time() - start\"], 'MEL_ALL_WRITE_DIR': '/Volumes/thesis/features/mel_spec_all_padded/', 'MEL_WRITE_DIR': 'data/features/mel_spec/', 'MFCC_ALL_WRITE_DIR': 'data/features/mfcc_all_unpadded/', 'MFCC_WRITE_DIR': 'data/features/mfcc/', 'MiniBatchKMeans': <class 'sklearn.cluster.k_means_.MiniBatchKMeans'>, 'Out': {}, 'Parallel': <class 'joblib.parallel.Parallel'>, ...}\n        self.user_ns = {'AUDIO_DIR': '/Volumes/thesis/audio/', 'BOW_WRITE_DIR': 'data/features/bow_1000/', 'In': ['', u'\\nimport numpy as np\\nimport pandas as pd\\nfro...mport time\\nfrom sklearn.externals import joblib', u\"# Directory containing raw audio files\\nAUDIO_...ded/'\\nBOW_WRITE_DIR = 'data/features/bow_1000/'\", u\"# Directory containing raw audio files\\nAUDIO_...ded/'\\nBOW_WRITE_DIR = 'data/features/bow_1000/'\", u\"# Parallelized version\\ninputs = os.listdir(AU...ist) for artist in inputs)\\nprint time() - start\", u\"# Parallelized version\\ninputs = os.listdir(AU...ist) for artist in inputs)\\nprint time() - start\"], 'MEL_ALL_WRITE_DIR': '/Volumes/thesis/features/mel_spec_all_padded/', 'MEL_WRITE_DIR': 'data/features/mel_spec/', 'MFCC_ALL_WRITE_DIR': 'data/features/mfcc_all_unpadded/', 'MFCC_WRITE_DIR': 'data/features/mfcc/', 'MiniBatchKMeans': <class 'sklearn.cluster.k_means_.MiniBatchKMeans'>, 'Out': {}, 'Parallel': <class 'joblib.parallel.Parallel'>, ...}\n   2883             finally:\n   2884                 # Reset our crash handler in place\n   2885                 sys.excepthook = old_excepthook\n   2886         except SystemExit as e:\n\n...........................................................................\n/Users/harryxue/Desktop/music_influence/<ipython-input-5-689fbbcd9013> in <module>()\n     20             print artist\n     21             print track\n     22             print e\n     23 \n     24 start = time()\n---> 25 Parallel(n_jobs=multiprocessing.cpu_count())(delayed(create_mel_spec)(artist) for artist in inputs)\n     26 print time() - start\n\n...........................................................................\n/Users/harryxue/anaconda2/lib/python2.7/site-packages/joblib/parallel.py in __call__(self=Parallel(n_jobs=4), iterable=<generator object <genexpr>>)\n    784             if pre_dispatch == \"all\" or n_jobs == 1:\n    785                 # The iterable was consumed all at once by the above for loop.\n    786                 # No need to wait for async callbacks to trigger to\n    787                 # consumption.\n    788                 self._iterating = False\n--> 789             self.retrieve()\n        self.retrieve = <bound method Parallel.retrieve of Parallel(n_jobs=4)>\n    790             # Make sure that we get a last message telling us we are done\n    791             elapsed_time = time.time() - self._start_time\n    792             self._print('Done %3i out of %3i | elapsed: %s finished',\n    793                         (len(self._output), len(self._output),\n\n---------------------------------------------------------------------------\nSub-process traceback:\n---------------------------------------------------------------------------\nOSError                                            Fri Feb 23 09:48:28 2018\nPID: 1679               Python 2.7.13: /Users/harryxue/anaconda2/bin/python\n...........................................................................\n/Users/harryxue/anaconda2/lib/python2.7/site-packages/joblib/parallel.py in __call__(self=<joblib.parallel.BatchedCalls object>)\n    126     def __init__(self, iterator_slice):\n    127         self.items = list(iterator_slice)\n    128         self._size = len(self.items)\n    129 \n    130     def __call__(self):\n--> 131         return [func(*args, **kwargs) for func, args, kwargs in self.items]\n        func = <function create_mel_spec>\n        args = ('0000890799',)\n        kwargs = {}\n        self.items = [(<function create_mel_spec>, ('0000890799',), {})]\n    132 \n    133     def __len__(self):\n    134         return self._size\n    135 \n\n...........................................................................\n/Users/harryxue/Desktop/music_influence/<ipython-input-5-689fbbcd9013> in create_mel_spec(artist='0000890799')\n      3 \n      4 def create_mel_spec(artist):\n      5     artist_mel_path = MEL_ALL_WRITE_DIR + artist\n      6     \n      7     if not os.path.isdir(artist_mel_path):\n----> 8         os.makedirs(artist_mel_path)\n      9 \n     10     for track in os.listdir(AUDIO_DIR + artist):\n     11         try:\n     12             # Create mel representation of track\n\n...........................................................................\n/Users/harryxue/anaconda2/lib/python2.7/os.py in makedirs(name='/Volumes/thesis/features/mel_spec_all_padded/0000890799', mode=511)\n    152             # be happy if someone already created the path\n    153             if e.errno != errno.EEXIST:\n    154                 raise\n    155         if tail == curdir:           # xxx/newdir/. exists if xxx/newdir exists\n    156             return\n--> 157     mkdir(name, mode)\n        name = '/Volumes/thesis/features/mel_spec_all_padded/0000890799'\n        mode = 511\n    158 \n    159 def removedirs(name):\n    160     \"\"\"removedirs(path)\n    161 \n\nOSError: [Errno 28] No space left on device: '/Volumes/thesis/features/mel_spec_all_padded/0000890799'\n___________________________________________________________________________"
     ]
    }
   ],
   "source": [
    "# Parallelized version\n",
    "inputs = os.listdir(AUDIO_DIR)\n",
    "\n",
    "def create_mel_spec(artist):\n",
    "    artist_mel_path = MEL_ALL_WRITE_DIR + artist\n",
    "    \n",
    "    if not os.path.isdir(artist_mel_path):\n",
    "        os.makedirs(artist_mel_path)\n",
    "\n",
    "    for track in os.listdir(AUDIO_DIR + artist):\n",
    "        try:\n",
    "            # Create mel representation of track\n",
    "            y, sr = librosa.load(AUDIO_DIR + '{}/{}'.format(artist, track))\n",
    "            mel_spec = librosa.feature.melspectrogram(y, sr=sr, n_mels=128)\n",
    "            # Add zero padding\n",
    "            padded = np.zeros((128, 1298))\n",
    "            padded[:,:mel_spec.shape[1]] = mel_spec\n",
    "            np.save(MEL_ALL_WRITE_DIR + artist + '/{}.npy'.format(os.path.splitext(track)[0]), padded)\n",
    "        except Exception as e:\n",
    "            print artist\n",
    "            print track\n",
    "            print e\n",
    "\n",
    "start = time()\n",
    "Parallel(n_jobs=multiprocessing.cpu_count())(delayed(create_mel_spec)(artist) for artist in inputs)\n",
    "print time() - start"
   ]
  },
  {
   "cell_type": "code",
   "execution_count": null,
   "metadata": {
    "collapsed": true
   },
   "outputs": [],
   "source": []
  }
 ],
 "metadata": {
  "kernelspec": {
   "display_name": "Python 2",
   "language": "python",
   "name": "python2"
  },
  "language_info": {
   "codemirror_mode": {
    "name": "ipython",
    "version": 2
   },
   "file_extension": ".py",
   "mimetype": "text/x-python",
   "name": "python",
   "nbconvert_exporter": "python",
   "pygments_lexer": "ipython2",
   "version": "2.7.13"
  }
 },
 "nbformat": 4,
 "nbformat_minor": 2
}
