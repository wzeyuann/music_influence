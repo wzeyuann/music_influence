{
 "cells": [
  {
   "cell_type": "code",
   "execution_count": 2,
   "metadata": {
    "collapsed": true
   },
   "outputs": [],
   "source": [
    "import networkx as nx\n",
    "import numpy as np\n",
    "import pandas as pd\n",
    "import matplotlib.pyplot as plt\n",
    "\n",
    "from collections import OrderedDict"
   ]
  },
  {
   "cell_type": "markdown",
   "metadata": {
    "collapsed": true
   },
   "source": [
    "# Most Influential Artists (Highest Out-Degree in AllMusic Graph)"
   ]
  },
  {
   "cell_type": "code",
   "execution_count": 39,
   "metadata": {
    "collapsed": true
   },
   "outputs": [],
   "source": [
    "# Load artist information\n",
    "artists = pd.read_csv('data/allmusic/artists.txt', header=None, names=['name', 'url', 'active_period', 'genres', 'styles'])\n",
    "# Load influence relationships\n",
    "influences = pd.read_csv('data/allmusic/influences.txt', header=None, names=['influencer_name', 'influencer_url', 'follower_name', 'follower_url'])"
   ]
  },
  {
   "cell_type": "code",
   "execution_count": 64,
   "metadata": {},
   "outputs": [
    {
     "name": "stdout",
     "output_type": "stream",
     "text": [
      "\n"
     ]
    }
   ],
   "source": [
    "# Create directed graph from influence relationships\n",
    "G = nx.DiGraph()\n",
    "\n",
    "for row in influences.itertuples():\n",
    "    G.add_edge(row.influencer_name, row.follower_name)"
   ]
  },
  {
   "cell_type": "code",
   "execution_count": 83,
   "metadata": {},
   "outputs": [
    {
     "data": {
      "text/plain": [
       "[('The Beatles', 829),\n",
       " ('Bob Dylan', 540),\n",
       " ('The Rolling Stones', 427),\n",
       " ('David Bowie', 317),\n",
       " ('The Velvet Underground', 314),\n",
       " ('The Kinks', 294),\n",
       " ('The Beach Boys', 282),\n",
       " ('Jimi Hendrix', 281),\n",
       " ('Neil Young', 254),\n",
       " ('James Brown', 251),\n",
       " ('The Byrds', 247),\n",
       " ('Led Zeppelin', 246),\n",
       " ('Hank Williams', 238),\n",
       " ('Miles Davis', 234),\n",
       " ('John Coltrane', 222),\n",
       " ('Brian Eno', 215),\n",
       " ('Black Sabbath', 213),\n",
       " ('Elvis Presley', 212),\n",
       " ('Chuck Berry', 204),\n",
       " ('The Who', 203),\n",
       " ('Pink Floyd', 197),\n",
       " ('Kraftwerk', 189),\n",
       " ('The Clash', 189),\n",
       " ('The Stooges', 189),\n",
       " ('Sex Pistols', 187),\n",
       " ('Marvin Gaye', 186),\n",
       " ('Sonic Youth', 186),\n",
       " ('Stevie Wonder', 180),\n",
       " ('Muddy Waters', 171),\n",
       " ('Ramones', 167),\n",
       " ('Johnny Cash', 163),\n",
       " ('Duke Ellington', 161),\n",
       " ('Louis Armstrong', 149),\n",
       " ('Nirvana', 146),\n",
       " ('Sam Cooke', 146),\n",
       " ('Charlie Parker', 146),\n",
       " ('Joni Mitchell', 146),\n",
       " ('Prince', 140),\n",
       " ('Black Flag', 135),\n",
       " ('Metallica', 135),\n",
       " ('Leonard Cohen', 134),\n",
       " ('R.E.M.', 132),\n",
       " ('Roxy Music', 132),\n",
       " ('Big Star', 131),\n",
       " ('Ray Charles', 131),\n",
       " ('Michael Jackson', 130),\n",
       " ('The Smiths', 130),\n",
       " ('Billie Holiday', 130),\n",
       " ('Joy Division', 128),\n",
       " ('Pixies', 127),\n",
       " ('Buddy Holly', 124),\n",
       " ('The Yardbirds', 124),\n",
       " (\"Howlin' Wolf\", 124),\n",
       " ('Bob Marley', 123),\n",
       " ('Merle Haggard', 122),\n",
       " ('My Bloody Valentine', 121),\n",
       " ('Cream', 118),\n",
       " ('Nick Drake', 118),\n",
       " ('The Band', 118),\n",
       " ('N.W.A', 118),\n",
       " ('Otis Redding', 116),\n",
       " ('Little Richard', 116),\n",
       " ('New Order', 116),\n",
       " ('Parliament', 115),\n",
       " ('The Cure', 114),\n",
       " ('Can', 114),\n",
       " ('Elvis Costello', 112),\n",
       " ('MC5', 110),\n",
       " ('Bruce Springsteen', 110),\n",
       " ('Frank Zappa', 109),\n",
       " ('The Carter Family', 106),\n",
       " ('Tom Waits', 106),\n",
       " ('Curtis Mayfield', 105),\n",
       " ('Sly & the Family Stone', 105),\n",
       " ('Captain Beefheart', 104),\n",
       " ('Woody Guthrie', 103),\n",
       " ('Run-D.M.C.', 103),\n",
       " ('Gram Parsons', 103),\n",
       " ('T. Rex', 102),\n",
       " ('Aretha Franklin', 101),\n",
       " ('Buzzcocks', 100),\n",
       " ('Public Enemy', 100),\n",
       " ('Ornette Coleman', 100),\n",
       " ('Funkadelic', 99),\n",
       " ('The Zombies', 99),\n",
       " ('King Crimson', 97),\n",
       " ('Jimmie Rodgers', 97),\n",
       " ('George Jones', 96),\n",
       " ('Grateful Dead', 96),\n",
       " ('Alice Cooper', 95),\n",
       " ('Slayer', 94),\n",
       " ('Depeche Mode', 94),\n",
       " ('Lou Reed', 94),\n",
       " ('U2', 94),\n",
       " ('Robert Johnson', 93),\n",
       " ('Beastie Boys', 93),\n",
       " ('Blondie', 93),\n",
       " ('B.B. King', 92),\n",
       " ('The Replacements', 92),\n",
       " ('Thelonious Monk', 92)]"
      ]
     },
     "execution_count": 83,
     "metadata": {},
     "output_type": "execute_result"
    }
   ],
   "source": [
    "# Find nodes with highest outdegree\n",
    "outdegree_dict = G.out_degree()\n",
    "# Display 100 most influential artists\n",
    "sorted(outdegree_dict.items(), key=lambda x: x[1], reverse=True)[:100]"
   ]
  },
  {
   "cell_type": "code",
   "execution_count": 88,
   "metadata": {
    "collapsed": true
   },
   "outputs": [],
   "source": [
    "# Write Gephi file\n",
    "nx.write_edgelist(G, 'all_influence')"
   ]
  },
  {
   "cell_type": "code",
   "execution_count": null,
   "metadata": {
    "collapsed": true
   },
   "outputs": [],
   "source": []
  }
 ],
 "metadata": {
  "kernelspec": {
   "display_name": "Python 3",
   "language": "python",
   "name": "python3"
  },
  "language_info": {
   "codemirror_mode": {
    "name": "ipython",
    "version": 3
   },
   "file_extension": ".py",
   "mimetype": "text/x-python",
   "name": "python",
   "nbconvert_exporter": "python",
   "pygments_lexer": "ipython3",
   "version": "3.6.2"
  }
 },
 "nbformat": 4,
 "nbformat_minor": 2
}
