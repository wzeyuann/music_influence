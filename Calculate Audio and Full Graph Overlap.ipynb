{
 "cells": [
  {
   "cell_type": "code",
   "execution_count": 1,
   "metadata": {
    "collapsed": true
   },
   "outputs": [],
   "source": [
    "import networkx as nx\n",
    "import numpy as np\n",
    "import pandas as pd"
   ]
  },
  {
   "cell_type": "code",
   "execution_count": 2,
   "metadata": {
    "collapsed": true
   },
   "outputs": [],
   "source": [
    "# Load artist information\n",
    "artists = pd.read_csv('data/allmusic/artists.txt', header=None, names=['name', 'url', 'active_period', 'genres', 'styles'])"
   ]
  },
  {
   "cell_type": "code",
   "execution_count": 6,
   "metadata": {},
   "outputs": [],
   "source": [
    "# Create a column for unique id, which can be extracted from URL\n",
    "artists['id'] = artists['url'].apply(lambda x: x.split('-mn')[-1])"
   ]
  },
  {
   "cell_type": "code",
   "execution_count": 15,
   "metadata": {},
   "outputs": [],
   "source": [
    "# Load list of artist ids that we have audio for\n",
    "ids_with_audio_raw = open('data/artists_with_audio.txt', 'r').readlines()\n",
    "# Apply mild cleaning to isolate id strings\n",
    "ids_with_audio = map(lambda x: x.split('PRE ')[-1].strip('/\\n'), ids_with_audio_raw)"
   ]
  },
  {
   "cell_type": "code",
   "execution_count": 21,
   "metadata": {},
   "outputs": [
    {
     "name": "stdout",
     "output_type": "stream",
     "text": [
      "Number with audio: 15460\n",
      "Number ids total: 16704\n",
      "Percentage node overlap: 0.925526819923\n"
     ]
    }
   ],
   "source": [
    "# Compute id overlap between 2 lists\n",
    "print \"Number with audio:\", len(ids_with_audio)\n",
    "print \"Number ids total:\", len(np.unique(artists['id']))\n",
    "print \"Percentage node overlap:\", len(ids_with_audio) / float(len(np.unique(artists['id'])))"
   ]
  },
  {
   "cell_type": "code",
   "execution_count": 22,
   "metadata": {
    "collapsed": true
   },
   "outputs": [],
   "source": [
    "# Load influence relationships\n",
    "influences = pd.read_csv('data/allmusic/influences.txt', header=None, names=['influencer_name', 'influencer_url', 'follower_name', 'follower_url'])\n",
    "\n",
    "# Create full directed graph from influence relationships\n",
    "full_influence_graph = nx.DiGraph()\n",
    "\n",
    "for row in influences.itertuples():\n",
    "    full_influence_graph.add_edge(row.influencer_url.split('-mn')[-1], row.follower_url.split('-mn')[-1])\n",
    "\n"
   ]
  },
  {
   "cell_type": "code",
   "execution_count": 25,
   "metadata": {},
   "outputs": [],
   "source": [
    "# Create subgraph based on nodes we have audio for\n",
    "audio_subgraph = full_influence_graph.subgraph(ids_with_audio)"
   ]
  },
  {
   "cell_type": "code",
   "execution_count": 26,
   "metadata": {},
   "outputs": [
    {
     "name": "stdout",
     "output_type": "stream",
     "text": [
      "Number of edges in subgraph: 89007\n",
      "Number of edges in full graph: 93065\n",
      "Percentage edge overlap: 0.956396067265\n"
     ]
    }
   ],
   "source": [
    "print \"Number of edges in subgraph:\", audio_subgraph.number_of_edges()\n",
    "print \"Number of edges in full graph:\", full_influence_graph.number_of_edges()\n",
    "print \"Percentage edge overlap:\", audio_subgraph.number_of_edges() / float(full_influence_graph.number_of_edges())"
   ]
  }
 ],
 "metadata": {
  "kernelspec": {
   "display_name": "Python 2",
   "language": "python",
   "name": "python2"
  },
  "language_info": {
   "codemirror_mode": {
    "name": "ipython",
    "version": 2
   },
   "file_extension": ".py",
   "mimetype": "text/x-python",
   "name": "python",
   "nbconvert_exporter": "python",
   "pygments_lexer": "ipython2",
   "version": "2.7.13"
  }
 },
 "nbformat": 4,
 "nbformat_minor": 2
}
