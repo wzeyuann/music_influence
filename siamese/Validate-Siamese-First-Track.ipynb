{
 "cells": [
  {
   "cell_type": "code",
   "execution_count": 227,
   "metadata": {
    "collapsed": true
   },
   "outputs": [],
   "source": [
    "import numpy as np\n",
    "import pandas as pd\n",
    "import os\n",
    "from keras import backend as K\n",
    "from keras.layers import Input, Conv2D, Lambda, merge, Dense, Flatten, MaxPooling2D\n",
    "from keras.models import Model, Sequential, load_model\n",
    "from keras.regularizers import l2\n",
    "from keras import backend as K\n",
    "import random\n",
    "from tqdm import tqdm_notebook\n",
    "import matplotlib.pyplot as plt\n",
    "import seaborn as sns\n",
    "from sklearn.metrics import accuracy_score, precision_score, recall_score, f1_score\n",
    "%matplotlib inline\n",
    "\n",
    "from sklearn.manifold import TSNE\n",
    "from sklearn.decomposition import PCA\n",
    "from sklearn.preprocessing import StandardScaler\n",
    "from scipy.spatial.distance import cdist\n",
    "\n",
    "import pickle\n",
    "import tabulate"
   ]
  },
  {
   "cell_type": "code",
   "execution_count": 2,
   "metadata": {
    "collapsed": true
   },
   "outputs": [],
   "source": [
    "N_FRAMES = 128\n",
    "INPUT_DIM = (128, 128, 1)\n",
    "TRAINED_MODEL_PATH = 'trained_models/Siamese_FirstTrack_128x128/Siamese_FirstTrack_128x128.model'\n",
    "HISTORY_PATH = 'trained_models/Siamese_FirstTrack_128x128/history.pickle'\n",
    "FEATURE_DIR = '../data/features/mel_spec_first/'"
   ]
  },
  {
   "cell_type": "code",
   "execution_count": 3,
   "metadata": {},
   "outputs": [
    {
     "name": "stderr",
     "output_type": "stream",
     "text": [
      "/Users/harryxue/anaconda2/lib/python2.7/site-packages/keras/engine/topology.py:1269: UserWarning: The `Merge` layer is deprecated and will be removed after 08/2017. Use instead layers from `keras.layers.merge`, e.g. `add`, `concatenate`, etc.\n",
      "  return cls(**config)\n"
     ]
    }
   ],
   "source": [
    "# Load trained model\n",
    "model = load_model(TRAINED_MODEL_PATH)\n",
    "# Load training history\n",
    "history = pickle.load(open(HISTORY_PATH, 'r'))"
   ]
  },
  {
   "cell_type": "markdown",
   "metadata": {},
   "source": [
    "# Plot training history"
   ]
  },
  {
   "cell_type": "code",
   "execution_count": null,
   "metadata": {
    "collapsed": true
   },
   "outputs": [],
   "source": [
    "pd.Series(history['val_acc']).plot()\n",
    "pd.Series(history['acc']).plot()"
   ]
  },
  {
   "cell_type": "code",
   "execution_count": null,
   "metadata": {
    "collapsed": true
   },
   "outputs": [],
   "source": [
    "pd.Series(history['val_loss']).plot()\n",
    "pd.Series(history['loss']).plot()"
   ]
  },
  {
   "cell_type": "code",
   "execution_count": 15,
   "metadata": {
    "collapsed": true
   },
   "outputs": [],
   "source": [
    "influences = pd.read_csv('../data/allmusic/influences_cleaned.csv')\n",
    "artists = pd.read_csv('../data/allmusic/artists_cleaned.csv')\n",
    "song_release_df = pd.read_csv('../data/artist_song_list_years_cleaned.csv')\n",
    "\n",
    "# Create lookup dictionary mapping file id to artist id\n",
    "file2id = {}\n",
    "\n",
    "for filename in os.listdir(FEATURE_DIR):\n",
    "    file2id[filename] = int(filename.split('.npy')[0]) \n",
    "\n",
    "id2file = {id:filename for (filename, id) in file2id.items()}"
   ]
  },
  {
   "cell_type": "code",
   "execution_count": 5,
   "metadata": {
    "collapsed": true
   },
   "outputs": [],
   "source": [
    "# Load validation relationship pairs\n",
    "pos_val_rel, neg_val_rel = np.load('relationships/pos_val_rel.npy'), np.load('relationships/neg_val_rel.npy')"
   ]
  },
  {
   "cell_type": "code",
   "execution_count": 81,
   "metadata": {
    "collapsed": true
   },
   "outputs": [],
   "source": [
    "def sample_frames(melspec, n_frames):\n",
    "    \"\"\"Sample n_frames (contiguous) from a melspec representation\"\"\"\n",
    "    total_frames = melspec.shape[1]\n",
    "    sample_range = range(0, total_frames - n_frames + 1)\n",
    "    sample_index = random.choice(sample_range)\n",
    "    \n",
    "    return melspec[:, sample_index:sample_index + n_frames]"
   ]
  },
  {
   "cell_type": "code",
   "execution_count": 7,
   "metadata": {
    "collapsed": true
   },
   "outputs": [],
   "source": [
    "def predict_val(pos_ex, neg_ex, model=model, n_frames=N_FRAMES):\n",
    "    # Create binary labels for examples\n",
    "    labels = np.concatenate((np.ones(len(pos_ex)), np.zeros(len(neg_ex))))\n",
    "    all_ex = list(zip(np.concatenate((pos_ex, neg_ex)), labels))\n",
    "    examples, labels = zip(*all_ex)\n",
    "    \n",
    "    Y_pred, Y_actual = [], []\n",
    "    \n",
    "    random.shuffle(all_ex)\n",
    "    examples, labels = zip(*all_ex)\n",
    "\n",
    "    for example, label in tqdm_notebook(zip(examples, labels)):\n",
    "        # Extract sample of size N_FRAMES from mel_spec representation\n",
    "        # for each example in pair\n",
    "        pair_first, pair_second = [sample_frames(np.load(FEATURE_DIR + id2file[id]), n_frames) for id in example]\n",
    "        pred = model.predict([pair_first[np.newaxis, :, :,np.newaxis], pair_second[np.newaxis, :, :, np.newaxis]])\n",
    "        Y_pred.append(pred[0][0])\n",
    "        Y_actual.append(label)\n",
    "        \n",
    "    return Y_pred, Y_actual, examples"
   ]
  },
  {
   "cell_type": "code",
   "execution_count": 8,
   "metadata": {},
   "outputs": [
    {
     "data": {
      "application/vnd.jupyter.widget-view+json": {
       "model_id": "73cfa085fe6c442da29571e446a63b41",
       "version_major": 2,
       "version_minor": 0
      },
      "text/plain": [
       "A Jupyter Widget"
      ]
     },
     "metadata": {},
     "output_type": "display_data"
    },
    {
     "name": "stdout",
     "output_type": "stream",
     "text": [
      "\n"
     ]
    }
   ],
   "source": [
    "Y_pred, Y_actual, id_pairs = predict_val(pos_val_rel, neg_val_rel)"
   ]
  },
  {
   "cell_type": "code",
   "execution_count": 12,
   "metadata": {
    "collapsed": true
   },
   "outputs": [],
   "source": [
    "# Save val predictions since prediction takes long time\n",
    "pickle.dump(Y_pred, open('val_pred/Y_pred.npy', 'wb'))\n",
    "pickle.dump(Y_actual, open('val_pred/Y_actual.npy', 'wb'))\n",
    "pickle.dump(id_pairs, open('val_pred/id_pairs.npy', 'wb'))"
   ]
  },
  {
   "cell_type": "code",
   "execution_count": 6,
   "metadata": {
    "collapsed": true
   },
   "outputs": [],
   "source": [
    "# Load val predictions\n",
    "Y_pred = pickle.load(open('val_pred/Y_pred.npy', 'rb'))\n",
    "Y_actual = pickle.load(open('val_pred/Y_actual.npy', 'rb'))\n",
    "id_pairs = pickle.load(open('val_pred/id_pairs.npy', 'rb'))"
   ]
  },
  {
   "cell_type": "markdown",
   "metadata": {},
   "source": [
    "# Precision, Recall, F-Score"
   ]
  },
  {
   "cell_type": "code",
   "execution_count": 13,
   "metadata": {},
   "outputs": [
    {
     "data": {
      "text/plain": [
       "0.7049833438372197"
      ]
     },
     "execution_count": 13,
     "metadata": {},
     "output_type": "execute_result"
    }
   ],
   "source": [
    "accuracy_score(Y_actual, np.array(Y_pred) > 0.5)"
   ]
  },
  {
   "cell_type": "code",
   "execution_count": 14,
   "metadata": {},
   "outputs": [
    {
     "data": {
      "text/plain": [
       "0.6925125776857058"
      ]
     },
     "execution_count": 14,
     "metadata": {},
     "output_type": "execute_result"
    }
   ],
   "source": [
    "precision_score(Y_actual, np.array(Y_pred) > 0.5)"
   ]
  },
  {
   "cell_type": "code",
   "execution_count": 15,
   "metadata": {},
   "outputs": [
    {
     "data": {
      "text/plain": [
       "0.7373728279463402"
      ]
     },
     "execution_count": 15,
     "metadata": {},
     "output_type": "execute_result"
    }
   ],
   "source": [
    "recall_score(Y_actual, np.array(Y_pred) > 0.5)"
   ]
  },
  {
   "cell_type": "code",
   "execution_count": 16,
   "metadata": {},
   "outputs": [
    {
     "data": {
      "text/plain": [
       "0.7142389953561384"
      ]
     },
     "execution_count": 16,
     "metadata": {},
     "output_type": "execute_result"
    }
   ],
   "source": [
    "f1_score(Y_actual, np.array(Y_pred) > 0.5)"
   ]
  },
  {
   "cell_type": "markdown",
   "metadata": {},
   "source": [
    "# Accuracy for Same Genre Pairs v. Different Genre Pairs"
   ]
  },
  {
   "cell_type": "code",
   "execution_count": 153,
   "metadata": {
    "collapsed": true
   },
   "outputs": [],
   "source": [
    "# Create df for tracking whether genres are the same or not\n",
    "genre_same_df = pd.DataFrame({'Y_actual': Y_actual, 'Y_pred': (pd.Series(Y_pred) > 0.5).apply(float), 'Y_pred_raw': Y_pred, 'id_pair': id_pairs})"
   ]
  },
  {
   "cell_type": "code",
   "execution_count": 154,
   "metadata": {
    "collapsed": true
   },
   "outputs": [],
   "source": [
    "# Add column for whether genre is the same\n",
    "genre_same_df['same_genre'] = genre_same_df['id_pair'].map(lambda x: artists[artists['id'] == x[0]]['main_genre'].iloc[0] == artists[artists['id'] == x[1]]['main_genre'].iloc[0])"
   ]
  },
  {
   "cell_type": "code",
   "execution_count": 155,
   "metadata": {
    "collapsed": true
   },
   "outputs": [],
   "source": [
    "# Add shared genre label if genre is the same\n",
    "genre_same_df['shared_genre'] = genre_same_df['id_pair'].map(lambda x: artists[artists['id'] == x[0]]['main_genre'].iloc[0] if artists[artists['id'] == x[0]]['main_genre'].iloc[0] == artists[artists['id'] == x[1]]['main_genre'].iloc[0] else None)"
   ]
  },
  {
   "cell_type": "code",
   "execution_count": 156,
   "metadata": {},
   "outputs": [
    {
     "name": "stdout",
     "output_type": "stream",
     "text": [
      "same_genre\n",
      "False    0.697102\n",
      "True     0.713427\n",
      "dtype: float64\n",
      "same_genre\n",
      "False    0.419786\n",
      "True     0.848382\n",
      "dtype: float64\n",
      "same_genre\n",
      "False    0.647133\n",
      "True     0.767645\n",
      "dtype: float64\n",
      "same_genre\n",
      "False    0.509237\n",
      "True     0.805997\n",
      "dtype: float64\n"
     ]
    }
   ],
   "source": [
    "# Calculate accuracy, precision, recall, F1 score\n",
    "# for same genre pairs v. different pairs\n",
    "print genre_same_df.groupby('same_genre').apply(lambda x: accuracy_score(x['Y_actual'], x['Y_pred']))\n",
    "print genre_same_df.groupby('same_genre').apply(lambda x: precision_score(x['Y_actual'], x['Y_pred']))\n",
    "print genre_same_df.groupby('same_genre').apply(lambda x: recall_score(x['Y_actual'], x['Y_pred']))\n",
    "print genre_same_df.groupby('same_genre').apply(lambda x: f1_score(x['Y_actual'], x['Y_pred']))"
   ]
  },
  {
   "cell_type": "code",
   "execution_count": 157,
   "metadata": {},
   "outputs": [
    {
     "data": {
      "text/plain": [
       "<matplotlib.axes._subplots.AxesSubplot at 0x1a1aed0890>"
      ]
     },
     "execution_count": 157,
     "metadata": {},
     "output_type": "execute_result"
    },
    {
     "data": {
      "image/png": "[encoded data removed]",
      "text/plain": [
       "<matplotlib.figure.Figure at 0x1a19cd6790>"
      ]
     },
     "metadata": {},
     "output_type": "display_data"
    }
   ],
   "source": [
    "# Accuracy, precision, recall by genre for subset where genre is the same\n",
    "genre_same_df[genre_same_df['same_genre'] == True].groupby('shared_genre')\\\n",
    "                                                .apply(lambda x: accuracy_score(x['Y_actual'], x['Y_pred']))\\\n",
    "                                                .sort_values()\\\n",
    "                                                .plot('bar', title='Accuracy by Genre')"
   ]
  },
  {
   "cell_type": "code",
   "execution_count": 158,
   "metadata": {},
   "outputs": [
    {
     "data": {
      "text/plain": [
       "<matplotlib.axes._subplots.AxesSubplot at 0x1a18b07810>"
      ]
     },
     "execution_count": 158,
     "metadata": {},
     "output_type": "execute_result"
    },
    {
     "data": {
      "image/png": "[encoded data removed]",
      "text/plain": [
       "<matplotlib.figure.Figure at 0x1a16ffba90>"
      ]
     },
     "metadata": {},
     "output_type": "display_data"
    }
   ],
   "source": [
    "# Accuracy, precision, recall by genre for subset where genre is the same\n",
    "genre_same_df[genre_same_df['same_genre'] == True].groupby('shared_genre')\\\n",
    "                                                .apply(lambda x: precision_score(x['Y_actual'], x['Y_pred']))\\\n",
    "                                                .sort_values()\\\n",
    "                                                .plot('bar', title='Precision by Genre')"
   ]
  },
  {
   "cell_type": "markdown",
   "metadata": {},
   "source": [
    "### Accuracy, precision, recall by genre for subset where genre is the same"
   ]
  },
  {
   "cell_type": "code",
   "execution_count": 159,
   "metadata": {},
   "outputs": [
    {
     "data": {
      "text/plain": [
       "<matplotlib.axes._subplots.AxesSubplot at 0x1a2116b750>"
      ]
     },
     "execution_count": 159,
     "metadata": {},
     "output_type": "execute_result"
    },
    {
     "data": {
      "image/png": "[encoded data removed]",
      "text/plain": [
       "<matplotlib.figure.Figure at 0x1a18ac01d0>"
      ]
     },
     "metadata": {},
     "output_type": "display_data"
    }
   ],
   "source": [
    "genre_same_df[genre_same_df['same_genre'] == True].groupby('shared_genre')\\\n",
    "                                                .apply(lambda x: accuracy_score(x['Y_actual'], x['Y_pred']))\\\n",
    "                                                .sort_values()\\\n",
    "                                                .plot('bar', title='Recall by Genre')"
   ]
  },
  {
   "cell_type": "markdown",
   "metadata": {},
   "source": [
    "# Accuracy by number of years between samples"
   ]
  },
  {
   "cell_type": "code",
   "execution_count": 160,
   "metadata": {
    "collapsed": true
   },
   "outputs": [],
   "source": [
    "def get_year_by_id(id, song_release_df=song_release_df):\n",
    "    '''Based on id of artist, get year of release for first song by that artist'''\n",
    "    try:\n",
    "        year = song_release_df[(song_release_df['artist_id'] == id)]['year'].iloc[0]\n",
    "        if year == 0.:\n",
    "            return float('inf')\n",
    "        return year\n",
    "    except:\n",
    "        return float('inf')"
   ]
  },
  {
   "cell_type": "code",
   "execution_count": 161,
   "metadata": {
    "collapsed": true
   },
   "outputs": [],
   "source": [
    "# Add column for number of years between two songs in a pair\n",
    "genre_same_df['years_between'] = genre_same_df['id_pair'].apply(lambda x: abs(get_year_by_id(x[0]) - get_year_by_id(x[1])))\n",
    "# Convert inf values to NaN\n",
    "genre_same_df['years_between'] = genre_same_df['years_between'].replace([np.inf], np.nan)"
   ]
  },
  {
   "cell_type": "code",
   "execution_count": 226,
   "metadata": {},
   "outputs": [
    {
     "data": {
      "text/plain": [
       "<matplotlib.text.Text at 0x1a1f928310>"
      ]
     },
     "execution_count": 226,
     "metadata": {},
     "output_type": "execute_result"
    },
    {
     "data": {
      "image/png": "[encoded data removed]",
      "text/plain": [
       "<matplotlib.figure.Figure at 0x1a1f9eb090>"
      ]
     },
     "metadata": {},
     "output_type": "display_data"
    }
   ],
   "source": [
    "# Compute average accuracy by years between samples\n",
    "genre_same_df[genre_same_df['years_between'].notnull()].groupby('years_between')\\\n",
    "                                                .apply(lambda x: accuracy_score(x['Y_actual'], x['Y_pred']))\\\n",
    "                                                .plot()\n",
    "plt.xlabel('Years Between Release Dates')\n",
    "plt.ylabel('Average Accuracy')"
   ]
  },
  {
   "cell_type": "code",
   "execution_count": 152,
   "metadata": {
    "collapsed": true
   },
   "outputs": [],
   "source": [
    "years_df = genre_same_df[genre_same_df['years_between'].notnull()][['Y_actual', 'Y_pred', 'years_between']]\n",
    "# Add column for whether prediction is correct\n",
    "years_df['correct_pred'] = years_df['Y_actual'] == years_df['Y_pred']\n",
    "# Export to csv for statistical analysis in R\n",
    "years_df.to_csv('true_pred_by_year.csv', index=False, )"
   ]
  },
  {
   "cell_type": "markdown",
   "metadata": {},
   "source": [
    "# Baseline: Accuracy for Samples From Same Song"
   ]
  },
  {
   "cell_type": "code",
   "execution_count": 86,
   "metadata": {
    "collapsed": true
   },
   "outputs": [],
   "source": [
    "# Create \"pairs\" of the same id repeated to use as baseline\n",
    "unique_val_ids = np.unique(np.append(neg_val_rel.flatten(), pos_val_rel.flatten()))\n",
    "same_id_pairs = np.array([[id, id] for id in unique_val_ids])"
   ]
  },
  {
   "cell_type": "code",
   "execution_count": null,
   "metadata": {
    "collapsed": true
   },
   "outputs": [],
   "source": [
    "def predict_val_same_song(same_id_pairs, model=model, n_frames=N_FRAMES):\n",
    "    # Create binary labels for examples\n",
    "    labels = np.ones(len(same_id_pairs))\n",
    "    all_ex = list(zip(same_id_pairs, labels))\n",
    "    examples, labels = zip(*all_ex)\n",
    "    \n",
    "    Y_pred, Y_actual = [], []\n",
    "    \n",
    "    random.shuffle(all_ex)\n",
    "    examples, labels = zip(*all_ex)\n",
    "\n",
    "    for example, label in tqdm_notebook(zip(examples, labels)):\n",
    "        # Extract sample of size N_FRAMES from mel_spec representation\n",
    "        # for each example in pair\n",
    "        pair_first, pair_second = [sample_frames(np.load(FEATURE_DIR + id2file[id]), n_frames) for id in example]\n",
    "        pred = model.predict([pair_first[np.newaxis, :, :,np.newaxis], pair_second[np.newaxis, :, :, np.newaxis]])\n",
    "        Y_pred.append(pred[0][0])\n",
    "        Y_actual.append(label)\n",
    "        \n",
    "    return Y_pred, Y_actual, examples"
   ]
  },
  {
   "cell_type": "code",
   "execution_count": null,
   "metadata": {
    "collapsed": true
   },
   "outputs": [],
   "source": [
    "Y_pred_same, Y_actual_same, id_pairs_shuffled = predict_val_same_song(same_id_pairs)"
   ]
  },
  {
   "cell_type": "code",
   "execution_count": null,
   "metadata": {
    "collapsed": true
   },
   "outputs": [],
   "source": [
    "accuracy_score(Y_actual_same, np.array(Y_pred_same) > 0.5)"
   ]
  },
  {
   "cell_type": "markdown",
   "metadata": {},
   "source": [
    "# Error Analysis: Most confident predictions that were wrong"
   ]
  },
  {
   "cell_type": "code",
   "execution_count": 203,
   "metadata": {
    "collapsed": true
   },
   "outputs": [],
   "source": [
    "def id_to_artist_song(id, song_release_df=song_release_df):\n",
    "    '''Lookup artist name and songname by id'''\n",
    "    try:\n",
    "        song = song_release_df[(song_release_df['artist_id'] == id)]['song_name'].iloc[0]\n",
    "        artist = song_release_df[(song_release_df['artist_id'] == id)]['artist_name'].iloc[0]\n",
    "    \n",
    "        return artist + ' - ' + song\n",
    "    except:\n",
    "        return 'Not found'"
   ]
  },
  {
   "cell_type": "code",
   "execution_count": 204,
   "metadata": {},
   "outputs": [
    {
     "name": "stderr",
     "output_type": "stream",
     "text": [
      "/Users/harryxue/anaconda2/lib/python2.7/site-packages/ipykernel_launcher.py:2: SettingWithCopyWarning: \n",
      "A value is trying to be set on a copy of a slice from a DataFrame.\n",
      "Try using .loc[row_indexer,col_indexer] = value instead\n",
      "\n",
      "See the caveats in the documentation: http://pandas.pydata.org/pandas-docs/stable/indexing.html#indexing-view-versus-copy\n",
      "  \n"
     ]
    }
   ],
   "source": [
    "false_pos_df = genre_same_df[(genre_same_df['Y_actual'] != genre_same_df['Y_pred']) & (genre_same_df['Y_pred_raw'] > 0.95)]\n",
    "false_pos_df['names'] = false_pos_df['id_pair'].apply(lambda x: id_to_artist_song(x[0]) + ', ' + id_to_artist_song(x[1]))\n",
    "false_pos_df = false_pos_df.sort_values('Y_pred_raw', ascending=False)"
   ]
  },
  {
   "cell_type": "code",
   "execution_count": 228,
   "metadata": {},
   "outputs": [
    {
     "data": {
      "text/html": [
       "<div>\n",
       "<style>\n",
       "    .dataframe thead tr:only-child th {\n",
       "        text-align: right;\n",
       "    }\n",
       "\n",
       "    .dataframe thead th {\n",
       "        text-align: left;\n",
       "    }\n",
       "\n",
       "    .dataframe tbody tr th {\n",
       "        vertical-align: top;\n",
       "    }\n",
       "</style>\n",
       "<table border=\"1\" class=\"dataframe\">\n",
       "  <thead>\n",
       "    <tr style=\"text-align: right;\">\n",
       "      <th></th>\n",
       "      <th>Y_actual</th>\n",
       "      <th>Y_pred</th>\n",
       "      <th>Y_pred_raw</th>\n",
       "      <th>id_pair</th>\n",
       "      <th>same_genre</th>\n",
       "      <th>shared_genre</th>\n",
       "      <th>years_between</th>\n",
       "      <th>names</th>\n",
       "    </tr>\n",
       "  </thead>\n",
       "  <tbody>\n",
       "    <tr>\n",
       "      <th>17019</th>\n",
       "      <td>0.0</td>\n",
       "      <td>1.0</td>\n",
       "      <td>0.985368</td>\n",
       "      <td>[515755, 357406]</td>\n",
       "      <td>True</td>\n",
       "      <td>Pop/Rock</td>\n",
       "      <td>19.0</td>\n",
       "      <td>Brainiac - Hot Seat Can't Sit Down, Nirvana - ...</td>\n",
       "    </tr>\n",
       "    <tr>\n",
       "      <th>7872</th>\n",
       "      <td>0.0</td>\n",
       "      <td>1.0</td>\n",
       "      <td>0.976721</td>\n",
       "      <td>[629564, 216318]</td>\n",
       "      <td>True</td>\n",
       "      <td>Pop/Rock</td>\n",
       "      <td>4.0</td>\n",
       "      <td>Buzzcocks - Fast Cars, Xasthur - Trauma Will A...</td>\n",
       "    </tr>\n",
       "    <tr>\n",
       "      <th>26724</th>\n",
       "      <td>0.0</td>\n",
       "      <td>1.0</td>\n",
       "      <td>0.976054</td>\n",
       "      <td>[63763, 490004]</td>\n",
       "      <td>True</td>\n",
       "      <td>Pop/Rock</td>\n",
       "      <td>11.0</td>\n",
       "      <td>Babyland - Past Lives, Ramones - Gimme Gimme S...</td>\n",
       "    </tr>\n",
       "    <tr>\n",
       "      <th>25392</th>\n",
       "      <td>0.0</td>\n",
       "      <td>1.0</td>\n",
       "      <td>0.973814</td>\n",
       "      <td>[7040, 98465]</td>\n",
       "      <td>True</td>\n",
       "      <td>Pop/Rock</td>\n",
       "      <td>14.0</td>\n",
       "      <td>Tony Iommi - Paranoid, Iron Maiden - Powerslave</td>\n",
       "    </tr>\n",
       "    <tr>\n",
       "      <th>25978</th>\n",
       "      <td>0.0</td>\n",
       "      <td>1.0</td>\n",
       "      <td>0.973143</td>\n",
       "      <td>[351733, 78836]</td>\n",
       "      <td>True</td>\n",
       "      <td>Pop/Rock</td>\n",
       "      <td>4.0</td>\n",
       "      <td>Nine Inch Nails - The Hand That Feeds, Badland...</td>\n",
       "    </tr>\n",
       "    <tr>\n",
       "      <th>1219</th>\n",
       "      <td>0.0</td>\n",
       "      <td>1.0</td>\n",
       "      <td>0.972291</td>\n",
       "      <td>[954761, 379125]</td>\n",
       "      <td>True</td>\n",
       "      <td>Pop/Rock</td>\n",
       "      <td>11.0</td>\n",
       "      <td>Winter - Winter, Neil Young - The Needle and t...</td>\n",
       "    </tr>\n",
       "    <tr>\n",
       "      <th>15380</th>\n",
       "      <td>0.0</td>\n",
       "      <td>1.0</td>\n",
       "      <td>0.970423</td>\n",
       "      <td>[133719, 34988]</td>\n",
       "      <td>False</td>\n",
       "      <td>None</td>\n",
       "      <td>2.0</td>\n",
       "      <td>Fatboy Slim - Right Here Right Now, Swans - I ...</td>\n",
       "    </tr>\n",
       "    <tr>\n",
       "      <th>1324</th>\n",
       "      <td>0.0</td>\n",
       "      <td>1.0</td>\n",
       "      <td>0.965690</td>\n",
       "      <td>[354105, 151431]</td>\n",
       "      <td>False</td>\n",
       "      <td>None</td>\n",
       "      <td>2.0</td>\n",
       "      <td>Jimi Hendrix - Machine Gun, Roger Miller - Old...</td>\n",
       "    </tr>\n",
       "    <tr>\n",
       "      <th>19394</th>\n",
       "      <td>0.0</td>\n",
       "      <td>1.0</td>\n",
       "      <td>0.965610</td>\n",
       "      <td>[357406, 950956]</td>\n",
       "      <td>True</td>\n",
       "      <td>Pop/Rock</td>\n",
       "      <td>23.0</td>\n",
       "      <td>Nirvana - Been a Son, Gorilla Biscuits - New D...</td>\n",
       "    </tr>\n",
       "    <tr>\n",
       "      <th>3713</th>\n",
       "      <td>0.0</td>\n",
       "      <td>1.0</td>\n",
       "      <td>0.961905</td>\n",
       "      <td>[490004, 693101]</td>\n",
       "      <td>False</td>\n",
       "      <td>None</td>\n",
       "      <td>18.0</td>\n",
       "      <td>Ramones - Gimme Gimme Shock Treatment, Yves De...</td>\n",
       "    </tr>\n",
       "    <tr>\n",
       "      <th>11506</th>\n",
       "      <td>0.0</td>\n",
       "      <td>1.0</td>\n",
       "      <td>0.960632</td>\n",
       "      <td>[55128, 964011]</td>\n",
       "      <td>False</td>\n",
       "      <td>None</td>\n",
       "      <td>33.0</td>\n",
       "      <td>Bo Diddley - Road Runner, Zaiko Langa Langa - ...</td>\n",
       "    </tr>\n",
       "    <tr>\n",
       "      <th>13931</th>\n",
       "      <td>0.0</td>\n",
       "      <td>1.0</td>\n",
       "      <td>0.960359</td>\n",
       "      <td>[815235, 133719]</td>\n",
       "      <td>False</td>\n",
       "      <td>None</td>\n",
       "      <td>5.0</td>\n",
       "      <td>Leila Pinheiro - Renata Maria, Fatboy Slim - R...</td>\n",
       "    </tr>\n",
       "    <tr>\n",
       "      <th>25399</th>\n",
       "      <td>0.0</td>\n",
       "      <td>1.0</td>\n",
       "      <td>0.957920</td>\n",
       "      <td>[105422, 862855]</td>\n",
       "      <td>True</td>\n",
       "      <td>Pop/Rock</td>\n",
       "      <td>5.0</td>\n",
       "      <td>Corrosion of Conformity - Stare Too Long, KT T...</td>\n",
       "    </tr>\n",
       "    <tr>\n",
       "      <th>2320</th>\n",
       "      <td>0.0</td>\n",
       "      <td>1.0</td>\n",
       "      <td>0.951591</td>\n",
       "      <td>[1864351, 317545]</td>\n",
       "      <td>True</td>\n",
       "      <td>Pop/Rock</td>\n",
       "      <td>4.0</td>\n",
       "      <td>Skywave - Here She Comes, NOFX - Bob</td>\n",
       "    </tr>\n",
       "    <tr>\n",
       "      <th>15306</th>\n",
       "      <td>0.0</td>\n",
       "      <td>1.0</td>\n",
       "      <td>0.950390</td>\n",
       "      <td>[952322, 785380]</td>\n",
       "      <td>False</td>\n",
       "      <td>None</td>\n",
       "      <td>32.0</td>\n",
       "      <td>Hawkins Family - Changed, Lee \"Scratch\" Perry ...</td>\n",
       "    </tr>\n",
       "  </tbody>\n",
       "</table>\n",
       "</div>"
      ],
      "text/plain": [
       "       Y_actual  Y_pred  Y_pred_raw            id_pair  same_genre  \\\n",
       "17019       0.0     1.0    0.985368   [515755, 357406]        True   \n",
       "7872        0.0     1.0    0.976721   [629564, 216318]        True   \n",
       "26724       0.0     1.0    0.976054    [63763, 490004]        True   \n",
       "25392       0.0     1.0    0.973814      [7040, 98465]        True   \n",
       "25978       0.0     1.0    0.973143    [351733, 78836]        True   \n",
       "1219        0.0     1.0    0.972291   [954761, 379125]        True   \n",
       "15380       0.0     1.0    0.970423    [133719, 34988]       False   \n",
       "1324        0.0     1.0    0.965690   [354105, 151431]       False   \n",
       "19394       0.0     1.0    0.965610   [357406, 950956]        True   \n",
       "3713        0.0     1.0    0.961905   [490004, 693101]       False   \n",
       "11506       0.0     1.0    0.960632    [55128, 964011]       False   \n",
       "13931       0.0     1.0    0.960359   [815235, 133719]       False   \n",
       "25399       0.0     1.0    0.957920   [105422, 862855]        True   \n",
       "2320        0.0     1.0    0.951591  [1864351, 317545]        True   \n",
       "15306       0.0     1.0    0.950390   [952322, 785380]       False   \n",
       "\n",
       "      shared_genre  years_between  \\\n",
       "17019     Pop/Rock           19.0   \n",
       "7872      Pop/Rock            4.0   \n",
       "26724     Pop/Rock           11.0   \n",
       "25392     Pop/Rock           14.0   \n",
       "25978     Pop/Rock            4.0   \n",
       "1219      Pop/Rock           11.0   \n",
       "15380         None            2.0   \n",
       "1324          None            2.0   \n",
       "19394     Pop/Rock           23.0   \n",
       "3713          None           18.0   \n",
       "11506         None           33.0   \n",
       "13931         None            5.0   \n",
       "25399     Pop/Rock            5.0   \n",
       "2320      Pop/Rock            4.0   \n",
       "15306         None           32.0   \n",
       "\n",
       "                                                   names  \n",
       "17019  Brainiac - Hot Seat Can't Sit Down, Nirvana - ...  \n",
       "7872   Buzzcocks - Fast Cars, Xasthur - Trauma Will A...  \n",
       "26724  Babyland - Past Lives, Ramones - Gimme Gimme S...  \n",
       "25392    Tony Iommi - Paranoid, Iron Maiden - Powerslave  \n",
       "25978  Nine Inch Nails - The Hand That Feeds, Badland...  \n",
       "1219   Winter - Winter, Neil Young - The Needle and t...  \n",
       "15380  Fatboy Slim - Right Here Right Now, Swans - I ...  \n",
       "1324   Jimi Hendrix - Machine Gun, Roger Miller - Old...  \n",
       "19394  Nirvana - Been a Son, Gorilla Biscuits - New D...  \n",
       "3713   Ramones - Gimme Gimme Shock Treatment, Yves De...  \n",
       "11506  Bo Diddley - Road Runner, Zaiko Langa Langa - ...  \n",
       "13931  Leila Pinheiro - Renata Maria, Fatboy Slim - R...  \n",
       "25399  Corrosion of Conformity - Stare Too Long, KT T...  \n",
       "2320                Skywave - Here She Comes, NOFX - Bob  \n",
       "15306  Hawkins Family - Changed, Lee \"Scratch\" Perry ...  "
      ]
     },
     "execution_count": 228,
     "metadata": {},
     "output_type": "execute_result"
    }
   ],
   "source": [
    "false_pos_df"
   ]
  },
  {
   "cell_type": "code",
   "execution_count": 235,
   "metadata": {},
   "outputs": [
    {
     "name": "stdout",
     "output_type": "stream",
     "text": [
      "\\begin{tabular}{lr}\n",
      "\\hline\n",
      " Input Pair                                                             &   Predicted Probability \\\\\n",
      "\\hline\n",
      " Brainiac - Hot Seat Can't Sit Down, Nirvana - Been a Son               &                0.985368 \\\\\n",
      " Buzzcocks - Fast Cars, Xasthur - Trauma Will Always Linger             &                0.976721 \\\\\n",
      " Babyland - Past Lives, Ramones - Gimme Gimme Shock Treatment           &                0.976054 \\\\\n",
      " Tony Iommi - Paranoid, Iron Maiden - Powerslave                        &                0.973814 \\\\\n",
      " Nine Inch Nails - The Hand That Feeds, Badlands - Ride the Jack        &                0.973143 \\\\\n",
      " Winter - Winter, Neil Young - The Needle and the Damage Done           &                0.972291 \\\\\n",
      " Fatboy Slim - Right Here Right Now, Swans - I Am the Sun               &                0.970423 \\\\\n",
      " Jimi Hendrix - Machine Gun, Roger Miller - Old Friends                 &                0.96569  \\\\\n",
      " Nirvana - Been a Son, Gorilla Biscuits - New Direction                 &                0.96561  \\\\\n",
      " Ramones - Gimme Gimme Shock Treatment, Yves Deruyter - The Rebel       &                0.961905 \\\\\n",
      " Bo Diddley - Road Runner, Zaiko Langa Langa - Egide                    &                0.960632 \\\\\n",
      " Leila Pinheiro - Renata Maria, Fatboy Slim - Right Here Right Now      &                0.960359 \\\\\n",
      " Corrosion of Conformity - Stare Too Long, KT Tunstall - Suddenly I See &                0.95792  \\\\\n",
      " Skywave - Here She Comes, NOFX - Bob                                   &                0.951591 \\\\\n",
      " Hawkins Family - Changed, Lee \"Scratch\" Perry - Heavy Voodoo           &                0.95039  \\\\\n",
      "\\hline\n",
      "\\end{tabular}\n"
     ]
    }
   ],
   "source": [
    "print tabulate.tabulate(false_pos_df[['names', 'Y_pred_raw']], headers=['Input Pair', 'Predicted Probability'], tablefmt='latex', showindex=False)"
   ]
  },
  {
   "cell_type": "markdown",
   "metadata": {},
   "source": [
    "# Rank Influences for a Given Artist"
   ]
  },
  {
   "cell_type": "code",
   "execution_count": 249,
   "metadata": {
    "collapsed": true
   },
   "outputs": [],
   "source": [
    "# Load influence relationships\n",
    "influences = pd.read_csv('../data/allmusic/influences_cleaned.csv')"
   ]
  },
  {
   "cell_type": "code",
   "execution_count": 340,
   "metadata": {
    "collapsed": true
   },
   "outputs": [],
   "source": [
    "def compute_influence_proportions(artist_id, influences=influences, num_samples=100, model=model, n_frames=N_FRAMES):\n",
    "    '''For a given artist, use the trained siamese model to predict\n",
    "    percentage influence from each of the artists' influences\n",
    "    '''\n",
    "    # Get list of all the artist's influences' ids\n",
    "    influences_ids = influences[influences['follower_id'] == artist_id]['influencer_id'].tolist()\n",
    "    \n",
    "    print 'Total influencers:', len(influences_ids)\n",
    "    \n",
    "    # Initialize (num_influences, num_samples) array of predicted influence probabilities\n",
    "    pred_inf_matrix = np.zeros((len(influences_ids), num_samples))\n",
    "    \n",
    "    # Fill in predicted influence probabilities matrix\n",
    "    for i, influence_id in tqdm_notebook(enumerate(influences_ids)):\n",
    "        example = [artist_id, influence_id]\n",
    "        \n",
    "        for j in range(num_samples):\n",
    "            pair_first, pair_second = [sample_frames(np.load(FEATURE_DIR + id2file[id]), n_frames) for id in example]\n",
    "            pred = model.predict([pair_first[np.newaxis, :, :,np.newaxis], pair_second[np.newaxis, :, :, np.newaxis]])\n",
    "            pred_inf_matrix[i][j] = pred[0][0]\n",
    "    \n",
    "    # Calculate mean across samples and normalize to get probability vector\n",
    "    mean_infs = pred_inf_matrix.mean(axis=1)\n",
    "    probs = mean_infs / mean_infs.sum()\n",
    "    \n",
    "    # Create dataframe with influence id, influence name, probabilities as columns\n",
    "    influence_prob_df = pd.DataFrame({'proportion_influence': probs})\n",
    "    influence_prob_df['influencer_name'] = pd.Series(influences_ids).apply(lambda x: artists[artists['id'] == x]['name'].iloc[0])\n",
    "    \n",
    "    return influence_prob_df.sort_values('proportion_influence', ascending=False)\n"
   ]
  },
  {
   "cell_type": "code",
   "execution_count": 341,
   "metadata": {},
   "outputs": [
    {
     "name": "stdout",
     "output_type": "stream",
     "text": [
      "Total influencers: 16\n"
     ]
    },
    {
     "data": {
      "application/vnd.jupyter.widget-view+json": {
       "model_id": "70f78d2bae66456090907642d127f843",
       "version_major": 2,
       "version_minor": 0
      },
      "text/plain": [
       "A Jupyter Widget"
      ]
     },
     "metadata": {},
     "output_type": "display_data"
    },
    {
     "name": "stdout",
     "output_type": "stream",
     "text": [
      "\n"
     ]
    },
    {
     "data": {
      "text/html": [
       "<div>\n",
       "<style>\n",
       "    .dataframe thead tr:only-child th {\n",
       "        text-align: right;\n",
       "    }\n",
       "\n",
       "    .dataframe thead th {\n",
       "        text-align: left;\n",
       "    }\n",
       "\n",
       "    .dataframe tbody tr th {\n",
       "        vertical-align: top;\n",
       "    }\n",
       "</style>\n",
       "<table border=\"1\" class=\"dataframe\">\n",
       "  <thead>\n",
       "    <tr style=\"text-align: right;\">\n",
       "      <th></th>\n",
       "      <th>proportion_influence</th>\n",
       "      <th>influencer_name</th>\n",
       "    </tr>\n",
       "  </thead>\n",
       "  <tbody>\n",
       "    <tr>\n",
       "      <th>12</th>\n",
       "      <td>0.067838</td>\n",
       "      <td>Louis Armstrong</td>\n",
       "    </tr>\n",
       "    <tr>\n",
       "      <th>6</th>\n",
       "      <td>0.066490</td>\n",
       "      <td>Ben Webster</td>\n",
       "    </tr>\n",
       "    <tr>\n",
       "      <th>2</th>\n",
       "      <td>0.066285</td>\n",
       "      <td>Coleman Hawkins</td>\n",
       "    </tr>\n",
       "    <tr>\n",
       "      <th>13</th>\n",
       "      <td>0.066081</td>\n",
       "      <td>Roy Eldridge</td>\n",
       "    </tr>\n",
       "    <tr>\n",
       "      <th>3</th>\n",
       "      <td>0.063592</td>\n",
       "      <td>Buster Smith</td>\n",
       "    </tr>\n",
       "    <tr>\n",
       "      <th>7</th>\n",
       "      <td>0.062944</td>\n",
       "      <td>Benny Carter</td>\n",
       "    </tr>\n",
       "    <tr>\n",
       "      <th>5</th>\n",
       "      <td>0.062733</td>\n",
       "      <td>Lester Young</td>\n",
       "    </tr>\n",
       "    <tr>\n",
       "      <th>15</th>\n",
       "      <td>0.062463</td>\n",
       "      <td>Barney Kessel</td>\n",
       "    </tr>\n",
       "    <tr>\n",
       "      <th>1</th>\n",
       "      <td>0.062417</td>\n",
       "      <td>Erskine Hawkins</td>\n",
       "    </tr>\n",
       "    <tr>\n",
       "      <th>0</th>\n",
       "      <td>0.062049</td>\n",
       "      <td>Art Tatum</td>\n",
       "    </tr>\n",
       "    <tr>\n",
       "      <th>11</th>\n",
       "      <td>0.061391</td>\n",
       "      <td>Johnny Hodges</td>\n",
       "    </tr>\n",
       "    <tr>\n",
       "      <th>9</th>\n",
       "      <td>0.061047</td>\n",
       "      <td>Illinois Jacquet</td>\n",
       "    </tr>\n",
       "    <tr>\n",
       "      <th>8</th>\n",
       "      <td>0.060449</td>\n",
       "      <td>Don Byas</td>\n",
       "    </tr>\n",
       "    <tr>\n",
       "      <th>4</th>\n",
       "      <td>0.059280</td>\n",
       "      <td>Count Basie</td>\n",
       "    </tr>\n",
       "    <tr>\n",
       "      <th>10</th>\n",
       "      <td>0.058101</td>\n",
       "      <td>Jay McShann</td>\n",
       "    </tr>\n",
       "    <tr>\n",
       "      <th>14</th>\n",
       "      <td>0.056838</td>\n",
       "      <td>Jimmy Dorsey</td>\n",
       "    </tr>\n",
       "  </tbody>\n",
       "</table>\n",
       "</div>"
      ],
      "text/plain": [
       "    proportion_influence   influencer_name\n",
       "12              0.067838   Louis Armstrong\n",
       "6               0.066490       Ben Webster\n",
       "2               0.066285   Coleman Hawkins\n",
       "13              0.066081      Roy Eldridge\n",
       "3               0.063592      Buster Smith\n",
       "7               0.062944      Benny Carter\n",
       "5               0.062733      Lester Young\n",
       "15              0.062463     Barney Kessel\n",
       "1               0.062417   Erskine Hawkins\n",
       "0               0.062049         Art Tatum\n",
       "11              0.061391     Johnny Hodges\n",
       "9               0.061047  Illinois Jacquet\n",
       "8               0.060449          Don Byas\n",
       "4               0.059280       Count Basie\n",
       "10              0.058101       Jay McShann\n",
       "14              0.056838      Jimmy Dorsey"
      ]
     },
     "execution_count": 341,
     "metadata": {},
     "output_type": "execute_result"
    }
   ],
   "source": [
    "charlie_parker_prop = compute_influence_proportions(211758)\n",
    "charlie_parker_prop"
   ]
  },
  {
   "cell_type": "code",
   "execution_count": 320,
   "metadata": {},
   "outputs": [
    {
     "name": "stdout",
     "output_type": "stream",
     "text": [
      "Total influencers: 9\n"
     ]
    },
    {
     "data": {
      "application/vnd.jupyter.widget-view+json": {
       "model_id": "644d8ae126b44e34accc22cb6cf30f1d",
       "version_major": 2,
       "version_minor": 0
      },
      "text/plain": [
       "A Jupyter Widget"
      ]
     },
     "metadata": {},
     "output_type": "display_data"
    },
    {
     "name": "stdout",
     "output_type": "stream",
     "text": [
      "\n"
     ]
    },
    {
     "data": {
      "text/html": [
       "<div>\n",
       "<style>\n",
       "    .dataframe thead tr:only-child th {\n",
       "        text-align: right;\n",
       "    }\n",
       "\n",
       "    .dataframe thead th {\n",
       "        text-align: left;\n",
       "    }\n",
       "\n",
       "    .dataframe tbody tr th {\n",
       "        vertical-align: top;\n",
       "    }\n",
       "</style>\n",
       "<table border=\"1\" class=\"dataframe\">\n",
       "  <thead>\n",
       "    <tr style=\"text-align: right;\">\n",
       "      <th></th>\n",
       "      <th>proportion_influence</th>\n",
       "      <th>influencer_name</th>\n",
       "    </tr>\n",
       "  </thead>\n",
       "  <tbody>\n",
       "    <tr>\n",
       "      <th>1</th>\n",
       "      <td>0.124236</td>\n",
       "      <td>2Pac</td>\n",
       "    </tr>\n",
       "    <tr>\n",
       "      <th>5</th>\n",
       "      <td>0.124146</td>\n",
       "      <td>Pharrell Williams</td>\n",
       "    </tr>\n",
       "    <tr>\n",
       "      <th>3</th>\n",
       "      <td>0.124084</td>\n",
       "      <td>Jay-Z</td>\n",
       "    </tr>\n",
       "    <tr>\n",
       "      <th>2</th>\n",
       "      <td>0.122706</td>\n",
       "      <td>Nas</td>\n",
       "    </tr>\n",
       "    <tr>\n",
       "      <th>7</th>\n",
       "      <td>0.116895</td>\n",
       "      <td>Clipse</td>\n",
       "    </tr>\n",
       "    <tr>\n",
       "      <th>4</th>\n",
       "      <td>0.108001</td>\n",
       "      <td>OutKast</td>\n",
       "    </tr>\n",
       "    <tr>\n",
       "      <th>6</th>\n",
       "      <td>0.101246</td>\n",
       "      <td>Eric B. &amp; Rakim</td>\n",
       "    </tr>\n",
       "    <tr>\n",
       "      <th>0</th>\n",
       "      <td>0.090342</td>\n",
       "      <td>Pete Rock</td>\n",
       "    </tr>\n",
       "    <tr>\n",
       "      <th>8</th>\n",
       "      <td>0.088345</td>\n",
       "      <td>Murs</td>\n",
       "    </tr>\n",
       "  </tbody>\n",
       "</table>\n",
       "</div>"
      ],
      "text/plain": [
       "   proportion_influence    influencer_name\n",
       "1              0.124236               2Pac\n",
       "5              0.124146  Pharrell Williams\n",
       "3              0.124084              Jay-Z\n",
       "2              0.122706                Nas\n",
       "7              0.116895             Clipse\n",
       "4              0.108001            OutKast\n",
       "6              0.101246    Eric B. & Rakim\n",
       "0              0.090342          Pete Rock\n",
       "8              0.088345               Murs"
      ]
     },
     "execution_count": 320,
     "metadata": {},
     "output_type": "execute_result"
    }
   ],
   "source": [
    "j_cole_prop = compute_influence_proportions(1089515)\n",
    "j_cole_prop"
   ]
  },
  {
   "cell_type": "code",
   "execution_count": 328,
   "metadata": {},
   "outputs": [
    {
     "name": "stdout",
     "output_type": "stream",
     "text": [
      "\\begin{tabular}{lr}\n",
      "\\hline\n",
      " Influencer Name   &   Estimated Influence Proportion \\\\\n",
      "\\hline\n",
      " 2Pac              &                        0.124236  \\\\\n",
      " Pharrell Williams &                        0.124146  \\\\\n",
      " Jay-Z             &                        0.124084  \\\\\n",
      " Nas               &                        0.122706  \\\\\n",
      " Clipse            &                        0.116895  \\\\\n",
      " OutKast           &                        0.108001  \\\\\n",
      " Eric B. \\& Rakim   &                        0.101246  \\\\\n",
      " Pete Rock         &                        0.0903422 \\\\\n",
      " Murs              &                        0.0883447 \\\\\n",
      "\\hline\n",
      "\\end{tabular}\n"
     ]
    }
   ],
   "source": [
    "print tabulate.tabulate(j_cole_prop[j_cole_prop.columns[::-1]], headers=['Influencer Name', 'Estimated Influence Proportion'], tablefmt='latex', showindex=False)"
   ]
  },
  {
   "cell_type": "code",
   "execution_count": 329,
   "metadata": {},
   "outputs": [
    {
     "name": "stdout",
     "output_type": "stream",
     "text": [
      "\\begin{tabular}{lr}\n",
      "\\hline\n",
      " Influencer Name   &   Estimated Influence Proportion \\\\\n",
      "\\hline\n",
      " Roy Eldridge      &                        0.0669437 \\\\\n",
      " Louis Armstrong   &                        0.0664712 \\\\\n",
      " Ben Webster       &                        0.0659504 \\\\\n",
      " Coleman Hawkins   &                        0.0641175 \\\\\n",
      " Benny Carter      &                        0.0634215 \\\\\n",
      " Barney Kessel     &                        0.0631203 \\\\\n",
      " Buster Smith      &                        0.0627861 \\\\\n",
      " Lester Young      &                        0.0623917 \\\\\n",
      " Art Tatum         &                        0.0620452 \\\\\n",
      " Erskine Hawkins   &                        0.0619891 \\\\\n",
      " Johnny Hodges     &                        0.0617768 \\\\\n",
      " Don Byas          &                        0.0614892 \\\\\n",
      " Illinois Jacquet  &                        0.0609022 \\\\\n",
      " Count Basie       &                        0.0594951 \\\\\n",
      " Jay McShann       &                        0.059046  \\\\\n",
      " Jimmy Dorsey      &                        0.058054  \\\\\n",
      "\\hline\n",
      "\\end{tabular}\n"
     ]
    }
   ],
   "source": [
    "print tabulate.tabulate(charlie_parker_prop[charlie_parker_prop.columns[::-1]], headers=['Influencer Name', 'Estimated Influence Proportion'], tablefmt='latex', showindex=False)"
   ]
  },
  {
   "cell_type": "code",
   "execution_count": 342,
   "metadata": {},
   "outputs": [
    {
     "data": {
      "text/html": [
       "<div>\n",
       "<style>\n",
       "    .dataframe thead tr:only-child th {\n",
       "        text-align: right;\n",
       "    }\n",
       "\n",
       "    .dataframe thead th {\n",
       "        text-align: left;\n",
       "    }\n",
       "\n",
       "    .dataframe tbody tr th {\n",
       "        vertical-align: top;\n",
       "    }\n",
       "</style>\n",
       "<table border=\"1\" class=\"dataframe\">\n",
       "  <thead>\n",
       "    <tr style=\"text-align: right;\">\n",
       "      <th></th>\n",
       "      <th>influencer_name</th>\n",
       "      <th>influencer_url</th>\n",
       "      <th>follower_name</th>\n",
       "      <th>follower_url</th>\n",
       "      <th>influencer_id</th>\n",
       "      <th>follower_id</th>\n",
       "    </tr>\n",
       "  </thead>\n",
       "  <tbody>\n",
       "    <tr>\n",
       "      <th>27130</th>\n",
       "      <td>Fats Waller</td>\n",
       "      <td>https://www.allmusic.com/artist/fats-waller-mn...</td>\n",
       "      <td>Dizzy Gillespie</td>\n",
       "      <td>https://www.allmusic.com/artist/dizzy-gillespi...</td>\n",
       "      <td>162762</td>\n",
       "      <td>162677</td>\n",
       "    </tr>\n",
       "    <tr>\n",
       "      <th>33910</th>\n",
       "      <td>Louis Armstrong</td>\n",
       "      <td>https://www.allmusic.com/artist/louis-armstron...</td>\n",
       "      <td>Dizzy Gillespie</td>\n",
       "      <td>https://www.allmusic.com/artist/dizzy-gillespi...</td>\n",
       "      <td>234518</td>\n",
       "      <td>162677</td>\n",
       "    </tr>\n",
       "    <tr>\n",
       "      <th>42170</th>\n",
       "      <td>Sidney Bechet</td>\n",
       "      <td>https://www.allmusic.com/artist/sidney-bechet-...</td>\n",
       "      <td>Dizzy Gillespie</td>\n",
       "      <td>https://www.allmusic.com/artist/dizzy-gillespi...</td>\n",
       "      <td>33234</td>\n",
       "      <td>162677</td>\n",
       "    </tr>\n",
       "    <tr>\n",
       "      <th>43738</th>\n",
       "      <td>Charlie Shavers</td>\n",
       "      <td>https://www.allmusic.com/artist/charlie-shaver...</td>\n",
       "      <td>Dizzy Gillespie</td>\n",
       "      <td>https://www.allmusic.com/artist/dizzy-gillespi...</td>\n",
       "      <td>179732</td>\n",
       "      <td>162677</td>\n",
       "    </tr>\n",
       "    <tr>\n",
       "      <th>43739</th>\n",
       "      <td>Henry \"Red\" Allen</td>\n",
       "      <td>https://www.allmusic.com/artist/henry-red-alle...</td>\n",
       "      <td>Dizzy Gillespie</td>\n",
       "      <td>https://www.allmusic.com/artist/dizzy-gillespi...</td>\n",
       "      <td>675395</td>\n",
       "      <td>162677</td>\n",
       "    </tr>\n",
       "    <tr>\n",
       "      <th>43740</th>\n",
       "      <td>Roy Eldridge</td>\n",
       "      <td>https://www.allmusic.com/artist/roy-eldridge-m...</td>\n",
       "      <td>Dizzy Gillespie</td>\n",
       "      <td>https://www.allmusic.com/artist/dizzy-gillespi...</td>\n",
       "      <td>346637</td>\n",
       "      <td>162677</td>\n",
       "    </tr>\n",
       "    <tr>\n",
       "      <th>43741</th>\n",
       "      <td>Billy Eckstine</td>\n",
       "      <td>https://www.allmusic.com/artist/billy-eckstine...</td>\n",
       "      <td>Dizzy Gillespie</td>\n",
       "      <td>https://www.allmusic.com/artist/dizzy-gillespi...</td>\n",
       "      <td>82584</td>\n",
       "      <td>162677</td>\n",
       "    </tr>\n",
       "    <tr>\n",
       "      <th>43742</th>\n",
       "      <td>Bix Beiderbecke</td>\n",
       "      <td>https://www.allmusic.com/artist/bix-beiderbeck...</td>\n",
       "      <td>Dizzy Gillespie</td>\n",
       "      <td>https://www.allmusic.com/artist/dizzy-gillespi...</td>\n",
       "      <td>104461</td>\n",
       "      <td>162677</td>\n",
       "    </tr>\n",
       "    <tr>\n",
       "      <th>43743</th>\n",
       "      <td>Lionel Hampton</td>\n",
       "      <td>https://www.allmusic.com/artist/lionel-hampton...</td>\n",
       "      <td>Dizzy Gillespie</td>\n",
       "      <td>https://www.allmusic.com/artist/dizzy-gillespi...</td>\n",
       "      <td>833150</td>\n",
       "      <td>162677</td>\n",
       "    </tr>\n",
       "    <tr>\n",
       "      <th>43744</th>\n",
       "      <td>Coleman Hawkins</td>\n",
       "      <td>https://www.allmusic.com/artist/coleman-hawkin...</td>\n",
       "      <td>Dizzy Gillespie</td>\n",
       "      <td>https://www.allmusic.com/artist/dizzy-gillespi...</td>\n",
       "      <td>776363</td>\n",
       "      <td>162677</td>\n",
       "    </tr>\n",
       "    <tr>\n",
       "      <th>43745</th>\n",
       "      <td>Cab Calloway</td>\n",
       "      <td>https://www.allmusic.com/artist/cab-calloway-m...</td>\n",
       "      <td>Dizzy Gillespie</td>\n",
       "      <td>https://www.allmusic.com/artist/dizzy-gillespi...</td>\n",
       "      <td>532957</td>\n",
       "      <td>162677</td>\n",
       "    </tr>\n",
       "    <tr>\n",
       "      <th>43746</th>\n",
       "      <td>Earl Hines</td>\n",
       "      <td>https://www.allmusic.com/artist/earl-hines-mn0...</td>\n",
       "      <td>Dizzy Gillespie</td>\n",
       "      <td>https://www.allmusic.com/artist/dizzy-gillespi...</td>\n",
       "      <td>455522</td>\n",
       "      <td>162677</td>\n",
       "    </tr>\n",
       "    <tr>\n",
       "      <th>43747</th>\n",
       "      <td>Fats Navarro</td>\n",
       "      <td>https://www.allmusic.com/artist/fats-navarro-m...</td>\n",
       "      <td>Dizzy Gillespie</td>\n",
       "      <td>https://www.allmusic.com/artist/dizzy-gillespi...</td>\n",
       "      <td>792175</td>\n",
       "      <td>162677</td>\n",
       "    </tr>\n",
       "    <tr>\n",
       "      <th>43748</th>\n",
       "      <td>Lester Young</td>\n",
       "      <td>https://www.allmusic.com/artist/lester-young-m...</td>\n",
       "      <td>Dizzy Gillespie</td>\n",
       "      <td>https://www.allmusic.com/artist/dizzy-gillespi...</td>\n",
       "      <td>259529</td>\n",
       "      <td>162677</td>\n",
       "    </tr>\n",
       "    <tr>\n",
       "      <th>43749</th>\n",
       "      <td>Bobby Hackett</td>\n",
       "      <td>https://www.allmusic.com/artist/bobby-hackett-...</td>\n",
       "      <td>Dizzy Gillespie</td>\n",
       "      <td>https://www.allmusic.com/artist/dizzy-gillespi...</td>\n",
       "      <td>77698</td>\n",
       "      <td>162677</td>\n",
       "    </tr>\n",
       "    <tr>\n",
       "      <th>43750</th>\n",
       "      <td>Frankie Trumbauer</td>\n",
       "      <td>https://www.allmusic.com/artist/frankie-trumba...</td>\n",
       "      <td>Dizzy Gillespie</td>\n",
       "      <td>https://www.allmusic.com/artist/dizzy-gillespi...</td>\n",
       "      <td>168402</td>\n",
       "      <td>162677</td>\n",
       "    </tr>\n",
       "    <tr>\n",
       "      <th>43751</th>\n",
       "      <td>Lucky Millinder</td>\n",
       "      <td>https://www.allmusic.com/artist/lucky-millinde...</td>\n",
       "      <td>Dizzy Gillespie</td>\n",
       "      <td>https://www.allmusic.com/artist/dizzy-gillespi...</td>\n",
       "      <td>304518</td>\n",
       "      <td>162677</td>\n",
       "    </tr>\n",
       "    <tr>\n",
       "      <th>43752</th>\n",
       "      <td>Mary Lou Williams</td>\n",
       "      <td>https://www.allmusic.com/artist/mary-lou-willi...</td>\n",
       "      <td>Dizzy Gillespie</td>\n",
       "      <td>https://www.allmusic.com/artist/dizzy-gillespi...</td>\n",
       "      <td>859820</td>\n",
       "      <td>162677</td>\n",
       "    </tr>\n",
       "    <tr>\n",
       "      <th>67097</th>\n",
       "      <td>King Oliver</td>\n",
       "      <td>https://www.allmusic.com/artist/king-oliver-mn...</td>\n",
       "      <td>Dizzy Gillespie</td>\n",
       "      <td>https://www.allmusic.com/artist/dizzy-gillespi...</td>\n",
       "      <td>94639</td>\n",
       "      <td>162677</td>\n",
       "    </tr>\n",
       "    <tr>\n",
       "      <th>68713</th>\n",
       "      <td>Benny Carter</td>\n",
       "      <td>https://www.allmusic.com/artist/benny-carter-m...</td>\n",
       "      <td>Dizzy Gillespie</td>\n",
       "      <td>https://www.allmusic.com/artist/dizzy-gillespi...</td>\n",
       "      <td>790083</td>\n",
       "      <td>162677</td>\n",
       "    </tr>\n",
       "  </tbody>\n",
       "</table>\n",
       "</div>"
      ],
      "text/plain": [
       "         influencer_name                                     influencer_url  \\\n",
       "27130        Fats Waller  https://www.allmusic.com/artist/fats-waller-mn...   \n",
       "33910    Louis Armstrong  https://www.allmusic.com/artist/louis-armstron...   \n",
       "42170      Sidney Bechet  https://www.allmusic.com/artist/sidney-bechet-...   \n",
       "43738    Charlie Shavers  https://www.allmusic.com/artist/charlie-shaver...   \n",
       "43739  Henry \"Red\" Allen  https://www.allmusic.com/artist/henry-red-alle...   \n",
       "43740       Roy Eldridge  https://www.allmusic.com/artist/roy-eldridge-m...   \n",
       "43741     Billy Eckstine  https://www.allmusic.com/artist/billy-eckstine...   \n",
       "43742    Bix Beiderbecke  https://www.allmusic.com/artist/bix-beiderbeck...   \n",
       "43743     Lionel Hampton  https://www.allmusic.com/artist/lionel-hampton...   \n",
       "43744    Coleman Hawkins  https://www.allmusic.com/artist/coleman-hawkin...   \n",
       "43745       Cab Calloway  https://www.allmusic.com/artist/cab-calloway-m...   \n",
       "43746         Earl Hines  https://www.allmusic.com/artist/earl-hines-mn0...   \n",
       "43747       Fats Navarro  https://www.allmusic.com/artist/fats-navarro-m...   \n",
       "43748       Lester Young  https://www.allmusic.com/artist/lester-young-m...   \n",
       "43749      Bobby Hackett  https://www.allmusic.com/artist/bobby-hackett-...   \n",
       "43750  Frankie Trumbauer  https://www.allmusic.com/artist/frankie-trumba...   \n",
       "43751    Lucky Millinder  https://www.allmusic.com/artist/lucky-millinde...   \n",
       "43752  Mary Lou Williams  https://www.allmusic.com/artist/mary-lou-willi...   \n",
       "67097        King Oliver  https://www.allmusic.com/artist/king-oliver-mn...   \n",
       "68713       Benny Carter  https://www.allmusic.com/artist/benny-carter-m...   \n",
       "\n",
       "         follower_name                                       follower_url  \\\n",
       "27130  Dizzy Gillespie  https://www.allmusic.com/artist/dizzy-gillespi...   \n",
       "33910  Dizzy Gillespie  https://www.allmusic.com/artist/dizzy-gillespi...   \n",
       "42170  Dizzy Gillespie  https://www.allmusic.com/artist/dizzy-gillespi...   \n",
       "43738  Dizzy Gillespie  https://www.allmusic.com/artist/dizzy-gillespi...   \n",
       "43739  Dizzy Gillespie  https://www.allmusic.com/artist/dizzy-gillespi...   \n",
       "43740  Dizzy Gillespie  https://www.allmusic.com/artist/dizzy-gillespi...   \n",
       "43741  Dizzy Gillespie  https://www.allmusic.com/artist/dizzy-gillespi...   \n",
       "43742  Dizzy Gillespie  https://www.allmusic.com/artist/dizzy-gillespi...   \n",
       "43743  Dizzy Gillespie  https://www.allmusic.com/artist/dizzy-gillespi...   \n",
       "43744  Dizzy Gillespie  https://www.allmusic.com/artist/dizzy-gillespi...   \n",
       "43745  Dizzy Gillespie  https://www.allmusic.com/artist/dizzy-gillespi...   \n",
       "43746  Dizzy Gillespie  https://www.allmusic.com/artist/dizzy-gillespi...   \n",
       "43747  Dizzy Gillespie  https://www.allmusic.com/artist/dizzy-gillespi...   \n",
       "43748  Dizzy Gillespie  https://www.allmusic.com/artist/dizzy-gillespi...   \n",
       "43749  Dizzy Gillespie  https://www.allmusic.com/artist/dizzy-gillespi...   \n",
       "43750  Dizzy Gillespie  https://www.allmusic.com/artist/dizzy-gillespi...   \n",
       "43751  Dizzy Gillespie  https://www.allmusic.com/artist/dizzy-gillespi...   \n",
       "43752  Dizzy Gillespie  https://www.allmusic.com/artist/dizzy-gillespi...   \n",
       "67097  Dizzy Gillespie  https://www.allmusic.com/artist/dizzy-gillespi...   \n",
       "68713  Dizzy Gillespie  https://www.allmusic.com/artist/dizzy-gillespi...   \n",
       "\n",
       "       influencer_id  follower_id  \n",
       "27130         162762       162677  \n",
       "33910         234518       162677  \n",
       "42170          33234       162677  \n",
       "43738         179732       162677  \n",
       "43739         675395       162677  \n",
       "43740         346637       162677  \n",
       "43741          82584       162677  \n",
       "43742         104461       162677  \n",
       "43743         833150       162677  \n",
       "43744         776363       162677  \n",
       "43745         532957       162677  \n",
       "43746         455522       162677  \n",
       "43747         792175       162677  \n",
       "43748         259529       162677  \n",
       "43749          77698       162677  \n",
       "43750         168402       162677  \n",
       "43751         304518       162677  \n",
       "43752         859820       162677  \n",
       "67097          94639       162677  \n",
       "68713         790083       162677  "
      ]
     },
     "execution_count": 342,
     "metadata": {},
     "output_type": "execute_result"
    }
   ],
   "source": [
    "influences[influences['follower_name'] == 'Dizzy Gillespie']"
   ]
  },
  {
   "cell_type": "markdown",
   "metadata": {},
   "source": [
    "# Visualize Embeddings for Each Artist's First Track"
   ]
  },
  {
   "cell_type": "code",
   "execution_count": 78,
   "metadata": {
    "collapsed": true
   },
   "outputs": [],
   "source": [
    "# Use weights from trained model to build a truncated embedding model to get\n",
    "# fixed size embedding for each sample\n",
    "input_shape = INPUT_DIM\n",
    "left_input = Input(input_shape)\n",
    "right_input = Input(input_shape)\n",
    "\n",
    "embedding_model = Sequential()\n",
    "embedding_model.add(Conv2D(64,(10,10),activation='relu',input_shape=input_shape, kernel_regularizer=l2(2e-4), weights=[model.layers[2].get_weights()[0], model.layers[2].get_weights()[1]]))\n",
    "embedding_model.add(MaxPooling2D()) \n",
    "embedding_model.add(Conv2D(128,(7,7),activation='relu', kernel_regularizer=l2(2e-4), weights=[model.layers[2].get_weights()[2], model.layers[2].get_weights()[3]]))\n",
    "embedding_model.add(MaxPooling2D())\n",
    "embedding_model.add(Conv2D(128,(4,4),activation='relu',kernel_regularizer=l2(2e-4), weights=[model.layers[2].get_weights()[4], model.layers[2].get_weights()[5]]))\n",
    "embedding_model.add(MaxPooling2D())\n",
    "embedding_model.add(Conv2D(256,(4,4),activation='relu',kernel_regularizer=l2(2e-4), weights=[model.layers[2].get_weights()[6], model.layers[2].get_weights()[7]]))\n",
    "embedding_model.add(Flatten())\n",
    "embedding_model.add(Dense(4096,activation=\"sigmoid\",kernel_regularizer=l2(1e-3), weights=[model.layers[2].get_weights()[8], model.layers[2].get_weights()[9]]))"
   ]
  },
  {
   "cell_type": "code",
   "execution_count": 84,
   "metadata": {
    "collapsed": true
   },
   "outputs": [],
   "source": [
    "def siamese_embed(ids, embedding_model=embedding_model, n_frames=N_FRAMES):\n",
    "    \"\"\"Generate fixed size embeddings for samples using the trained Siamese network\"\"\"\n",
    "    preds = []\n",
    "    \n",
    "    for id in tqdm_notebook(ids):\n",
    "        # Extract sample of size N_FRAMES from mel_spec representation\n",
    "        sample = sample_frames(np.load(FEATURE_DIR + id2file[id]), n_frames) \n",
    "        pred = embedding_model.predict([sample[np.newaxis, :, :,np.newaxis]])[0]\n",
    "        preds.append(pred)\n",
    "    \n",
    "    return preds"
   ]
  },
  {
   "cell_type": "code",
   "execution_count": 90,
   "metadata": {},
   "outputs": [
    {
     "data": {
      "application/vnd.jupyter.widget-view+json": {
       "model_id": "bd0a66fe4fec486ca01f7fbdfe50fd43",
       "version_major": 2,
       "version_minor": 0
      },
      "text/plain": [
       "A Jupyter Widget"
      ]
     },
     "metadata": {},
     "output_type": "display_data"
    }
   ],
   "source": [
    "ids = id2file.keys()\n",
    "siamese_embeddings = siamese_embed(ids)"
   ]
  },
  {
   "cell_type": "code",
   "execution_count": null,
   "metadata": {
    "collapsed": true
   },
   "outputs": [],
   "source": [
    "# Top 7 most popular genres, removing 'Unknown'\n",
    "top_genres = artists['main_genre'].value_counts()[:8].index.tolist()\n",
    "top_genres.remove('Unknown')"
   ]
  },
  {
   "cell_type": "code",
   "execution_count": null,
   "metadata": {
    "collapsed": true
   },
   "outputs": [],
   "source": [
    "# Filter for ids of artists with > 25 followers\n",
    "ids_filtered = artists[(artists['main_genre'].isin(top_genres))]['id'].tolist()"
   ]
  },
  {
   "cell_type": "code",
   "execution_count": null,
   "metadata": {
    "collapsed": true
   },
   "outputs": [],
   "source": [
    "# Create feature matrix\n",
    "X = []\n",
    "ids = []\n",
    "# Create lists of artist name and main genre for visualization purposes\n",
    "artist_names = []\n",
    "main_genres = []\n",
    "\n",
    "for id in ids_filtered:\n",
    "    try:\n",
    "        X.append(embed_dict[id].flatten())\n",
    "        ids.append(id)\n",
    "        main_genres.append(artists[artists['id'] == id]['main_genre'].iloc[0])\n",
    "        artist_names.append(artists[artists['id'] == id]['name'].iloc[0])\n",
    "\n",
    "    # we don't have audio for some ids, so pass\n",
    "    except Exception as e:\n",
    "        pass\n",
    "\n",
    "X = np.array(X)"
   ]
  },
  {
   "cell_type": "code",
   "execution_count": null,
   "metadata": {
    "collapsed": true
   },
   "outputs": [],
   "source": [
    "# Scale to 0 mean and unit variance\n",
    "scaler = StandardScaler()\n",
    "scaler.fit(X)\n",
    "X_scaled = scaler.transform(X)"
   ]
  },
  {
   "cell_type": "code",
   "execution_count": null,
   "metadata": {
    "collapsed": true
   },
   "outputs": [],
   "source": [
    "pca = PCA(n_components=2)\n",
    "pca.fit(X_scaled)\n",
    "# Reduce dimensionality of X\n",
    "X_reduced = pca.transform(X_scaled)"
   ]
  },
  {
   "cell_type": "code",
   "execution_count": null,
   "metadata": {
    "collapsed": true
   },
   "outputs": [],
   "source": [
    "# Percentage of variance explained\n",
    "pca.explained_variance_ratio_"
   ]
  },
  {
   "cell_type": "code",
   "execution_count": null,
   "metadata": {
    "collapsed": true
   },
   "outputs": [],
   "source": [
    "pca_df = pd.DataFrame(dict(x=X_reduced[:,0], y=X_reduced[:,1], genre=main_genres, name=artist_names))\n",
    "sns.lmplot('x', 'y', data=pca_df, hue='genre', fit_reg=False, scatter_kws={'alpha':0.5})\n",
    "plt.title('First 2 Principle Components of Siamese Embeddings')"
   ]
  }
 ],
 "metadata": {
  "kernelspec": {
   "display_name": "Python 2",
   "language": "python",
   "name": "python2"
  },
  "language_info": {
   "codemirror_mode": {
    "name": "ipython",
    "version": 2
   },
   "file_extension": ".py",
   "mimetype": "text/x-python",
   "name": "python",
   "nbconvert_exporter": "python",
   "pygments_lexer": "ipython2",
   "version": "2.7.13"
  }
 },
 "nbformat": 4,
 "nbformat_minor": 2
}
