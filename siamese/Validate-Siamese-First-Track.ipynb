{
 "cells": [
  {
   "cell_type": "code",
   "execution_count": 1,
   "metadata": {},
   "outputs": [
    {
     "name": "stderr",
     "output_type": "stream",
     "text": [
      "/Users/harryxue/anaconda2/lib/python2.7/site-packages/h5py/__init__.py:34: FutureWarning: Conversion of the second argument of issubdtype from `float` to `np.floating` is deprecated. In future, it will be treated as `np.float64 == np.dtype(float).type`.\n",
      "  from ._conv import register_converters as _register_converters\n",
      "Using TensorFlow backend.\n"
     ]
    }
   ],
   "source": [
    "import numpy as np\n",
    "import pandas as pd\n",
    "import os\n",
    "from keras import backend as K\n",
    "from keras.layers import Input, Conv2D, Lambda, merge, Dense, Flatten, MaxPooling2D\n",
    "from keras.models import Model, Sequential, load_model\n",
    "from keras.regularizers import l2\n",
    "from keras import backend as K\n",
    "import random\n",
    "from tqdm import tqdm_notebook\n",
    "import matplotlib.pyplot as plt\n",
    "import seaborn as sns\n",
    "from sklearn.metrics import accuracy_score, precision_score, recall_score, f1_score\n",
    "%matplotlib inline\n",
    "\n",
    "from sklearn.manifold import TSNE\n",
    "from sklearn.decomposition import PCA\n",
    "from sklearn.preprocessing import StandardScaler\n",
    "\n",
    "import pickle"
   ]
  },
  {
   "cell_type": "code",
   "execution_count": 2,
   "metadata": {
    "collapsed": true
   },
   "outputs": [],
   "source": [
    "N_FRAMES = 128\n",
    "INPUT_DIM = (128, 128, 1)\n",
    "TRAINED_MODEL_PATH = 'trained_models/Siamese_FirstTrack_128x128/Siamese_FirstTrack_128x128.model'\n",
    "HISTORY_PATH = 'trained_models/Siamese_FirstTrack_128x128/history.pickle'\n",
    "FEATURE_DIR = '../data/features/mel_spec_first/'"
   ]
  },
  {
   "cell_type": "code",
   "execution_count": 3,
   "metadata": {},
   "outputs": [
    {
     "name": "stderr",
     "output_type": "stream",
     "text": [
      "/Users/harryxue/anaconda2/lib/python2.7/site-packages/keras/engine/topology.py:1269: UserWarning: The `Merge` layer is deprecated and will be removed after 08/2017. Use instead layers from `keras.layers.merge`, e.g. `add`, `concatenate`, etc.\n",
      "  return cls(**config)\n"
     ]
    }
   ],
   "source": [
    "# Load trained model\n",
    "model = load_model(TRAINED_MODEL_PATH)\n",
    "# Load training history\n",
    "history = pickle.load(open(HISTORY_PATH, 'r'))"
   ]
  },
  {
   "cell_type": "markdown",
   "metadata": {},
   "source": [
    "# Plot training history"
   ]
  },
  {
   "cell_type": "code",
   "execution_count": null,
   "metadata": {
    "collapsed": true
   },
   "outputs": [],
   "source": [
    "pd.Series(history['val_acc']).plot()\n",
    "pd.Series(history['acc']).plot()"
   ]
  },
  {
   "cell_type": "code",
   "execution_count": null,
   "metadata": {
    "collapsed": true
   },
   "outputs": [],
   "source": [
    "pd.Series(history['val_loss']).plot()\n",
    "pd.Series(history['loss']).plot()"
   ]
  },
  {
   "cell_type": "code",
   "execution_count": 4,
   "metadata": {
    "collapsed": true
   },
   "outputs": [],
   "source": [
    "influences = pd.read_csv('../data/allmusic/influences_cleaned.csv')\n",
    "artists = pd.read_csv('../data/allmusic/artists_cleaned.csv')\n",
    "\n",
    "# Create lookup dictionary mapping file id to artist id\n",
    "file2id = {}\n",
    "\n",
    "for filename in os.listdir(FEATURE_DIR):\n",
    "    file2id[filename] = int(filename.split('.npy')[0]) \n",
    "\n",
    "id2file = {id:filename for (filename, id) in file2id.items()}"
   ]
  },
  {
   "cell_type": "code",
   "execution_count": 5,
   "metadata": {
    "collapsed": true
   },
   "outputs": [],
   "source": [
    "# Load validation relationship pairs\n",
    "pos_val_rel, neg_val_rel = np.load('relationships/pos_val_rel.npy'), np.load('relationships/neg_val_rel.npy')"
   ]
  },
  {
   "cell_type": "code",
   "execution_count": 6,
   "metadata": {
    "collapsed": true
   },
   "outputs": [],
   "source": [
    "def sample_frames(melspec, n_frames):\n",
    "    \"\"\"Sample n_frames (contiguous) from a melspec representation\"\"\"\n",
    "    total_frames = melspec.shape[1]\n",
    "    sample_range = range(0, total_frames - n_frames + 1)\n",
    "    sample_index = random.choice(sample_range)\n",
    "    \n",
    "    return melspec[:, sample_index:sample_index + n_frames]"
   ]
  },
  {
   "cell_type": "code",
   "execution_count": 7,
   "metadata": {
    "collapsed": true
   },
   "outputs": [],
   "source": [
    "def predict_val(pos_ex, neg_ex, model=model, n_frames=N_FRAMES):\n",
    "    # Create binary labels for examples\n",
    "    labels = np.concatenate((np.ones(len(pos_ex)), np.zeros(len(neg_ex))))\n",
    "    all_ex = list(zip(np.concatenate((pos_ex, neg_ex)), labels))\n",
    "    examples, labels = zip(*all_ex)\n",
    "    \n",
    "    Y_pred, Y_actual = [], []\n",
    "    \n",
    "    random.shuffle(all_ex)\n",
    "    examples, labels = zip(*all_ex)\n",
    "\n",
    "    for example, label in tqdm_notebook(zip(examples, labels)):\n",
    "        # Extract sample of size N_FRAMES from mel_spec representation\n",
    "        # for each example in pair\n",
    "        pair_first, pair_second = [sample_frames(np.load(FEATURE_DIR + id2file[id]), n_frames) for id in example]\n",
    "        pred = model.predict([pair_first[np.newaxis, :, :,np.newaxis], pair_second[np.newaxis, :, :, np.newaxis]])\n",
    "        Y_pred.append(pred[0][0])\n",
    "        Y_actual.append(label)\n",
    "        \n",
    "    return Y_pred, Y_actual, examples"
   ]
  },
  {
   "cell_type": "code",
   "execution_count": 8,
   "metadata": {},
   "outputs": [
    {
     "data": {
      "application/vnd.jupyter.widget-view+json": {
       "model_id": "73cfa085fe6c442da29571e446a63b41",
       "version_major": 2,
       "version_minor": 0
      },
      "text/plain": [
       "A Jupyter Widget"
      ]
     },
     "metadata": {},
     "output_type": "display_data"
    },
    {
     "name": "stdout",
     "output_type": "stream",
     "text": [
      "\n"
     ]
    }
   ],
   "source": [
    "Y_pred, Y_actual, id_pairs = predict_val(pos_val_rel, neg_val_rel)"
   ]
  },
  {
   "cell_type": "code",
   "execution_count": 12,
   "metadata": {},
   "outputs": [],
   "source": [
    "# Save val predictions since prediction takes long time\n",
    "pickle.dump(Y_pred, open('val_pred/Y_pred.npy', 'wb'))\n",
    "pickle.dump(Y_actual, open('val_pred/Y_actual.npy', 'wb'))\n",
    "pickle.dump(id_pairs, open('val_pred/id_pairs.npy', 'wb'))"
   ]
  },
  {
   "cell_type": "markdown",
   "metadata": {},
   "source": [
    "# Precision, Recall, F-Score"
   ]
  },
  {
   "cell_type": "code",
   "execution_count": 13,
   "metadata": {},
   "outputs": [
    {
     "data": {
      "text/plain": [
       "0.7049833438372197"
      ]
     },
     "execution_count": 13,
     "metadata": {},
     "output_type": "execute_result"
    }
   ],
   "source": [
    "accuracy_score(Y_actual, np.array(Y_pred) > 0.5)"
   ]
  },
  {
   "cell_type": "code",
   "execution_count": 14,
   "metadata": {},
   "outputs": [
    {
     "data": {
      "text/plain": [
       "0.6925125776857058"
      ]
     },
     "execution_count": 14,
     "metadata": {},
     "output_type": "execute_result"
    }
   ],
   "source": [
    "precision_score(Y_actual, np.array(Y_pred) > 0.5)"
   ]
  },
  {
   "cell_type": "code",
   "execution_count": 15,
   "metadata": {},
   "outputs": [
    {
     "data": {
      "text/plain": [
       "0.7373728279463402"
      ]
     },
     "execution_count": 15,
     "metadata": {},
     "output_type": "execute_result"
    }
   ],
   "source": [
    "recall_score(Y_actual, np.array(Y_pred) > 0.5)"
   ]
  },
  {
   "cell_type": "code",
   "execution_count": 16,
   "metadata": {},
   "outputs": [
    {
     "data": {
      "text/plain": [
       "0.7142389953561384"
      ]
     },
     "execution_count": 16,
     "metadata": {},
     "output_type": "execute_result"
    }
   ],
   "source": [
    "f1_score(Y_actual, np.array(Y_pred) > 0.5)"
   ]
  },
  {
   "cell_type": "markdown",
   "metadata": {},
   "source": [
    "# Accuracy for Same Genre Pairs v. Different Genre Pairs"
   ]
  },
  {
   "cell_type": "code",
   "execution_count": 17,
   "metadata": {
    "collapsed": true
   },
   "outputs": [],
   "source": [
    "# Create df for tracking whether genres are the same or not\n",
    "genre_same_df = pd.DataFrame({'Y_actual': Y_actual, 'Y_pred': (pd.Series(Y_pred) > 0.5).apply(float), 'id_pair': id_pairs})"
   ]
  },
  {
   "cell_type": "code",
   "execution_count": 18,
   "metadata": {
    "collapsed": true
   },
   "outputs": [],
   "source": [
    "# Add column for whether genre is the same\n",
    "genre_same_df['same_genre'] = genre_same_df['id_pair'].map(lambda x: artists[artists['id'] == x[0]]['main_genre'].iloc[0] == artists[artists['id'] == x[1]]['main_genre'].iloc[0])"
   ]
  },
  {
   "cell_type": "code",
   "execution_count": 19,
   "metadata": {
    "collapsed": true
   },
   "outputs": [],
   "source": [
    "# Add shared genre label if genre is the same\n",
    "genre_same_df['shared_genre'] = genre_same_df['id_pair'].map(lambda x: artists[artists['id'] == x[0]]['main_genre'].iloc[0] if artists[artists['id'] == x[0]]['main_genre'].iloc[0] == artists[artists['id'] == x[1]]['main_genre'].iloc[0] else None)"
   ]
  },
  {
   "cell_type": "code",
   "execution_count": 21,
   "metadata": {},
   "outputs": [
    {
     "name": "stdout",
     "output_type": "stream",
     "text": [
      "same_genre\n",
      "False    0.697102\n",
      "True     0.713427\n",
      "dtype: float64\n",
      "same_genre\n",
      "False    0.419786\n",
      "True     0.848382\n",
      "dtype: float64\n",
      "same_genre\n",
      "False    0.647133\n",
      "True     0.767645\n",
      "dtype: float64\n",
      "same_genre\n",
      "False    0.509237\n",
      "True     0.805997\n",
      "dtype: float64\n"
     ]
    }
   ],
   "source": [
    "# Calculate accuracy, precision, recall, F1 score\n",
    "# for same genre pairs v. different pairs\n",
    "print genre_same_df.groupby('same_genre').apply(lambda x: accuracy_score(x['Y_actual'], x['Y_pred']))\n",
    "print genre_same_df.groupby('same_genre').apply(lambda x: precision_score(x['Y_actual'], x['Y_pred']))\n",
    "print genre_same_df.groupby('same_genre').apply(lambda x: recall_score(x['Y_actual'], x['Y_pred']))\n",
    "print genre_same_df.groupby('same_genre').apply(lambda x: f1_score(x['Y_actual'], x['Y_pred']))"
   ]
  },
  {
   "cell_type": "code",
   "execution_count": 22,
   "metadata": {},
   "outputs": [
    {
     "data": {
      "text/plain": [
       "<matplotlib.axes._subplots.AxesSubplot at 0x1a17843e90>"
      ]
     },
     "execution_count": 22,
     "metadata": {},
     "output_type": "execute_result"
    },
    {
     "data": {
      "image/png": "[encoded data removed]",
      "text/plain": [
       "<matplotlib.figure.Figure at 0x1a17852fd0>"
      ]
     },
     "metadata": {},
     "output_type": "display_data"
    }
   ],
   "source": [
    "# Accuracy, precision, recall by genre for subset where genre is the same\n",
    "genre_same_df[genre_same_df['same_genre'] == True].groupby('shared_genre')\\\n",
    "                                                .apply(lambda x: accuracy_score(x['Y_actual'], x['Y_pred']))\\\n",
    "                                                .sort_values()\\\n",
    "                                                .plot('bar', title='Accuracy by Genre')"
   ]
  },
  {
   "cell_type": "code",
   "execution_count": 23,
   "metadata": {},
   "outputs": [
    {
     "data": {
      "text/plain": [
       "<matplotlib.axes._subplots.AxesSubplot at 0x1a19f2bed0>"
      ]
     },
     "execution_count": 23,
     "metadata": {},
     "output_type": "execute_result"
    },
    {
     "data": {
      "image/png": "[encoded data removed]",
      "text/plain": [
       "<matplotlib.figure.Figure at 0x1a1d3cd690>"
      ]
     },
     "metadata": {},
     "output_type": "display_data"
    }
   ],
   "source": [
    "# Accuracy, precision, recall by genre for subset where genre is the same\n",
    "genre_same_df[genre_same_df['same_genre'] == True].groupby('shared_genre')\\\n",
    "                                                .apply(lambda x: precision_score(x['Y_actual'], x['Y_pred']))\\\n",
    "                                                .sort_values()\\\n",
    "                                                .plot('bar', title='Precision by Genre')"
   ]
  },
  {
   "cell_type": "markdown",
   "metadata": {},
   "source": [
    "### Accuracy, precision, recall by genre for subset where genre is the same"
   ]
  },
  {
   "cell_type": "code",
   "execution_count": 24,
   "metadata": {},
   "outputs": [
    {
     "name": "stderr",
     "output_type": "stream",
     "text": [
      "/Users/harryxue/anaconda2/lib/python2.7/site-packages/sklearn/metrics/classification.py:1137: UndefinedMetricWarning: Recall is ill-defined and being set to 0.0 due to no true samples.\n",
      "  'recall', 'true', average, warn_for)\n"
     ]
    },
    {
     "data": {
      "text/plain": [
       "<matplotlib.axes._subplots.AxesSubplot at 0x1a1b1f6450>"
      ]
     },
     "execution_count": 24,
     "metadata": {},
     "output_type": "execute_result"
    },
    {
     "data": {
      "image/png": "[encoded data removed]",
      "text/plain": [
       "<matplotlib.figure.Figure at 0x10417e550>"
      ]
     },
     "metadata": {},
     "output_type": "display_data"
    }
   ],
   "source": [
    "genre_same_df[genre_same_df['same_genre'] == True].groupby('shared_genre')\\\n",
    "                                                .apply(lambda x: recall_score(x['Y_actual'], x['Y_pred']))\\\n",
    "                                                .sort_values()\\\n",
    "                                                .plot('bar', title='Recall by Genre')"
   ]
  },
  {
   "cell_type": "markdown",
   "metadata": {},
   "source": [
    "# Baseline: Accuracy for Samples From Same Song"
   ]
  },
  {
   "cell_type": "code",
   "execution_count": null,
   "metadata": {
    "collapsed": true
   },
   "outputs": [],
   "source": [
    "# Create \"pairs\" of the same id repeated to use as baseline\n",
    "unique_val_ids = np.unique(np.append(neg_val_rel.flatten(), pos_val_rel.flatten()))\n",
    "same_id_pairs = np.array([[id, id] for id in unique_val_ids])"
   ]
  },
  {
   "cell_type": "code",
   "execution_count": null,
   "metadata": {
    "collapsed": true
   },
   "outputs": [],
   "source": [
    "def predict_val_same_song(same_id_pairs, model=model, n_frames=N_FRAMES):\n",
    "    # Create binary labels for examples\n",
    "    labels = np.ones(len(same_id_pairs))\n",
    "    all_ex = list(zip(same_id_pairs, labels))\n",
    "    examples, labels = zip(*all_ex)\n",
    "    \n",
    "    Y_pred, Y_actual = [], []\n",
    "    \n",
    "    random.shuffle(all_ex)\n",
    "    examples, labels = zip(*all_ex)\n",
    "\n",
    "    for example, label in tqdm_notebook(zip(examples, labels)):\n",
    "        # Extract sample of size N_FRAMES from mel_spec representation\n",
    "        # for each example in pair\n",
    "        pair_first, pair_second = [sample_frames(np.load(FEATURE_DIR + id2file[id]), n_frames) for id in example]\n",
    "        pred = model.predict([pair_first[np.newaxis, :, :,np.newaxis], pair_second[np.newaxis, :, :, np.newaxis]])\n",
    "        Y_pred.append(pred[0][0])\n",
    "        Y_actual.append(label)\n",
    "        \n",
    "    return Y_pred, Y_actual, examples"
   ]
  },
  {
   "cell_type": "code",
   "execution_count": null,
   "metadata": {
    "collapsed": true
   },
   "outputs": [],
   "source": [
    "Y_pred_same, Y_actual_same, id_pairs_shuffled = predict_val_same_song(same_id_pairs)"
   ]
  },
  {
   "cell_type": "code",
   "execution_count": null,
   "metadata": {
    "collapsed": true
   },
   "outputs": [],
   "source": [
    "accuracy_score(Y_actual_same, np.array(Y_pred_same) > 0.5)"
   ]
  },
  {
   "cell_type": "markdown",
   "metadata": {},
   "source": [
    "# Embed First Tracks for Each Artist and Visualize"
   ]
  },
  {
   "cell_type": "code",
   "execution_count": null,
   "metadata": {
    "collapsed": true
   },
   "outputs": [],
   "source": [
    "# Use weights from trained model to build a truncated embedding model to get\n",
    "# fixed size embedding for each sample\n",
    "input_shape = INPUT_DIM\n",
    "left_input = Input(input_shape)\n",
    "right_input = Input(input_shape)\n",
    "\n",
    "embedding_model = Sequential()\n",
    "embedding_model.add(Conv2D(64,(10,10),activation='relu',input_shape=input_shape, kernel_regularizer=l2(2e-4), weights=[model.layers[2].get_weights()[0], model.layers[2].get_weights()[1]]))\n",
    "embedding_model.add(MaxPooling2D()) \n",
    "embedding_model.add(Conv2D(128,(7,7),activation='relu', kernel_regularizer=l2(2e-4), weights=[model.layers[2].get_weights()[2], model.layers[2].get_weights()[3]]))\n",
    "embedding_model.add(MaxPooling2D())\n",
    "embedding_model.add(Conv2D(128,(4,4),activation='relu',kernel_regularizer=l2(2e-4), weights=[model.layers[2].get_weights()[4], model.layers[2].get_weights()[5]]))\n",
    "embedding_model.add(MaxPooling2D())\n",
    "embedding_model.add(Conv2D(256,(4,4),activation='relu',kernel_regularizer=l2(2e-4), weights=[model.layers[2].get_weights()[6], model.layers[2].get_weights()[7]]))\n",
    "embedding_model.add(Flatten())\n",
    "embedding_model.add(Dense(4096,activation=\"sigmoid\",kernel_regularizer=l2(1e-3), weights=[model.layers[2].get_weights()[8], model.layers[2].get_weights()[9]]))"
   ]
  },
  {
   "cell_type": "code",
   "execution_count": null,
   "metadata": {
    "collapsed": true
   },
   "outputs": [],
   "source": [
    "def siamese_embed(ids, embedding_model=embedding_model, n_frames=N_FRAMES):\n",
    "    \"\"\"Generate fixed size embeddings for samples using the trained Siamese network\"\"\"\n",
    "    preds = []\n",
    "    \n",
    "    for id in tqdm_notebook(ids):\n",
    "        # Extract sample of size N_FRAMES from mel_spec representation\n",
    "        # for each example in pair\n",
    "        sample = sample_frames(np.load(FEATURE_DIR + id2file[id]), n_frames) \n",
    "        pred = embedding_model.predict([sample[np.newaxis, :, :,np.newaxis]])[0]\n",
    "        preds.append(pred)\n",
    "    \n",
    "    return preds"
   ]
  },
  {
   "cell_type": "code",
   "execution_count": null,
   "metadata": {
    "collapsed": true
   },
   "outputs": [],
   "source": [
    "ids = id2file.keys()\n",
    "siamese_embeddings = siamese_embed(ids)"
   ]
  },
  {
   "cell_type": "code",
   "execution_count": null,
   "metadata": {
    "collapsed": true
   },
   "outputs": [],
   "source": [
    "# Create dict mapping id to embedding\n",
    "embed_dict = dict(zip(ids, siamese_embeddings))"
   ]
  },
  {
   "cell_type": "code",
   "execution_count": null,
   "metadata": {
    "collapsed": true
   },
   "outputs": [],
   "source": [
    "# Top 7 most popular genres, removing 'Unknown'\n",
    "top_genres = artists['main_genre'].value_counts()[:8].index.tolist()\n",
    "top_genres.remove('Unknown')"
   ]
  },
  {
   "cell_type": "code",
   "execution_count": null,
   "metadata": {
    "collapsed": true
   },
   "outputs": [],
   "source": [
    "# Filter for ids of artists with > 25 followers\n",
    "ids_filtered = artists[(artists['main_genre'].isin(top_genres))]['id'].tolist()"
   ]
  },
  {
   "cell_type": "code",
   "execution_count": null,
   "metadata": {
    "collapsed": true
   },
   "outputs": [],
   "source": [
    "# Create feature matrix\n",
    "X = []\n",
    "ids = []\n",
    "# Create lists of artist name and main genre for visualization purposes\n",
    "artist_names = []\n",
    "main_genres = []\n",
    "\n",
    "for id in ids_filtered:\n",
    "    try:\n",
    "        X.append(embed_dict[id].flatten())\n",
    "        ids.append(id)\n",
    "        main_genres.append(artists[artists['id'] == id]['main_genre'].iloc[0])\n",
    "        artist_names.append(artists[artists['id'] == id]['name'].iloc[0])\n",
    "\n",
    "    # we don't have audio for some ids, so pass\n",
    "    except Exception as e:\n",
    "        pass\n",
    "\n",
    "X = np.array(X)"
   ]
  },
  {
   "cell_type": "code",
   "execution_count": null,
   "metadata": {
    "collapsed": true
   },
   "outputs": [],
   "source": [
    "# Scale to 0 mean and unit variance\n",
    "scaler = StandardScaler()\n",
    "scaler.fit(X)\n",
    "X_scaled = scaler.transform(X)"
   ]
  },
  {
   "cell_type": "code",
   "execution_count": null,
   "metadata": {
    "collapsed": true
   },
   "outputs": [],
   "source": [
    "pca = PCA(n_components=2)\n",
    "pca.fit(X_scaled)\n",
    "# Reduce dimensionality of X\n",
    "X_reduced = pca.transform(X_scaled)"
   ]
  },
  {
   "cell_type": "code",
   "execution_count": null,
   "metadata": {
    "collapsed": true
   },
   "outputs": [],
   "source": [
    "# Percentage of variance explained\n",
    "pca.explained_variance_ratio_"
   ]
  },
  {
   "cell_type": "code",
   "execution_count": null,
   "metadata": {
    "collapsed": true
   },
   "outputs": [],
   "source": [
    "pca_df = pd.DataFrame(dict(x=X_reduced[:,0], y=X_reduced[:,1], genre=main_genres, name=artist_names))\n",
    "sns.lmplot('x', 'y', data=pca_df, hue='genre', fit_reg=False, scatter_kws={'alpha':0.5})\n",
    "plt.title('First 2 Principle Components of Siamese Embeddings')"
   ]
  }
 ],
 "metadata": {
  "kernelspec": {
   "display_name": "Python 2",
   "language": "python",
   "name": "python2"
  },
  "language_info": {
   "codemirror_mode": {
    "name": "ipython",
    "version": 2
   },
   "file_extension": ".py",
   "mimetype": "text/x-python",
   "name": "python",
   "nbconvert_exporter": "python",
   "pygments_lexer": "ipython2",
   "version": "2.7.13"
  }
 },
 "nbformat": 4,
 "nbformat_minor": 2
}
