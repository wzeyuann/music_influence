{
 "cells": [
  {
   "cell_type": "code",
   "execution_count": 35,
   "metadata": {},
   "outputs": [],
   "source": [
    "from re import sub\n",
    "import json\n",
    "import numpy as np\n",
    "import pandas as pd\n",
    "import matplotlib.pyplot as plt\n",
    "import networkx as nx\n",
    "%matplotlib inline"
   ]
  },
  {
   "cell_type": "markdown",
   "metadata": {},
   "source": [
    "# Load data"
   ]
  },
  {
   "cell_type": "code",
   "execution_count": null,
   "metadata": {
    "collapsed": true
   },
   "outputs": [],
   "source": [
    "file = open('data/linkedjazz/all_relationships.txt', 'r')\n",
    "\n",
    "# Create relationship dataframe\n",
    "df = pd.DataFrame(columns=[\"subject\", \"relation\", \"object\"])\n",
    "\n",
    "for line in file:\n",
    "    try:\n",
    "        subj, relation, obj, _ = line.split(\" \")\n",
    "        # Extract entities from URLs\n",
    "        subj_entity = subj.split('/')[-1].strip('>')\n",
    "        relation_entity = relation.split('/')[-1].strip('>')\n",
    "        obj_entity = obj.split('/')[-1].strip('>')\n",
    "\n",
    "        df = df.append({\n",
    "         \"subject\": subj_entity,\n",
    "         \"relation\":  relation_entity,\n",
    "         \"object\": obj_entity\n",
    "          }, ignore_index=True)\n",
    "    except:\n",
    "        print line"
   ]
  },
  {
   "cell_type": "markdown",
   "metadata": {},
   "source": [
    "# Summary Statistics"
   ]
  },
  {
   "cell_type": "code",
   "execution_count": 20,
   "metadata": {},
   "outputs": [
    {
     "data": {
      "text/html": [
       "<div>\n",
       "<style>\n",
       "    .dataframe thead tr:only-child th {\n",
       "        text-align: right;\n",
       "    }\n",
       "\n",
       "    .dataframe thead th {\n",
       "        text-align: left;\n",
       "    }\n",
       "\n",
       "    .dataframe tbody tr th {\n",
       "        vertical-align: top;\n",
       "    }\n",
       "</style>\n",
       "<table border=\"1\" class=\"dataframe\">\n",
       "  <thead>\n",
       "    <tr style=\"text-align: right;\">\n",
       "      <th></th>\n",
       "      <th>subject</th>\n",
       "      <th>relation</th>\n",
       "      <th>object</th>\n",
       "    </tr>\n",
       "  </thead>\n",
       "  <tbody>\n",
       "    <tr>\n",
       "      <th>0</th>\n",
       "      <td>Sam_Rivers</td>\n",
       "      <td>knowsOf</td>\n",
       "      <td>Alan_Dawson</td>\n",
       "    </tr>\n",
       "    <tr>\n",
       "      <th>1</th>\n",
       "      <td>Sam_Rivers</td>\n",
       "      <td>collaborated_with</td>\n",
       "      <td>Alan_Dawson</td>\n",
       "    </tr>\n",
       "    <tr>\n",
       "      <th>2</th>\n",
       "      <td>Sam_Rivers</td>\n",
       "      <td>hasMet</td>\n",
       "      <td>Alan_Dawson</td>\n",
       "    </tr>\n",
       "    <tr>\n",
       "      <th>3</th>\n",
       "      <td>Sam_Rivers</td>\n",
       "      <td>knowsOf</td>\n",
       "      <td>Alan_Dawson</td>\n",
       "    </tr>\n",
       "    <tr>\n",
       "      <th>4</th>\n",
       "      <td>Sam_Rivers</td>\n",
       "      <td>collaborated_with</td>\n",
       "      <td>Alan_Dawson</td>\n",
       "    </tr>\n",
       "  </tbody>\n",
       "</table>\n",
       "</div>"
      ],
      "text/plain": [
       "      subject           relation       object\n",
       "0  Sam_Rivers            knowsOf  Alan_Dawson\n",
       "1  Sam_Rivers  collaborated_with  Alan_Dawson\n",
       "2  Sam_Rivers             hasMet  Alan_Dawson\n",
       "3  Sam_Rivers            knowsOf  Alan_Dawson\n",
       "4  Sam_Rivers  collaborated_with  Alan_Dawson"
      ]
     },
     "execution_count": 20,
     "metadata": {},
     "output_type": "execute_result"
    }
   ],
   "source": [
    "df.head()"
   ]
  },
  {
   "cell_type": "code",
   "execution_count": 34,
   "metadata": {},
   "outputs": [
    {
     "data": {
      "text/html": [
       "<div>\n",
       "<style>\n",
       "    .dataframe thead tr:only-child th {\n",
       "        text-align: right;\n",
       "    }\n",
       "\n",
       "    .dataframe thead th {\n",
       "        text-align: left;\n",
       "    }\n",
       "\n",
       "    .dataframe tbody tr th {\n",
       "        vertical-align: top;\n",
       "    }\n",
       "</style>\n",
       "<table border=\"1\" class=\"dataframe\">\n",
       "  <thead>\n",
       "    <tr>\n",
       "      <th></th>\n",
       "      <th colspan=\"4\" halign=\"left\">object</th>\n",
       "      <th colspan=\"4\" halign=\"left\">subject</th>\n",
       "    </tr>\n",
       "    <tr>\n",
       "      <th></th>\n",
       "      <th>count</th>\n",
       "      <th>unique</th>\n",
       "      <th>top</th>\n",
       "      <th>freq</th>\n",
       "      <th>count</th>\n",
       "      <th>unique</th>\n",
       "      <th>top</th>\n",
       "      <th>freq</th>\n",
       "    </tr>\n",
       "    <tr>\n",
       "      <th>relation</th>\n",
       "      <th></th>\n",
       "      <th></th>\n",
       "      <th></th>\n",
       "      <th></th>\n",
       "      <th></th>\n",
       "      <th></th>\n",
       "      <th></th>\n",
       "      <th></th>\n",
       "    </tr>\n",
       "  </thead>\n",
       "  <tbody>\n",
       "    <tr>\n",
       "      <th>acquaintanceOf</th>\n",
       "      <td>274</td>\n",
       "      <td>200</td>\n",
       "      <td>Count_Basie</td>\n",
       "      <td>19</td>\n",
       "      <td>274</td>\n",
       "      <td>51</td>\n",
       "      <td>Sam_Rivers</td>\n",
       "      <td>20</td>\n",
       "    </tr>\n",
       "    <tr>\n",
       "      <th>bandLeaderOf</th>\n",
       "      <td>19</td>\n",
       "      <td>19</td>\n",
       "      <td>George_Avakian</td>\n",
       "      <td>1</td>\n",
       "      <td>19</td>\n",
       "      <td>12</td>\n",
       "      <td>Roy_Haynes</td>\n",
       "      <td>4</td>\n",
       "    </tr>\n",
       "    <tr>\n",
       "      <th>bandmember</th>\n",
       "      <td>54</td>\n",
       "      <td>42</td>\n",
       "      <td>Count_Basie</td>\n",
       "      <td>8</td>\n",
       "      <td>54</td>\n",
       "      <td>28</td>\n",
       "      <td>Buddy_DeFranco</td>\n",
       "      <td>8</td>\n",
       "    </tr>\n",
       "    <tr>\n",
       "      <th>collaborated_with</th>\n",
       "      <td>255</td>\n",
       "      <td>207</td>\n",
       "      <td>Count_Basie</td>\n",
       "      <td>8</td>\n",
       "      <td>255</td>\n",
       "      <td>39</td>\n",
       "      <td>Jimmy_Scott</td>\n",
       "      <td>25</td>\n",
       "    </tr>\n",
       "    <tr>\n",
       "      <th>friendOf</th>\n",
       "      <td>254</td>\n",
       "      <td>176</td>\n",
       "      <td>Count_Basie</td>\n",
       "      <td>16</td>\n",
       "      <td>254</td>\n",
       "      <td>49</td>\n",
       "      <td>Dave_Brubeck</td>\n",
       "      <td>22</td>\n",
       "    </tr>\n",
       "    <tr>\n",
       "      <th>hasMet</th>\n",
       "      <td>280</td>\n",
       "      <td>195</td>\n",
       "      <td>Count_Basie</td>\n",
       "      <td>19</td>\n",
       "      <td>280</td>\n",
       "      <td>45</td>\n",
       "      <td>Sam_Rivers</td>\n",
       "      <td>20</td>\n",
       "    </tr>\n",
       "    <tr>\n",
       "      <th>inBandTogether</th>\n",
       "      <td>105</td>\n",
       "      <td>89</td>\n",
       "      <td>Count_Basie</td>\n",
       "      <td>6</td>\n",
       "      <td>105</td>\n",
       "      <td>36</td>\n",
       "      <td>Buddy_DeFranco</td>\n",
       "      <td>15</td>\n",
       "    </tr>\n",
       "    <tr>\n",
       "      <th>influencedBy</th>\n",
       "      <td>338</td>\n",
       "      <td>196</td>\n",
       "      <td>Louis_Armstrong</td>\n",
       "      <td>21</td>\n",
       "      <td>338</td>\n",
       "      <td>52</td>\n",
       "      <td>Sam_Rivers</td>\n",
       "      <td>32</td>\n",
       "    </tr>\n",
       "    <tr>\n",
       "      <th>knowsOf</th>\n",
       "      <td>3449</td>\n",
       "      <td>1746</td>\n",
       "      <td>Count_Basie</td>\n",
       "      <td>38</td>\n",
       "      <td>3449</td>\n",
       "      <td>53</td>\n",
       "      <td>Louie_Bellson</td>\n",
       "      <td>288</td>\n",
       "    </tr>\n",
       "    <tr>\n",
       "      <th>mentorOf</th>\n",
       "      <td>181</td>\n",
       "      <td>137</td>\n",
       "      <td>Count_Basie</td>\n",
       "      <td>13</td>\n",
       "      <td>181</td>\n",
       "      <td>45</td>\n",
       "      <td>Oscar_Peterson</td>\n",
       "      <td>23</td>\n",
       "    </tr>\n",
       "    <tr>\n",
       "      <th>playedTogether</th>\n",
       "      <td>220</td>\n",
       "      <td>163</td>\n",
       "      <td>Count_Basie</td>\n",
       "      <td>12</td>\n",
       "      <td>220</td>\n",
       "      <td>43</td>\n",
       "      <td>Roy_Eldridge</td>\n",
       "      <td>22</td>\n",
       "    </tr>\n",
       "    <tr>\n",
       "      <th>touredWith</th>\n",
       "      <td>76</td>\n",
       "      <td>68</td>\n",
       "      <td>Louis_Armstrong</td>\n",
       "      <td>5</td>\n",
       "      <td>76</td>\n",
       "      <td>30</td>\n",
       "      <td>Slide_Hampton</td>\n",
       "      <td>10</td>\n",
       "    </tr>\n",
       "  </tbody>\n",
       "</table>\n",
       "</div>"
      ],
      "text/plain": [
       "                  object                              subject         \\\n",
       "                   count unique              top freq   count unique   \n",
       "relation                                                               \n",
       "acquaintanceOf       274    200      Count_Basie   19     274     51   \n",
       "bandLeaderOf          19     19   George_Avakian    1      19     12   \n",
       "bandmember            54     42      Count_Basie    8      54     28   \n",
       "collaborated_with    255    207      Count_Basie    8     255     39   \n",
       "friendOf             254    176      Count_Basie   16     254     49   \n",
       "hasMet               280    195      Count_Basie   19     280     45   \n",
       "inBandTogether       105     89      Count_Basie    6     105     36   \n",
       "influencedBy         338    196  Louis_Armstrong   21     338     52   \n",
       "knowsOf             3449   1746      Count_Basie   38    3449     53   \n",
       "mentorOf             181    137      Count_Basie   13     181     45   \n",
       "playedTogether       220    163      Count_Basie   12     220     43   \n",
       "touredWith            76     68  Louis_Armstrong    5      76     30   \n",
       "\n",
       "                                        \n",
       "                              top freq  \n",
       "relation                                \n",
       "acquaintanceOf         Sam_Rivers   20  \n",
       "bandLeaderOf           Roy_Haynes    4  \n",
       "bandmember         Buddy_DeFranco    8  \n",
       "collaborated_with     Jimmy_Scott   25  \n",
       "friendOf             Dave_Brubeck   22  \n",
       "hasMet                 Sam_Rivers   20  \n",
       "inBandTogether     Buddy_DeFranco   15  \n",
       "influencedBy           Sam_Rivers   32  \n",
       "knowsOf             Louie_Bellson  288  \n",
       "mentorOf           Oscar_Peterson   23  \n",
       "playedTogether       Roy_Eldridge   22  \n",
       "touredWith          Slide_Hampton   10  "
      ]
     },
     "execution_count": 34,
     "metadata": {},
     "output_type": "execute_result"
    }
   ],
   "source": [
    "# Describe counts by relation type\n",
    "df.drop_duplicates().groupby('relation').describe()"
   ]
  },
  {
   "cell_type": "code",
   "execution_count": 47,
   "metadata": {},
   "outputs": [
    {
     "data": {
      "text/plain": [
       "1761"
      ]
     },
     "execution_count": 47,
     "metadata": {},
     "output_type": "execute_result"
    }
   ],
   "source": [
    "# Number of unique artists in dataset\n",
    "len(pd.unique(df['subject'].append(df['object'])))"
   ]
  },
  {
   "cell_type": "markdown",
   "metadata": {},
   "source": [
    "# Create Network"
   ]
  },
  {
   "cell_type": "code",
   "execution_count": 66,
   "metadata": {},
   "outputs": [],
   "source": [
    "G = nx.from_pandas_dataframe(df, source='subject', target='object', edge_attr='relation')"
   ]
  },
  {
   "cell_type": "code",
   "execution_count": 67,
   "metadata": {},
   "outputs": [
    {
     "data": {
      "text/plain": [
       "<networkx.classes.digraph.DiGraph at 0x10852fb10>"
      ]
     },
     "execution_count": 67,
     "metadata": {},
     "output_type": "execute_result"
    }
   ],
   "source": [
    "G.to_directed()"
   ]
  },
  {
   "cell_type": "code",
   "execution_count": 73,
   "metadata": {},
   "outputs": [],
   "source": [
    "# Subset for only influenced by relationships\n",
    "influence_graph = nx.DiGraph([(u,v,d) for u,v,d in G.edges(data=True) if d['relation']=='influencedBy'] )"
   ]
  },
  {
   "cell_type": "code",
   "execution_count": 75,
   "metadata": {
    "collapsed": true
   },
   "outputs": [],
   "source": [
    "# Write to Gephi file format\n",
    "nx.write_gexf(influence_graph,'influence_relationships.gexf')"
   ]
  },
  {
   "cell_type": "code",
   "execution_count": 76,
   "metadata": {},
   "outputs": [],
   "source": [
    "nx.write_gexf(G,'all_relationships.gexf')"
   ]
  }
 ],
 "metadata": {
  "kernelspec": {
   "display_name": "Python 2",
   "language": "python",
   "name": "python2"
  },
  "language_info": {
   "codemirror_mode": {
    "name": "ipython",
    "version": 2
   },
   "file_extension": ".py",
   "mimetype": "text/x-python",
   "name": "python",
   "nbconvert_exporter": "python",
   "pygments_lexer": "ipython2",
   "version": "2.7.10"
  }
 },
 "nbformat": 4,
 "nbformat_minor": 2
}
